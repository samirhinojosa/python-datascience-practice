{
 "nbformat": 4,
 "nbformat_minor": 2,
 "metadata": {
  "language_info": {
   "name": "python",
   "codemirror_mode": {
    "name": "ipython",
    "version": 3
   },
   "version": "3.8.1-final"
  },
  "orig_nbformat": 2,
  "file_extension": ".py",
  "mimetype": "text/x-python",
  "name": "python",
  "npconvert_exporter": "python",
  "pygments_lexer": "ipython3",
  "version": 3,
  "kernelspec": {
   "name": "python38164bit8bd48047f4ae4d048e49ec31e2e3ae46",
   "display_name": "Python 3.8.1 64-bit"
  }
 },
 "cells": [
  {
   "cell_type": "code",
   "execution_count": 9,
   "metadata": {},
   "outputs": [
    {
     "data": {
      "text/html": "<div>\n<style scoped>\n    .dataframe tbody tr th:only-of-type {\n        vertical-align: middle;\n    }\n\n    .dataframe tbody tr th {\n        vertical-align: top;\n    }\n\n    .dataframe thead th {\n        text-align: right;\n    }\n</style>\n<table border=\"1\" class=\"dataframe\">\n  <thead>\n    <tr style=\"text-align: right;\">\n      <th></th>\n      <th>open</th>\n      <th>high</th>\n      <th>low</th>\n      <th>close</th>\n      <th>volume</th>\n      <th>average</th>\n      <th>barCount</th>\n      <th>QQQ_open</th>\n      <th>QQQ_high</th>\n      <th>QQQ_low</th>\n      <th>QQQ_close</th>\n      <th>QQQ_volume</th>\n      <th>QQQ_average</th>\n      <th>QQQ_barCount</th>\n    </tr>\n    <tr>\n      <th>date</th>\n      <th></th>\n      <th></th>\n      <th></th>\n      <th></th>\n      <th></th>\n      <th></th>\n      <th></th>\n      <th></th>\n      <th></th>\n      <th></th>\n      <th></th>\n      <th></th>\n      <th></th>\n      <th></th>\n    </tr>\n  </thead>\n  <tbody>\n    <tr>\n      <th>2018-06-04 10:30:00</th>\n      <td>32.39</td>\n      <td>32.48</td>\n      <td>32.06</td>\n      <td>32.06</td>\n      <td>3071</td>\n      <td>32.370</td>\n      <td>334</td>\n      <td>173.16</td>\n      <td>173.48</td>\n      <td>173.07</td>\n      <td>173.46</td>\n      <td>6828</td>\n      <td>173.283</td>\n      <td>2151</td>\n    </tr>\n    <tr>\n      <th>2018-06-04 10:35:00</th>\n      <td>32.06</td>\n      <td>32.14</td>\n      <td>31.88</td>\n      <td>31.99</td>\n      <td>1064</td>\n      <td>32.009</td>\n      <td>360</td>\n      <td>173.46</td>\n      <td>173.64</td>\n      <td>173.44</td>\n      <td>173.56</td>\n      <td>4879</td>\n      <td>173.542</td>\n      <td>1954</td>\n    </tr>\n    <tr>\n      <th>2018-06-04 10:40:00</th>\n      <td>32.00</td>\n      <td>32.20</td>\n      <td>31.96</td>\n      <td>32.19</td>\n      <td>867</td>\n      <td>32.076</td>\n      <td>212</td>\n      <td>173.55</td>\n      <td>173.72</td>\n      <td>173.52</td>\n      <td>173.67</td>\n      <td>3806</td>\n      <td>173.640</td>\n      <td>1503</td>\n    </tr>\n    <tr>\n      <th>2018-06-04 10:45:00</th>\n      <td>32.16</td>\n      <td>32.31</td>\n      <td>32.16</td>\n      <td>32.21</td>\n      <td>138</td>\n      <td>32.242</td>\n      <td>108</td>\n      <td>173.67</td>\n      <td>173.78</td>\n      <td>173.66</td>\n      <td>173.68</td>\n      <td>3077</td>\n      <td>173.716</td>\n      <td>1219</td>\n    </tr>\n    <tr>\n      <th>2018-06-04 10:50:00</th>\n      <td>32.22</td>\n      <td>32.25</td>\n      <td>32.16</td>\n      <td>32.20</td>\n      <td>88</td>\n      <td>32.198</td>\n      <td>64</td>\n      <td>173.68</td>\n      <td>173.76</td>\n      <td>173.57</td>\n      <td>173.58</td>\n      <td>3097</td>\n      <td>173.662</td>\n      <td>1547</td>\n    </tr>\n    <tr>\n      <th>...</th>\n      <td>...</td>\n      <td>...</td>\n      <td>...</td>\n      <td>...</td>\n      <td>...</td>\n      <td>...</td>\n      <td>...</td>\n      <td>...</td>\n      <td>...</td>\n      <td>...</td>\n      <td>...</td>\n      <td>...</td>\n      <td>...</td>\n      <td>...</td>\n    </tr>\n    <tr>\n      <th>2018-06-05 16:35:00</th>\n      <td>30.85</td>\n      <td>30.86</td>\n      <td>30.70</td>\n      <td>30.72</td>\n      <td>1078</td>\n      <td>30.802</td>\n      <td>591</td>\n      <td>174.65</td>\n      <td>174.74</td>\n      <td>174.62</td>\n      <td>174.71</td>\n      <td>3571</td>\n      <td>174.706</td>\n      <td>1198</td>\n    </tr>\n    <tr>\n      <th>2018-06-05 16:40:00</th>\n      <td>30.72</td>\n      <td>30.73</td>\n      <td>30.67</td>\n      <td>30.67</td>\n      <td>1329</td>\n      <td>30.704</td>\n      <td>643</td>\n      <td>174.71</td>\n      <td>174.72</td>\n      <td>174.66</td>\n      <td>174.68</td>\n      <td>3489</td>\n      <td>174.704</td>\n      <td>988</td>\n    </tr>\n    <tr>\n      <th>2018-06-05 16:45:00</th>\n      <td>30.68</td>\n      <td>30.68</td>\n      <td>30.62</td>\n      <td>30.63</td>\n      <td>1821</td>\n      <td>30.650</td>\n      <td>1206</td>\n      <td>174.68</td>\n      <td>174.86</td>\n      <td>174.67</td>\n      <td>174.84</td>\n      <td>4677</td>\n      <td>174.769</td>\n      <td>1946</td>\n    </tr>\n    <tr>\n      <th>2018-06-05 16:50:00</th>\n      <td>30.63</td>\n      <td>30.64</td>\n      <td>30.56</td>\n      <td>30.59</td>\n      <td>2469</td>\n      <td>30.595</td>\n      <td>1407</td>\n      <td>174.85</td>\n      <td>174.86</td>\n      <td>174.73</td>\n      <td>174.82</td>\n      <td>5529</td>\n      <td>174.793</td>\n      <td>2489</td>\n    </tr>\n    <tr>\n      <th>2018-06-05 16:55:00</th>\n      <td>30.59</td>\n      <td>30.59</td>\n      <td>30.43</td>\n      <td>30.44</td>\n      <td>8031</td>\n      <td>30.490</td>\n      <td>3596</td>\n      <td>174.82</td>\n      <td>174.88</td>\n      <td>174.77</td>\n      <td>174.83</td>\n      <td>9581</td>\n      <td>174.833</td>\n      <td>3663</td>\n    </tr>\n  </tbody>\n</table>\n<p>156 rows × 14 columns</p>\n</div>",
      "text/plain": "                      open   high    low  close  volume  average  barCount  \\\ndate                                                                         \n2018-06-04 10:30:00  32.39  32.48  32.06  32.06    3071   32.370       334   \n2018-06-04 10:35:00  32.06  32.14  31.88  31.99    1064   32.009       360   \n2018-06-04 10:40:00  32.00  32.20  31.96  32.19     867   32.076       212   \n2018-06-04 10:45:00  32.16  32.31  32.16  32.21     138   32.242       108   \n2018-06-04 10:50:00  32.22  32.25  32.16  32.20      88   32.198        64   \n...                    ...    ...    ...    ...     ...      ...       ...   \n2018-06-05 16:35:00  30.85  30.86  30.70  30.72    1078   30.802       591   \n2018-06-05 16:40:00  30.72  30.73  30.67  30.67    1329   30.704       643   \n2018-06-05 16:45:00  30.68  30.68  30.62  30.63    1821   30.650      1206   \n2018-06-05 16:50:00  30.63  30.64  30.56  30.59    2469   30.595      1407   \n2018-06-05 16:55:00  30.59  30.59  30.43  30.44    8031   30.490      3596   \n\n                     QQQ_open  QQQ_high  QQQ_low  QQQ_close  QQQ_volume  \\\ndate                                                                      \n2018-06-04 10:30:00    173.16    173.48   173.07     173.46        6828   \n2018-06-04 10:35:00    173.46    173.64   173.44     173.56        4879   \n2018-06-04 10:40:00    173.55    173.72   173.52     173.67        3806   \n2018-06-04 10:45:00    173.67    173.78   173.66     173.68        3077   \n2018-06-04 10:50:00    173.68    173.76   173.57     173.58        3097   \n...                       ...       ...      ...        ...         ...   \n2018-06-05 16:35:00    174.65    174.74   174.62     174.71        3571   \n2018-06-05 16:40:00    174.71    174.72   174.66     174.68        3489   \n2018-06-05 16:45:00    174.68    174.86   174.67     174.84        4677   \n2018-06-05 16:50:00    174.85    174.86   174.73     174.82        5529   \n2018-06-05 16:55:00    174.82    174.88   174.77     174.83        9581   \n\n                     QQQ_average  QQQ_barCount  \ndate                                            \n2018-06-04 10:30:00      173.283          2151  \n2018-06-04 10:35:00      173.542          1954  \n2018-06-04 10:40:00      173.640          1503  \n2018-06-04 10:45:00      173.716          1219  \n2018-06-04 10:50:00      173.662          1547  \n...                          ...           ...  \n2018-06-05 16:35:00      174.706          1198  \n2018-06-05 16:40:00      174.704           988  \n2018-06-05 16:45:00      174.769          1946  \n2018-06-05 16:50:00      174.793          2489  \n2018-06-05 16:55:00      174.833          3663  \n\n[156 rows x 14 columns]"
     },
     "execution_count": 9,
     "metadata": {},
     "output_type": "execute_result"
    }
   ],
   "source": [
    "import pandas as pd\n",
    "\n",
    "df = pd.read_csv(\"datasets/20180605_MLCO.csv\")\n",
    "df = df.set_index(\"date\")\n",
    "df"
   ]
  },
  {
   "cell_type": "code",
   "execution_count": 16,
   "metadata": {},
   "outputs": [
    {
     "data": {
      "text/html": "<div>\n<style scoped>\n    .dataframe tbody tr th:only-of-type {\n        vertical-align: middle;\n    }\n\n    .dataframe tbody tr th {\n        vertical-align: top;\n    }\n\n    .dataframe thead th {\n        text-align: right;\n    }\n</style>\n<table border=\"1\" class=\"dataframe\">\n  <thead>\n    <tr style=\"text-align: right;\">\n      <th></th>\n      <th>open</th>\n      <th>high</th>\n      <th>low</th>\n      <th>close</th>\n      <th>volume</th>\n      <th>average</th>\n      <th>barCount</th>\n      <th>QQQ_open</th>\n      <th>QQQ_high</th>\n      <th>QQQ_low</th>\n      <th>QQQ_close</th>\n      <th>QQQ_volume</th>\n      <th>QQQ_average</th>\n      <th>QQQ_barCount</th>\n    </tr>\n    <tr>\n      <th>date</th>\n      <th></th>\n      <th></th>\n      <th></th>\n      <th></th>\n      <th></th>\n      <th></th>\n      <th></th>\n      <th></th>\n      <th></th>\n      <th></th>\n      <th></th>\n      <th></th>\n      <th></th>\n      <th></th>\n    </tr>\n  </thead>\n  <tbody>\n    <tr>\n      <th>2018-06-05 16:55:00</th>\n      <td>30.59</td>\n      <td>30.59</td>\n      <td>30.43</td>\n      <td>30.44</td>\n      <td>8031</td>\n      <td>30.490</td>\n      <td>3596</td>\n      <td>174.82</td>\n      <td>174.88</td>\n      <td>174.77</td>\n      <td>174.83</td>\n      <td>9581</td>\n      <td>174.833</td>\n      <td>3663</td>\n    </tr>\n    <tr>\n      <th>2018-06-05 16:50:00</th>\n      <td>30.63</td>\n      <td>30.64</td>\n      <td>30.56</td>\n      <td>30.59</td>\n      <td>2469</td>\n      <td>30.595</td>\n      <td>1407</td>\n      <td>174.85</td>\n      <td>174.86</td>\n      <td>174.73</td>\n      <td>174.82</td>\n      <td>5529</td>\n      <td>174.793</td>\n      <td>2489</td>\n    </tr>\n    <tr>\n      <th>2018-06-05 16:45:00</th>\n      <td>30.68</td>\n      <td>30.68</td>\n      <td>30.62</td>\n      <td>30.63</td>\n      <td>1821</td>\n      <td>30.650</td>\n      <td>1206</td>\n      <td>174.68</td>\n      <td>174.86</td>\n      <td>174.67</td>\n      <td>174.84</td>\n      <td>4677</td>\n      <td>174.769</td>\n      <td>1946</td>\n    </tr>\n    <tr>\n      <th>2018-06-05 16:40:00</th>\n      <td>30.72</td>\n      <td>30.73</td>\n      <td>30.67</td>\n      <td>30.67</td>\n      <td>1329</td>\n      <td>30.704</td>\n      <td>643</td>\n      <td>174.71</td>\n      <td>174.72</td>\n      <td>174.66</td>\n      <td>174.68</td>\n      <td>3489</td>\n      <td>174.704</td>\n      <td>988</td>\n    </tr>\n    <tr>\n      <th>2018-06-05 16:35:00</th>\n      <td>30.85</td>\n      <td>30.86</td>\n      <td>30.70</td>\n      <td>30.72</td>\n      <td>1078</td>\n      <td>30.802</td>\n      <td>591</td>\n      <td>174.65</td>\n      <td>174.74</td>\n      <td>174.62</td>\n      <td>174.71</td>\n      <td>3571</td>\n      <td>174.706</td>\n      <td>1198</td>\n    </tr>\n  </tbody>\n</table>\n</div>",
      "text/plain": "                      open   high    low  close  volume  average  barCount  \\\ndate                                                                         \n2018-06-05 16:55:00  30.59  30.59  30.43  30.44    8031   30.490      3596   \n2018-06-05 16:50:00  30.63  30.64  30.56  30.59    2469   30.595      1407   \n2018-06-05 16:45:00  30.68  30.68  30.62  30.63    1821   30.650      1206   \n2018-06-05 16:40:00  30.72  30.73  30.67  30.67    1329   30.704       643   \n2018-06-05 16:35:00  30.85  30.86  30.70  30.72    1078   30.802       591   \n\n                     QQQ_open  QQQ_high  QQQ_low  QQQ_close  QQQ_volume  \\\ndate                                                                      \n2018-06-05 16:55:00    174.82    174.88   174.77     174.83        9581   \n2018-06-05 16:50:00    174.85    174.86   174.73     174.82        5529   \n2018-06-05 16:45:00    174.68    174.86   174.67     174.84        4677   \n2018-06-05 16:40:00    174.71    174.72   174.66     174.68        3489   \n2018-06-05 16:35:00    174.65    174.74   174.62     174.71        3571   \n\n                     QQQ_average  QQQ_barCount  \ndate                                            \n2018-06-05 16:55:00      174.833          3663  \n2018-06-05 16:50:00      174.793          2489  \n2018-06-05 16:45:00      174.769          1946  \n2018-06-05 16:40:00      174.704           988  \n2018-06-05 16:35:00      174.706          1198  "
     },
     "execution_count": 16,
     "metadata": {},
     "output_type": "execute_result"
    }
   ],
   "source": [
    "df.sort_values(by=\"date\", ascending=False).head()"
   ]
  },
  {
   "cell_type": "code",
   "execution_count": 20,
   "metadata": {},
   "outputs": [
    {
     "data": {
      "text/plain": "date\n2018-06-05 16:55:00    30.59\n2018-06-05 16:50:00    30.63\n2018-06-05 16:45:00    30.68\n2018-06-05 16:40:00    30.72\n2018-06-05 16:30:00    30.83\nName: open, dtype: float64"
     },
     "execution_count": 20,
     "metadata": {},
     "output_type": "execute_result"
    }
   ],
   "source": [
    "df[\"open\"].sort_values(ascending=True).head()"
   ]
  },
  {
   "cell_type": "code",
   "execution_count": 21,
   "metadata": {},
   "outputs": [
    {
     "data": {
      "text/plain": "0    2018-06-04 10:30:00\n1    2018-06-04 10:35:00\n2    2018-06-04 10:40:00\n3    2018-06-04 10:45:00\n4    2018-06-04 10:50:00\nName: date, dtype: object"
     },
     "execution_count": 21,
     "metadata": {},
     "output_type": "execute_result"
    }
   ],
   "source": [
    "df = pd.read_csv(\"datasets/20180605_MLCO.csv\")\n",
    "df[\"date\"].sort_values(ascending=True).head()"
   ]
  },
  {
   "cell_type": "code",
   "execution_count": 22,
   "metadata": {},
   "outputs": [
    {
     "data": {
      "text/plain": "date\n2018-06-05 16:55:00    30.59\n2018-06-05 16:50:00    30.63\n2018-06-05 16:45:00    30.68\n2018-06-05 16:40:00    30.72\n2018-06-05 16:30:00    30.83\nName: open, dtype: float64"
     },
     "execution_count": 22,
     "metadata": {},
     "output_type": "execute_result"
    }
   ],
   "source": [
    "df = df.set_index(\"date\")\n",
    "df[\"open\"].sort_values(ascending=True).head()"
   ]
  },
  {
   "cell_type": "code",
   "execution_count": 23,
   "metadata": {},
   "outputs": [
    {
     "data": {
      "text/html": "<div>\n<style scoped>\n    .dataframe tbody tr th:only-of-type {\n        vertical-align: middle;\n    }\n\n    .dataframe tbody tr th {\n        vertical-align: top;\n    }\n\n    .dataframe thead th {\n        text-align: right;\n    }\n</style>\n<table border=\"1\" class=\"dataframe\">\n  <thead>\n    <tr style=\"text-align: right;\">\n      <th></th>\n      <th>open</th>\n      <th>high</th>\n      <th>low</th>\n      <th>close</th>\n      <th>volume</th>\n      <th>average</th>\n      <th>barCount</th>\n      <th>QQQ_open</th>\n      <th>QQQ_high</th>\n      <th>QQQ_low</th>\n      <th>QQQ_close</th>\n      <th>QQQ_volume</th>\n      <th>QQQ_average</th>\n      <th>QQQ_barCount</th>\n    </tr>\n    <tr>\n      <th>date</th>\n      <th></th>\n      <th></th>\n      <th></th>\n      <th></th>\n      <th></th>\n      <th></th>\n      <th></th>\n      <th></th>\n      <th></th>\n      <th></th>\n      <th></th>\n      <th></th>\n      <th></th>\n      <th></th>\n    </tr>\n  </thead>\n  <tbody>\n    <tr>\n      <th>2018-06-04 10:30:00</th>\n      <td>32.39</td>\n      <td>32.48</td>\n      <td>32.06</td>\n      <td>32.06</td>\n      <td>3071</td>\n      <td>32.370</td>\n      <td>334</td>\n      <td>173.16</td>\n      <td>173.48</td>\n      <td>173.07</td>\n      <td>173.46</td>\n      <td>6828</td>\n      <td>173.283</td>\n      <td>2151</td>\n    </tr>\n    <tr>\n      <th>2018-06-04 10:35:00</th>\n      <td>32.06</td>\n      <td>32.14</td>\n      <td>31.88</td>\n      <td>31.99</td>\n      <td>1064</td>\n      <td>32.009</td>\n      <td>360</td>\n      <td>173.46</td>\n      <td>173.64</td>\n      <td>173.44</td>\n      <td>173.56</td>\n      <td>4879</td>\n      <td>173.542</td>\n      <td>1954</td>\n    </tr>\n    <tr>\n      <th>2018-06-04 10:40:00</th>\n      <td>32.00</td>\n      <td>32.20</td>\n      <td>31.96</td>\n      <td>32.19</td>\n      <td>867</td>\n      <td>32.076</td>\n      <td>212</td>\n      <td>173.55</td>\n      <td>173.72</td>\n      <td>173.52</td>\n      <td>173.67</td>\n      <td>3806</td>\n      <td>173.640</td>\n      <td>1503</td>\n    </tr>\n    <tr>\n      <th>2018-06-04 10:45:00</th>\n      <td>32.16</td>\n      <td>32.31</td>\n      <td>32.16</td>\n      <td>32.21</td>\n      <td>138</td>\n      <td>32.242</td>\n      <td>108</td>\n      <td>173.67</td>\n      <td>173.78</td>\n      <td>173.66</td>\n      <td>173.68</td>\n      <td>3077</td>\n      <td>173.716</td>\n      <td>1219</td>\n    </tr>\n    <tr>\n      <th>2018-06-04 10:50:00</th>\n      <td>32.22</td>\n      <td>32.25</td>\n      <td>32.16</td>\n      <td>32.20</td>\n      <td>88</td>\n      <td>32.198</td>\n      <td>64</td>\n      <td>173.68</td>\n      <td>173.76</td>\n      <td>173.57</td>\n      <td>173.58</td>\n      <td>3097</td>\n      <td>173.662</td>\n      <td>1547</td>\n    </tr>\n  </tbody>\n</table>\n</div>",
      "text/plain": "                      open   high    low  close  volume  average  barCount  \\\ndate                                                                         \n2018-06-04 10:30:00  32.39  32.48  32.06  32.06    3071   32.370       334   \n2018-06-04 10:35:00  32.06  32.14  31.88  31.99    1064   32.009       360   \n2018-06-04 10:40:00  32.00  32.20  31.96  32.19     867   32.076       212   \n2018-06-04 10:45:00  32.16  32.31  32.16  32.21     138   32.242       108   \n2018-06-04 10:50:00  32.22  32.25  32.16  32.20      88   32.198        64   \n\n                     QQQ_open  QQQ_high  QQQ_low  QQQ_close  QQQ_volume  \\\ndate                                                                      \n2018-06-04 10:30:00    173.16    173.48   173.07     173.46        6828   \n2018-06-04 10:35:00    173.46    173.64   173.44     173.56        4879   \n2018-06-04 10:40:00    173.55    173.72   173.52     173.67        3806   \n2018-06-04 10:45:00    173.67    173.78   173.66     173.68        3077   \n2018-06-04 10:50:00    173.68    173.76   173.57     173.58        3097   \n\n                     QQQ_average  QQQ_barCount  \ndate                                            \n2018-06-04 10:30:00      173.283          2151  \n2018-06-04 10:35:00      173.542          1954  \n2018-06-04 10:40:00      173.640          1503  \n2018-06-04 10:45:00      173.716          1219  \n2018-06-04 10:50:00      173.662          1547  "
     },
     "execution_count": 23,
     "metadata": {},
     "output_type": "execute_result"
    }
   ],
   "source": [
    "df.head()"
   ]
  },
  {
   "cell_type": "code",
   "execution_count": 24,
   "metadata": {},
   "outputs": [
    {
     "data": {
      "text/html": "<div>\n<style scoped>\n    .dataframe tbody tr th:only-of-type {\n        vertical-align: middle;\n    }\n\n    .dataframe tbody tr th {\n        vertical-align: top;\n    }\n\n    .dataframe thead th {\n        text-align: right;\n    }\n</style>\n<table border=\"1\" class=\"dataframe\">\n  <thead>\n    <tr style=\"text-align: right;\">\n      <th></th>\n      <th>open</th>\n      <th>high</th>\n      <th>low</th>\n      <th>close</th>\n      <th>volume</th>\n      <th>average</th>\n      <th>barCount</th>\n      <th>QQQ_open</th>\n      <th>QQQ_high</th>\n      <th>QQQ_low</th>\n      <th>QQQ_close</th>\n      <th>QQQ_volume</th>\n      <th>QQQ_average</th>\n      <th>QQQ_barCount</th>\n    </tr>\n    <tr>\n      <th>date</th>\n      <th></th>\n      <th></th>\n      <th></th>\n      <th></th>\n      <th></th>\n      <th></th>\n      <th></th>\n      <th></th>\n      <th></th>\n      <th></th>\n      <th></th>\n      <th></th>\n      <th></th>\n      <th></th>\n    </tr>\n  </thead>\n  <tbody>\n    <tr>\n      <th>2018-06-04 10:30:00</th>\n      <td>32.39</td>\n      <td>32.48</td>\n      <td>32.06</td>\n      <td>32.06</td>\n      <td>3071</td>\n      <td>32.370</td>\n      <td>334</td>\n      <td>173.16</td>\n      <td>173.48</td>\n      <td>173.07</td>\n      <td>173.46</td>\n      <td>6828</td>\n      <td>173.283</td>\n      <td>2151</td>\n    </tr>\n    <tr>\n      <th>2018-06-04 10:45:00</th>\n      <td>32.16</td>\n      <td>32.31</td>\n      <td>32.16</td>\n      <td>32.21</td>\n      <td>138</td>\n      <td>32.242</td>\n      <td>108</td>\n      <td>173.67</td>\n      <td>173.78</td>\n      <td>173.66</td>\n      <td>173.68</td>\n      <td>3077</td>\n      <td>173.716</td>\n      <td>1219</td>\n    </tr>\n    <tr>\n      <th>2018-06-04 10:50:00</th>\n      <td>32.22</td>\n      <td>32.25</td>\n      <td>32.16</td>\n      <td>32.20</td>\n      <td>88</td>\n      <td>32.198</td>\n      <td>64</td>\n      <td>173.68</td>\n      <td>173.76</td>\n      <td>173.57</td>\n      <td>173.58</td>\n      <td>3097</td>\n      <td>173.662</td>\n      <td>1547</td>\n    </tr>\n    <tr>\n      <th>2018-06-04 10:55:00</th>\n      <td>32.22</td>\n      <td>32.38</td>\n      <td>32.19</td>\n      <td>32.34</td>\n      <td>227</td>\n      <td>32.271</td>\n      <td>74</td>\n      <td>173.58</td>\n      <td>173.66</td>\n      <td>173.51</td>\n      <td>173.64</td>\n      <td>1923</td>\n      <td>173.584</td>\n      <td>1015</td>\n    </tr>\n    <tr>\n      <th>2018-06-04 11:00:00</th>\n      <td>32.34</td>\n      <td>32.37</td>\n      <td>32.23</td>\n      <td>32.26</td>\n      <td>841</td>\n      <td>32.253</td>\n      <td>269</td>\n      <td>173.65</td>\n      <td>173.75</td>\n      <td>173.40</td>\n      <td>173.45</td>\n      <td>1982</td>\n      <td>173.551</td>\n      <td>1004</td>\n    </tr>\n  </tbody>\n</table>\n</div>",
      "text/plain": "                      open   high    low  close  volume  average  barCount  \\\ndate                                                                         \n2018-06-04 10:30:00  32.39  32.48  32.06  32.06    3071   32.370       334   \n2018-06-04 10:45:00  32.16  32.31  32.16  32.21     138   32.242       108   \n2018-06-04 10:50:00  32.22  32.25  32.16  32.20      88   32.198        64   \n2018-06-04 10:55:00  32.22  32.38  32.19  32.34     227   32.271        74   \n2018-06-04 11:00:00  32.34  32.37  32.23  32.26     841   32.253       269   \n\n                     QQQ_open  QQQ_high  QQQ_low  QQQ_close  QQQ_volume  \\\ndate                                                                      \n2018-06-04 10:30:00    173.16    173.48   173.07     173.46        6828   \n2018-06-04 10:45:00    173.67    173.78   173.66     173.68        3077   \n2018-06-04 10:50:00    173.68    173.76   173.57     173.58        3097   \n2018-06-04 10:55:00    173.58    173.66   173.51     173.64        1923   \n2018-06-04 11:00:00    173.65    173.75   173.40     173.45        1982   \n\n                     QQQ_average  QQQ_barCount  \ndate                                            \n2018-06-04 10:30:00      173.283          2151  \n2018-06-04 10:45:00      173.716          1219  \n2018-06-04 10:50:00      173.662          1547  \n2018-06-04 10:55:00      173.584          1015  \n2018-06-04 11:00:00      173.551          1004  "
     },
     "execution_count": 24,
     "metadata": {},
     "output_type": "execute_result"
    }
   ],
   "source": [
    "df[df.open > 32.06].head()"
   ]
  },
  {
   "cell_type": "code",
   "execution_count": 30,
   "metadata": {},
   "outputs": [
    {
     "data": {
      "text/html": "<div>\n<style scoped>\n    .dataframe tbody tr th:only-of-type {\n        vertical-align: middle;\n    }\n\n    .dataframe tbody tr th {\n        vertical-align: top;\n    }\n\n    .dataframe thead th {\n        text-align: right;\n    }\n</style>\n<table border=\"1\" class=\"dataframe\">\n  <thead>\n    <tr style=\"text-align: right;\">\n      <th></th>\n      <th>open</th>\n      <th>high</th>\n      <th>low</th>\n      <th>close</th>\n      <th>volume</th>\n      <th>average</th>\n      <th>barCount</th>\n      <th>QQQ_open</th>\n      <th>QQQ_high</th>\n      <th>QQQ_low</th>\n      <th>QQQ_close</th>\n      <th>QQQ_volume</th>\n      <th>QQQ_average</th>\n      <th>QQQ_barCount</th>\n    </tr>\n    <tr>\n      <th>date</th>\n      <th></th>\n      <th></th>\n      <th></th>\n      <th></th>\n      <th></th>\n      <th></th>\n      <th></th>\n      <th></th>\n      <th></th>\n      <th></th>\n      <th></th>\n      <th></th>\n      <th></th>\n      <th></th>\n    </tr>\n  </thead>\n  <tbody>\n    <tr>\n      <th>2018-06-04 10:30:00</th>\n      <td>32.39</td>\n      <td>32.48</td>\n      <td>32.06</td>\n      <td>32.06</td>\n      <td>3071</td>\n      <td>32.370</td>\n      <td>334</td>\n      <td>173.16</td>\n      <td>173.48</td>\n      <td>173.07</td>\n      <td>173.46</td>\n      <td>6828</td>\n      <td>173.283</td>\n      <td>2151</td>\n    </tr>\n    <tr>\n      <th>2018-06-04 10:40:00</th>\n      <td>32.00</td>\n      <td>32.20</td>\n      <td>31.96</td>\n      <td>32.19</td>\n      <td>867</td>\n      <td>32.076</td>\n      <td>212</td>\n      <td>173.55</td>\n      <td>173.72</td>\n      <td>173.52</td>\n      <td>173.67</td>\n      <td>3806</td>\n      <td>173.640</td>\n      <td>1503</td>\n    </tr>\n    <tr>\n      <th>2018-06-04 10:45:00</th>\n      <td>32.16</td>\n      <td>32.31</td>\n      <td>32.16</td>\n      <td>32.21</td>\n      <td>138</td>\n      <td>32.242</td>\n      <td>108</td>\n      <td>173.67</td>\n      <td>173.78</td>\n      <td>173.66</td>\n      <td>173.68</td>\n      <td>3077</td>\n      <td>173.716</td>\n      <td>1219</td>\n    </tr>\n    <tr>\n      <th>2018-06-04 10:50:00</th>\n      <td>32.22</td>\n      <td>32.25</td>\n      <td>32.16</td>\n      <td>32.20</td>\n      <td>88</td>\n      <td>32.198</td>\n      <td>64</td>\n      <td>173.68</td>\n      <td>173.76</td>\n      <td>173.57</td>\n      <td>173.58</td>\n      <td>3097</td>\n      <td>173.662</td>\n      <td>1547</td>\n    </tr>\n    <tr>\n      <th>2018-06-04 10:55:00</th>\n      <td>32.22</td>\n      <td>32.38</td>\n      <td>32.19</td>\n      <td>32.34</td>\n      <td>227</td>\n      <td>32.271</td>\n      <td>74</td>\n      <td>173.58</td>\n      <td>173.66</td>\n      <td>173.51</td>\n      <td>173.64</td>\n      <td>1923</td>\n      <td>173.584</td>\n      <td>1015</td>\n    </tr>\n  </tbody>\n</table>\n</div>",
      "text/plain": "                      open   high    low  close  volume  average  barCount  \\\ndate                                                                         \n2018-06-04 10:30:00  32.39  32.48  32.06  32.06    3071   32.370       334   \n2018-06-04 10:40:00  32.00  32.20  31.96  32.19     867   32.076       212   \n2018-06-04 10:45:00  32.16  32.31  32.16  32.21     138   32.242       108   \n2018-06-04 10:50:00  32.22  32.25  32.16  32.20      88   32.198        64   \n2018-06-04 10:55:00  32.22  32.38  32.19  32.34     227   32.271        74   \n\n                     QQQ_open  QQQ_high  QQQ_low  QQQ_close  QQQ_volume  \\\ndate                                                                      \n2018-06-04 10:30:00    173.16    173.48   173.07     173.46        6828   \n2018-06-04 10:40:00    173.55    173.72   173.52     173.67        3806   \n2018-06-04 10:45:00    173.67    173.78   173.66     173.68        3077   \n2018-06-04 10:50:00    173.68    173.76   173.57     173.58        3097   \n2018-06-04 10:55:00    173.58    173.66   173.51     173.64        1923   \n\n                     QQQ_average  QQQ_barCount  \ndate                                            \n2018-06-04 10:30:00      173.283          2151  \n2018-06-04 10:40:00      173.640          1503  \n2018-06-04 10:45:00      173.716          1219  \n2018-06-04 10:50:00      173.662          1547  \n2018-06-04 10:55:00      173.584          1015  "
     },
     "execution_count": 30,
     "metadata": {},
     "output_type": "execute_result"
    }
   ],
   "source": [
    "df2 = df[(df.open > 30) & (df.close > 32)]\n",
    "df2.head()"
   ]
  },
  {
   "cell_type": "code",
   "execution_count": 38,
   "metadata": {},
   "outputs": [
    {
     "data": {
      "text/html": "<div>\n<style scoped>\n    .dataframe tbody tr th:only-of-type {\n        vertical-align: middle;\n    }\n\n    .dataframe tbody tr th {\n        vertical-align: top;\n    }\n\n    .dataframe thead th {\n        text-align: right;\n    }\n</style>\n<table border=\"1\" class=\"dataframe\">\n  <thead>\n    <tr style=\"text-align: right;\">\n      <th></th>\n      <th>open</th>\n      <th>high</th>\n      <th>low</th>\n      <th>close</th>\n    </tr>\n    <tr>\n      <th>date</th>\n      <th></th>\n      <th></th>\n      <th></th>\n      <th></th>\n    </tr>\n  </thead>\n  <tbody>\n    <tr>\n      <th>2018-06-04 10:30:00</th>\n      <td>32.39</td>\n      <td>32.48</td>\n      <td>32.06</td>\n      <td>32.06</td>\n    </tr>\n    <tr>\n      <th>2018-06-04 10:40:00</th>\n      <td>32.00</td>\n      <td>32.20</td>\n      <td>31.96</td>\n      <td>32.19</td>\n    </tr>\n    <tr>\n      <th>2018-06-04 10:45:00</th>\n      <td>32.16</td>\n      <td>32.31</td>\n      <td>32.16</td>\n      <td>32.21</td>\n    </tr>\n    <tr>\n      <th>2018-06-04 10:50:00</th>\n      <td>32.22</td>\n      <td>32.25</td>\n      <td>32.16</td>\n      <td>32.20</td>\n    </tr>\n    <tr>\n      <th>2018-06-04 10:55:00</th>\n      <td>32.22</td>\n      <td>32.38</td>\n      <td>32.19</td>\n      <td>32.34</td>\n    </tr>\n  </tbody>\n</table>\n</div>",
      "text/plain": "                      open   high    low  close\ndate                                           \n2018-06-04 10:30:00  32.39  32.48  32.06  32.06\n2018-06-04 10:40:00  32.00  32.20  31.96  32.19\n2018-06-04 10:45:00  32.16  32.31  32.16  32.21\n2018-06-04 10:50:00  32.22  32.25  32.16  32.20\n2018-06-04 10:55:00  32.22  32.38  32.19  32.34"
     },
     "execution_count": 38,
     "metadata": {},
     "output_type": "execute_result"
    }
   ],
   "source": [
    "cols = [\"open\", \"high\", \"low\", \"close\"]\n",
    "df[(df.open > 30) & (df.close > 32)][cols].head()"
   ]
  },
  {
   "cell_type": "code",
   "execution_count": 39,
   "metadata": {},
   "outputs": [
    {
     "data": {
      "text/plain": "open              31.602564\nhigh              31.636474\nlow               31.560577\nclose             31.592756\nvolume           456.608974\naverage           31.597077\nbarCount         228.455128\nQQQ_open         174.273462\nQQQ_high         174.343269\nQQQ_low          174.202115\nQQQ_close        174.279872\nQQQ_volume      2112.141026\nQQQ_average      174.274385\nQQQ_barCount     893.378205\ndtype: float64"
     },
     "execution_count": 39,
     "metadata": {},
     "output_type": "execute_result"
    }
   ],
   "source": [
    "df.mean()"
   ]
  },
  {
   "cell_type": "code",
   "execution_count": 43,
   "metadata": {},
   "outputs": [
    {
     "data": {
      "text/html": "<div>\n<style scoped>\n    .dataframe tbody tr th:only-of-type {\n        vertical-align: middle;\n    }\n\n    .dataframe tbody tr th {\n        vertical-align: top;\n    }\n\n    .dataframe thead th {\n        text-align: right;\n    }\n</style>\n<table border=\"1\" class=\"dataframe\">\n  <thead>\n    <tr style=\"text-align: right;\">\n      <th></th>\n      <th>county</th>\n      <th>fips</th>\n      <th>cand</th>\n      <th>st</th>\n      <th>pct_report</th>\n      <th>votes</th>\n      <th>total_votes</th>\n      <th>pct</th>\n      <th>lead</th>\n    </tr>\n  </thead>\n  <tbody>\n    <tr>\n      <th>0</th>\n      <td>NaN</td>\n      <td>US</td>\n      <td>Donald Trump</td>\n      <td>US</td>\n      <td>0.9951</td>\n      <td>60350241.0</td>\n      <td>127592176.0</td>\n      <td>0.472993</td>\n      <td>Donald Trump</td>\n    </tr>\n    <tr>\n      <th>1</th>\n      <td>NaN</td>\n      <td>US</td>\n      <td>Hillary Clinton</td>\n      <td>US</td>\n      <td>0.9951</td>\n      <td>60981118.0</td>\n      <td>127592176.0</td>\n      <td>0.477938</td>\n      <td>Donald Trump</td>\n    </tr>\n    <tr>\n      <th>2</th>\n      <td>NaN</td>\n      <td>US</td>\n      <td>Gary Johnson</td>\n      <td>US</td>\n      <td>0.9951</td>\n      <td>4164589.0</td>\n      <td>127592176.0</td>\n      <td>0.032640</td>\n      <td>Donald Trump</td>\n    </tr>\n    <tr>\n      <th>3</th>\n      <td>NaN</td>\n      <td>US</td>\n      <td>Jill Stein</td>\n      <td>US</td>\n      <td>0.9951</td>\n      <td>1255968.0</td>\n      <td>127592176.0</td>\n      <td>0.009844</td>\n      <td>Donald Trump</td>\n    </tr>\n    <tr>\n      <th>4</th>\n      <td>NaN</td>\n      <td>US</td>\n      <td>Evan McMullin</td>\n      <td>US</td>\n      <td>0.9951</td>\n      <td>451636.0</td>\n      <td>127592176.0</td>\n      <td>0.003540</td>\n      <td>Donald Trump</td>\n    </tr>\n  </tbody>\n</table>\n</div>",
      "text/plain": "  county fips             cand  st  pct_report       votes  total_votes  \\\n0    NaN   US     Donald Trump  US      0.9951  60350241.0  127592176.0   \n1    NaN   US  Hillary Clinton  US      0.9951  60981118.0  127592176.0   \n2    NaN   US     Gary Johnson  US      0.9951   4164589.0  127592176.0   \n3    NaN   US       Jill Stein  US      0.9951   1255968.0  127592176.0   \n4    NaN   US    Evan McMullin  US      0.9951    451636.0  127592176.0   \n\n        pct          lead  \n0  0.472993  Donald Trump  \n1  0.477938  Donald Trump  \n2  0.032640  Donald Trump  \n3  0.009844  Donald Trump  \n4  0.003540  Donald Trump  "
     },
     "execution_count": 43,
     "metadata": {},
     "output_type": "execute_result"
    }
   ],
   "source": [
    "#string manipulation\n",
    "temp = pd.read_csv(\"../sentdex/datasets/pres16results.csv\")\n",
    "temp.head()"
   ]
  },
  {
   "cell_type": "code",
   "execution_count": 45,
   "metadata": {},
   "outputs": [
    {
     "data": {
      "text/plain": "0       DONALD TRUMP\n1    HILLARY CLINTON\n2       GARY JOHNSON\n3         JILL STEIN\n4      EVAN MCMULLIN\nName: cand, dtype: object"
     },
     "execution_count": 45,
     "metadata": {},
     "output_type": "execute_result"
    }
   ],
   "source": [
    "temp.cand.str.upper().head()"
   ]
  },
  {
   "cell_type": "code",
   "execution_count": 47,
   "metadata": {},
   "outputs": [
    {
     "data": {
      "text/plain": "0       donald trump\n1    hillary clinton\n2       gary johnson\n3         jill stein\n4      evan mcmullin\nName: cand, dtype: object"
     },
     "execution_count": 47,
     "metadata": {},
     "output_type": "execute_result"
    }
   ],
   "source": [
    "temp.cand.str.lower().head()"
   ]
  },
  {
   "cell_type": "code",
   "execution_count": 48,
   "metadata": {},
   "outputs": [
    {
     "data": {
      "text/html": "<div>\n<style scoped>\n    .dataframe tbody tr th:only-of-type {\n        vertical-align: middle;\n    }\n\n    .dataframe tbody tr th {\n        vertical-align: top;\n    }\n\n    .dataframe thead th {\n        text-align: right;\n    }\n</style>\n<table border=\"1\" class=\"dataframe\">\n  <thead>\n    <tr style=\"text-align: right;\">\n      <th></th>\n      <th>county</th>\n      <th>fips</th>\n      <th>cand</th>\n      <th>st</th>\n      <th>pct_report</th>\n      <th>votes</th>\n      <th>total_votes</th>\n      <th>pct</th>\n      <th>lead</th>\n    </tr>\n  </thead>\n  <tbody>\n    <tr>\n      <th>0</th>\n      <td>NaN</td>\n      <td>US</td>\n      <td>Donald Trump</td>\n      <td>US</td>\n      <td>0.9951</td>\n      <td>60350241.0</td>\n      <td>127592176.0</td>\n      <td>0.472993</td>\n      <td>Donald Trump</td>\n    </tr>\n    <tr>\n      <th>1</th>\n      <td>NaN</td>\n      <td>US</td>\n      <td>Hillary Clinton</td>\n      <td>US</td>\n      <td>0.9951</td>\n      <td>60981118.0</td>\n      <td>127592176.0</td>\n      <td>0.477938</td>\n      <td>Donald Trump</td>\n    </tr>\n    <tr>\n      <th>2</th>\n      <td>NaN</td>\n      <td>US</td>\n      <td>Gary Johnson</td>\n      <td>US</td>\n      <td>0.9951</td>\n      <td>4164589.0</td>\n      <td>127592176.0</td>\n      <td>0.032640</td>\n      <td>Donald Trump</td>\n    </tr>\n    <tr>\n      <th>3</th>\n      <td>NaN</td>\n      <td>US</td>\n      <td>Jill Stein</td>\n      <td>US</td>\n      <td>0.9951</td>\n      <td>1255968.0</td>\n      <td>127592176.0</td>\n      <td>0.009844</td>\n      <td>Donald Trump</td>\n    </tr>\n    <tr>\n      <th>4</th>\n      <td>NaN</td>\n      <td>US</td>\n      <td>Evan McMullin</td>\n      <td>US</td>\n      <td>0.9951</td>\n      <td>451636.0</td>\n      <td>127592176.0</td>\n      <td>0.003540</td>\n      <td>Donald Trump</td>\n    </tr>\n  </tbody>\n</table>\n</div>",
      "text/plain": "  county fips             cand  st  pct_report       votes  total_votes  \\\n0    NaN   US     Donald Trump  US      0.9951  60350241.0  127592176.0   \n1    NaN   US  Hillary Clinton  US      0.9951  60981118.0  127592176.0   \n2    NaN   US     Gary Johnson  US      0.9951   4164589.0  127592176.0   \n3    NaN   US       Jill Stein  US      0.9951   1255968.0  127592176.0   \n4    NaN   US    Evan McMullin  US      0.9951    451636.0  127592176.0   \n\n        pct          lead  \n0  0.472993  Donald Trump  \n1  0.477938  Donald Trump  \n2  0.032640  Donald Trump  \n3  0.009844  Donald Trump  \n4  0.003540  Donald Trump  "
     },
     "execution_count": 48,
     "metadata": {},
     "output_type": "execute_result"
    }
   ],
   "source": [
    "temp.head()"
   ]
  },
  {
   "cell_type": "code",
   "execution_count": 49,
   "metadata": {},
   "outputs": [
    {
     "data": {
      "text/html": "<div>\n<style scoped>\n    .dataframe tbody tr th:only-of-type {\n        vertical-align: middle;\n    }\n\n    .dataframe tbody tr th {\n        vertical-align: top;\n    }\n\n    .dataframe thead th {\n        text-align: right;\n    }\n</style>\n<table border=\"1\" class=\"dataframe\">\n  <thead>\n    <tr style=\"text-align: right;\">\n      <th></th>\n      <th>county</th>\n      <th>fips</th>\n      <th>cand</th>\n      <th>st</th>\n      <th>pct_report</th>\n      <th>votes</th>\n      <th>total_votes</th>\n      <th>pct</th>\n      <th>lead</th>\n    </tr>\n  </thead>\n  <tbody>\n    <tr>\n      <th>0</th>\n      <td>NaN</td>\n      <td>US</td>\n      <td>Donald Trump</td>\n      <td>US</td>\n      <td>0.9951</td>\n      <td>60350241.0</td>\n      <td>127592176.0</td>\n      <td>0.472993</td>\n      <td>Donald Trump</td>\n    </tr>\n    <tr>\n      <th>1</th>\n      <td>NaN</td>\n      <td>US</td>\n      <td>Hillary Clinton</td>\n      <td>US</td>\n      <td>0.9951</td>\n      <td>60981118.0</td>\n      <td>127592176.0</td>\n      <td>0.477938</td>\n      <td>Donald Trump</td>\n    </tr>\n    <tr>\n      <th>2</th>\n      <td>NaN</td>\n      <td>US</td>\n      <td>Gary Johnson</td>\n      <td>US</td>\n      <td>0.9951</td>\n      <td>4164589.0</td>\n      <td>127592176.0</td>\n      <td>0.032640</td>\n      <td>Donald Trump</td>\n    </tr>\n    <tr>\n      <th>3</th>\n      <td>NaN</td>\n      <td>US</td>\n      <td>Jill Stein</td>\n      <td>US</td>\n      <td>0.9951</td>\n      <td>1255968.0</td>\n      <td>127592176.0</td>\n      <td>0.009844</td>\n      <td>Donald Trump</td>\n    </tr>\n    <tr>\n      <th>4</th>\n      <td>NaN</td>\n      <td>US</td>\n      <td>Evan McMullin</td>\n      <td>US</td>\n      <td>0.9951</td>\n      <td>451636.0</td>\n      <td>127592176.0</td>\n      <td>0.003540</td>\n      <td>Donald Trump</td>\n    </tr>\n    <tr>\n      <th>...</th>\n      <td>...</td>\n      <td>...</td>\n      <td>...</td>\n      <td>...</td>\n      <td>...</td>\n      <td>...</td>\n      <td>...</td>\n      <td>...</td>\n      <td>...</td>\n    </tr>\n    <tr>\n      <th>18470</th>\n      <td>Yauco Municipio</td>\n      <td>72153</td>\n      <td>NaN</td>\n      <td>NaN</td>\n      <td>NaN</td>\n      <td>NaN</td>\n      <td>NaN</td>\n      <td>NaN</td>\n      <td>NaN</td>\n    </tr>\n    <tr>\n      <th>18471</th>\n      <td>Midway Islands</td>\n      <td>74300</td>\n      <td>NaN</td>\n      <td>NaN</td>\n      <td>NaN</td>\n      <td>NaN</td>\n      <td>NaN</td>\n      <td>NaN</td>\n      <td>NaN</td>\n    </tr>\n    <tr>\n      <th>18472</th>\n      <td>St. Croix Island</td>\n      <td>78010</td>\n      <td>NaN</td>\n      <td>NaN</td>\n      <td>NaN</td>\n      <td>NaN</td>\n      <td>NaN</td>\n      <td>NaN</td>\n      <td>NaN</td>\n    </tr>\n    <tr>\n      <th>18473</th>\n      <td>St. John Island</td>\n      <td>78020</td>\n      <td>NaN</td>\n      <td>NaN</td>\n      <td>NaN</td>\n      <td>NaN</td>\n      <td>NaN</td>\n      <td>NaN</td>\n      <td>NaN</td>\n    </tr>\n    <tr>\n      <th>18474</th>\n      <td>St. Thomas Island</td>\n      <td>78030</td>\n      <td>NaN</td>\n      <td>NaN</td>\n      <td>NaN</td>\n      <td>NaN</td>\n      <td>NaN</td>\n      <td>NaN</td>\n      <td>NaN</td>\n    </tr>\n  </tbody>\n</table>\n<p>18475 rows × 9 columns</p>\n</div>",
      "text/plain": "                  county   fips             cand   st  pct_report       votes  \\\n0                    NaN     US     Donald Trump   US      0.9951  60350241.0   \n1                    NaN     US  Hillary Clinton   US      0.9951  60981118.0   \n2                    NaN     US     Gary Johnson   US      0.9951   4164589.0   \n3                    NaN     US       Jill Stein   US      0.9951   1255968.0   \n4                    NaN     US    Evan McMullin   US      0.9951    451636.0   \n...                  ...    ...              ...  ...         ...         ...   \n18470    Yauco Municipio  72153              NaN  NaN         NaN         NaN   \n18471     Midway Islands  74300              NaN  NaN         NaN         NaN   \n18472   St. Croix Island  78010              NaN  NaN         NaN         NaN   \n18473    St. John Island  78020              NaN  NaN         NaN         NaN   \n18474  St. Thomas Island  78030              NaN  NaN         NaN         NaN   \n\n       total_votes       pct          lead  \n0      127592176.0  0.472993  Donald Trump  \n1      127592176.0  0.477938  Donald Trump  \n2      127592176.0  0.032640  Donald Trump  \n3      127592176.0  0.009844  Donald Trump  \n4      127592176.0  0.003540  Donald Trump  \n...            ...       ...           ...  \n18470          NaN       NaN           NaN  \n18471          NaN       NaN           NaN  \n18472          NaN       NaN           NaN  \n18473          NaN       NaN           NaN  \n18474          NaN       NaN           NaN  \n\n[18475 rows x 9 columns]"
     },
     "execution_count": 49,
     "metadata": {},
     "output_type": "execute_result"
    }
   ],
   "source": [
    "temp"
   ]
  },
  {
   "cell_type": "code",
   "execution_count": 79,
   "metadata": {},
   "outputs": [
    {
     "data": {
      "text/html": "<div>\n<style scoped>\n    .dataframe tbody tr th:only-of-type {\n        vertical-align: middle;\n    }\n\n    .dataframe tbody tr th {\n        vertical-align: top;\n    }\n\n    .dataframe thead th {\n        text-align: right;\n    }\n</style>\n<table border=\"1\" class=\"dataframe\">\n  <thead>\n    <tr style=\"text-align: right;\">\n      <th></th>\n      <th>county</th>\n      <th>fips</th>\n      <th>cand</th>\n      <th>st</th>\n      <th>pct_report</th>\n      <th>votes</th>\n      <th>total_votes</th>\n      <th>pct</th>\n      <th>lead</th>\n    </tr>\n  </thead>\n  <tbody>\n    <tr>\n      <th>0</th>\n      <td>Indeterminate</td>\n      <td>US</td>\n      <td>Cabello amarillo Trump</td>\n      <td>US</td>\n      <td>0.9951</td>\n      <td>60350241.0</td>\n      <td>127592176.0</td>\n      <td>0.472993</td>\n      <td>Donald Trump</td>\n    </tr>\n    <tr>\n      <th>1</th>\n      <td>Indeterminate</td>\n      <td>US</td>\n      <td>Hillary Clinton</td>\n      <td>US</td>\n      <td>0.9951</td>\n      <td>60981118.0</td>\n      <td>127592176.0</td>\n      <td>0.477938</td>\n      <td>Donald Trump</td>\n    </tr>\n    <tr>\n      <th>2</th>\n      <td>Indeterminate</td>\n      <td>US</td>\n      <td>Gary Johnson</td>\n      <td>US</td>\n      <td>0.9951</td>\n      <td>4164589.0</td>\n      <td>127592176.0</td>\n      <td>0.032640</td>\n      <td>Donald Trump</td>\n    </tr>\n    <tr>\n      <th>3</th>\n      <td>Indeterminate</td>\n      <td>US</td>\n      <td>Jill Stein</td>\n      <td>US</td>\n      <td>0.9951</td>\n      <td>1255968.0</td>\n      <td>127592176.0</td>\n      <td>0.009844</td>\n      <td>Donald Trump</td>\n    </tr>\n    <tr>\n      <th>4</th>\n      <td>Indeterminate</td>\n      <td>US</td>\n      <td>Evan McMullin</td>\n      <td>US</td>\n      <td>0.9951</td>\n      <td>451636.0</td>\n      <td>127592176.0</td>\n      <td>0.003540</td>\n      <td>Donald Trump</td>\n    </tr>\n    <tr>\n      <th>...</th>\n      <td>...</td>\n      <td>...</td>\n      <td>...</td>\n      <td>...</td>\n      <td>...</td>\n      <td>...</td>\n      <td>...</td>\n      <td>...</td>\n      <td>...</td>\n    </tr>\n    <tr>\n      <th>18470</th>\n      <td>Yauco Municipio</td>\n      <td>72153</td>\n      <td>NaN</td>\n      <td>NaN</td>\n      <td>NaN</td>\n      <td>NaN</td>\n      <td>NaN</td>\n      <td>NaN</td>\n      <td>NaN</td>\n    </tr>\n    <tr>\n      <th>18471</th>\n      <td>Midway Islands</td>\n      <td>74300</td>\n      <td>NaN</td>\n      <td>NaN</td>\n      <td>NaN</td>\n      <td>NaN</td>\n      <td>NaN</td>\n      <td>NaN</td>\n      <td>NaN</td>\n    </tr>\n    <tr>\n      <th>18472</th>\n      <td>St. Croix Island</td>\n      <td>78010</td>\n      <td>NaN</td>\n      <td>NaN</td>\n      <td>NaN</td>\n      <td>NaN</td>\n      <td>NaN</td>\n      <td>NaN</td>\n      <td>NaN</td>\n    </tr>\n    <tr>\n      <th>18473</th>\n      <td>St. John Island</td>\n      <td>78020</td>\n      <td>NaN</td>\n      <td>NaN</td>\n      <td>NaN</td>\n      <td>NaN</td>\n      <td>NaN</td>\n      <td>NaN</td>\n      <td>NaN</td>\n    </tr>\n    <tr>\n      <th>18474</th>\n      <td>St. Thomas Island</td>\n      <td>78030</td>\n      <td>NaN</td>\n      <td>NaN</td>\n      <td>NaN</td>\n      <td>NaN</td>\n      <td>NaN</td>\n      <td>NaN</td>\n      <td>NaN</td>\n    </tr>\n  </tbody>\n</table>\n<p>18475 rows × 9 columns</p>\n</div>",
      "text/plain": "                  county   fips                    cand   st  pct_report  \\\n0          Indeterminate     US  Cabello amarillo Trump   US      0.9951   \n1          Indeterminate     US         Hillary Clinton   US      0.9951   \n2          Indeterminate     US            Gary Johnson   US      0.9951   \n3          Indeterminate     US              Jill Stein   US      0.9951   \n4          Indeterminate     US           Evan McMullin   US      0.9951   \n...                  ...    ...                     ...  ...         ...   \n18470    Yauco Municipio  72153                     NaN  NaN         NaN   \n18471     Midway Islands  74300                     NaN  NaN         NaN   \n18472   St. Croix Island  78010                     NaN  NaN         NaN   \n18473    St. John Island  78020                     NaN  NaN         NaN   \n18474  St. Thomas Island  78030                     NaN  NaN         NaN   \n\n            votes  total_votes       pct          lead  \n0      60350241.0  127592176.0  0.472993  Donald Trump  \n1      60981118.0  127592176.0  0.477938  Donald Trump  \n2       4164589.0  127592176.0  0.032640  Donald Trump  \n3       1255968.0  127592176.0  0.009844  Donald Trump  \n4        451636.0  127592176.0  0.003540  Donald Trump  \n...           ...          ...       ...           ...  \n18470         NaN          NaN       NaN           NaN  \n18471         NaN          NaN       NaN           NaN  \n18472         NaN          NaN       NaN           NaN  \n18473         NaN          NaN       NaN           NaN  \n18474         NaN          NaN       NaN           NaN  \n\n[18475 rows x 9 columns]"
     },
     "execution_count": 79,
     "metadata": {},
     "output_type": "execute_result"
    }
   ],
   "source": [
    "\n",
    "temp = pd.read_csv(\"../sentdex/datasets/pres16results.csv\")\n",
    "\n",
    "#replace NaN value in column \"county\"\n",
    "temp[\"county\"].fillna(\"XXX\", inplace=True)\n",
    "\n",
    "#replace \"XXX\" in column \"county\"\n",
    "temp[\"county\"] = temp[\"county\"].replace(\"XXX\", \"Indeterminate\")\n",
    "\n",
    "#other way to replace string in column\n",
    "temp[\"cand\"] = temp.cand.str.replace(\"Donald\", \"Cabello amarillo\")\n",
    "\n",
    "temp"
   ]
  },
  {
   "cell_type": "code",
   "execution_count": 80,
   "metadata": {},
   "outputs": [
    {
     "data": {
      "text/html": "<div>\n<style scoped>\n    .dataframe tbody tr th:only-of-type {\n        vertical-align: middle;\n    }\n\n    .dataframe tbody tr th {\n        vertical-align: top;\n    }\n\n    .dataframe thead th {\n        text-align: right;\n    }\n</style>\n<table border=\"1\" class=\"dataframe\">\n  <thead>\n    <tr style=\"text-align: right;\">\n      <th></th>\n      <th>county</th>\n      <th>fips</th>\n      <th>cand</th>\n      <th>st</th>\n      <th>pct_report</th>\n      <th>votes</th>\n      <th>total_votes</th>\n      <th>pct</th>\n      <th>lead</th>\n    </tr>\n  </thead>\n  <tbody>\n    <tr>\n      <th>2824</th>\n      <td>Rock Island County</td>\n      <td>17161</td>\n      <td>Hillary Clinton</td>\n      <td>IL</td>\n      <td>1.0000</td>\n      <td>32258.0</td>\n      <td>62971.0</td>\n      <td>0.512268</td>\n      <td>Hillary Clinton</td>\n    </tr>\n    <tr>\n      <th>2825</th>\n      <td>Rock Island County</td>\n      <td>17161</td>\n      <td>Cabello amarillo Trump</td>\n      <td>IL</td>\n      <td>1.0000</td>\n      <td>26969.0</td>\n      <td>62971.0</td>\n      <td>0.428277</td>\n      <td>Hillary Clinton</td>\n    </tr>\n    <tr>\n      <th>2826</th>\n      <td>Rock Island County</td>\n      <td>17161</td>\n      <td>Gary Johnson</td>\n      <td>IL</td>\n      <td>1.0000</td>\n      <td>3012.0</td>\n      <td>62971.0</td>\n      <td>0.047832</td>\n      <td>Hillary Clinton</td>\n    </tr>\n    <tr>\n      <th>2827</th>\n      <td>Rock Island County</td>\n      <td>17161</td>\n      <td>Jill Stein</td>\n      <td>IL</td>\n      <td>1.0000</td>\n      <td>732.0</td>\n      <td>62971.0</td>\n      <td>0.011624</td>\n      <td>Hillary Clinton</td>\n    </tr>\n    <tr>\n      <th>3804</th>\n      <td>Island County</td>\n      <td>53029</td>\n      <td>Hillary Clinton</td>\n      <td>WA</td>\n      <td>0.9167</td>\n      <td>20173.0</td>\n      <td>41010.0</td>\n      <td>0.491904</td>\n      <td>Hillary Clinton</td>\n    </tr>\n    <tr>\n      <th>3805</th>\n      <td>Island County</td>\n      <td>53029</td>\n      <td>Cabello amarillo Trump</td>\n      <td>WA</td>\n      <td>0.9167</td>\n      <td>17634.0</td>\n      <td>41010.0</td>\n      <td>0.429993</td>\n      <td>Hillary Clinton</td>\n    </tr>\n    <tr>\n      <th>3806</th>\n      <td>Island County</td>\n      <td>53029</td>\n      <td>Gary Johnson</td>\n      <td>WA</td>\n      <td>0.9167</td>\n      <td>2147.0</td>\n      <td>41010.0</td>\n      <td>0.052353</td>\n      <td>Hillary Clinton</td>\n    </tr>\n    <tr>\n      <th>3807</th>\n      <td>Island County</td>\n      <td>53029</td>\n      <td>Jill Stein</td>\n      <td>WA</td>\n      <td>0.9167</td>\n      <td>748.0</td>\n      <td>41010.0</td>\n      <td>0.018239</td>\n      <td>Hillary Clinton</td>\n    </tr>\n    <tr>\n      <th>3808</th>\n      <td>Island County</td>\n      <td>53029</td>\n      <td>Darrell Castle</td>\n      <td>WA</td>\n      <td>0.9167</td>\n      <td>227.0</td>\n      <td>41010.0</td>\n      <td>0.005535</td>\n      <td>Hillary Clinton</td>\n    </tr>\n    <tr>\n      <th>3809</th>\n      <td>Island County</td>\n      <td>53029</td>\n      <td>Alyson Kennedy</td>\n      <td>WA</td>\n      <td>0.9167</td>\n      <td>43.0</td>\n      <td>41010.0</td>\n      <td>0.001049</td>\n      <td>Hillary Clinton</td>\n    </tr>\n    <tr>\n      <th>3810</th>\n      <td>Island County</td>\n      <td>53029</td>\n      <td>Gloria La Riva</td>\n      <td>WA</td>\n      <td>0.9167</td>\n      <td>38.0</td>\n      <td>41010.0</td>\n      <td>0.000927</td>\n      <td>Hillary Clinton</td>\n    </tr>\n    <tr>\n      <th>18364</th>\n      <td>Kodiak Island Borough</td>\n      <td>2150</td>\n      <td>NaN</td>\n      <td>NaN</td>\n      <td>NaN</td>\n      <td>NaN</td>\n      <td>NaN</td>\n      <td>NaN</td>\n      <td>NaN</td>\n    </tr>\n    <tr>\n      <th>18385</th>\n      <td>Rose Island</td>\n      <td>60030</td>\n      <td>NaN</td>\n      <td>NaN</td>\n      <td>NaN</td>\n      <td>NaN</td>\n      <td>NaN</td>\n      <td>NaN</td>\n      <td>NaN</td>\n    </tr>\n    <tr>\n      <th>18386</th>\n      <td>Swains Island</td>\n      <td>60040</td>\n      <td>NaN</td>\n      <td>NaN</td>\n      <td>NaN</td>\n      <td>NaN</td>\n      <td>NaN</td>\n      <td>NaN</td>\n      <td>NaN</td>\n    </tr>\n    <tr>\n      <th>18389</th>\n      <td>Northern Islands Municipality</td>\n      <td>69085</td>\n      <td>NaN</td>\n      <td>NaN</td>\n      <td>NaN</td>\n      <td>NaN</td>\n      <td>NaN</td>\n      <td>NaN</td>\n      <td>NaN</td>\n    </tr>\n    <tr>\n      <th>18471</th>\n      <td>Midway Islands</td>\n      <td>74300</td>\n      <td>NaN</td>\n      <td>NaN</td>\n      <td>NaN</td>\n      <td>NaN</td>\n      <td>NaN</td>\n      <td>NaN</td>\n      <td>NaN</td>\n    </tr>\n    <tr>\n      <th>18472</th>\n      <td>St. Croix Island</td>\n      <td>78010</td>\n      <td>NaN</td>\n      <td>NaN</td>\n      <td>NaN</td>\n      <td>NaN</td>\n      <td>NaN</td>\n      <td>NaN</td>\n      <td>NaN</td>\n    </tr>\n    <tr>\n      <th>18473</th>\n      <td>St. John Island</td>\n      <td>78020</td>\n      <td>NaN</td>\n      <td>NaN</td>\n      <td>NaN</td>\n      <td>NaN</td>\n      <td>NaN</td>\n      <td>NaN</td>\n      <td>NaN</td>\n    </tr>\n    <tr>\n      <th>18474</th>\n      <td>St. Thomas Island</td>\n      <td>78030</td>\n      <td>NaN</td>\n      <td>NaN</td>\n      <td>NaN</td>\n      <td>NaN</td>\n      <td>NaN</td>\n      <td>NaN</td>\n      <td>NaN</td>\n    </tr>\n  </tbody>\n</table>\n</div>",
      "text/plain": "                              county   fips                    cand   st  \\\n2824              Rock Island County  17161         Hillary Clinton   IL   \n2825              Rock Island County  17161  Cabello amarillo Trump   IL   \n2826              Rock Island County  17161            Gary Johnson   IL   \n2827              Rock Island County  17161              Jill Stein   IL   \n3804                   Island County  53029         Hillary Clinton   WA   \n3805                   Island County  53029  Cabello amarillo Trump   WA   \n3806                   Island County  53029            Gary Johnson   WA   \n3807                   Island County  53029              Jill Stein   WA   \n3808                   Island County  53029          Darrell Castle   WA   \n3809                   Island County  53029          Alyson Kennedy   WA   \n3810                   Island County  53029          Gloria La Riva   WA   \n18364          Kodiak Island Borough   2150                     NaN  NaN   \n18385                    Rose Island  60030                     NaN  NaN   \n18386                  Swains Island  60040                     NaN  NaN   \n18389  Northern Islands Municipality  69085                     NaN  NaN   \n18471                 Midway Islands  74300                     NaN  NaN   \n18472               St. Croix Island  78010                     NaN  NaN   \n18473                St. John Island  78020                     NaN  NaN   \n18474              St. Thomas Island  78030                     NaN  NaN   \n\n       pct_report    votes  total_votes       pct             lead  \n2824       1.0000  32258.0      62971.0  0.512268  Hillary Clinton  \n2825       1.0000  26969.0      62971.0  0.428277  Hillary Clinton  \n2826       1.0000   3012.0      62971.0  0.047832  Hillary Clinton  \n2827       1.0000    732.0      62971.0  0.011624  Hillary Clinton  \n3804       0.9167  20173.0      41010.0  0.491904  Hillary Clinton  \n3805       0.9167  17634.0      41010.0  0.429993  Hillary Clinton  \n3806       0.9167   2147.0      41010.0  0.052353  Hillary Clinton  \n3807       0.9167    748.0      41010.0  0.018239  Hillary Clinton  \n3808       0.9167    227.0      41010.0  0.005535  Hillary Clinton  \n3809       0.9167     43.0      41010.0  0.001049  Hillary Clinton  \n3810       0.9167     38.0      41010.0  0.000927  Hillary Clinton  \n18364         NaN      NaN          NaN       NaN              NaN  \n18385         NaN      NaN          NaN       NaN              NaN  \n18386         NaN      NaN          NaN       NaN              NaN  \n18389         NaN      NaN          NaN       NaN              NaN  \n18471         NaN      NaN          NaN       NaN              NaN  \n18472         NaN      NaN          NaN       NaN              NaN  \n18473         NaN      NaN          NaN       NaN              NaN  \n18474         NaN      NaN          NaN       NaN              NaN  "
     },
     "execution_count": 80,
     "metadata": {},
     "output_type": "execute_result"
    }
   ],
   "source": [
    "#filtering by specific value\n",
    "temp[temp.county.str.contains(\"Island\")]"
   ]
  },
  {
   "cell_type": "code",
   "execution_count": 96,
   "metadata": {},
   "outputs": [
    {
     "data": {
      "text/plain": "60981118.0"
     },
     "execution_count": 96,
     "metadata": {},
     "output_type": "execute_result"
    }
   ],
   "source": [
    "cols2 = [\"county\", \"st\", \"votes\", \"total_votes\"]\n",
    "temp[temp.cand == \"Cabello amarillo Trump\"].votes.max()"
   ]
  },
  {
   "cell_type": "code",
   "execution_count": 99,
   "metadata": {},
   "outputs": [
    {
     "data": {
      "text/html": "<div>\n<style scoped>\n    .dataframe tbody tr th:only-of-type {\n        vertical-align: middle;\n    }\n\n    .dataframe tbody tr th {\n        vertical-align: top;\n    }\n\n    .dataframe thead th {\n        text-align: right;\n    }\n</style>\n<table border=\"1\" class=\"dataframe\">\n  <thead>\n    <tr style=\"text-align: right;\">\n      <th></th>\n      <th>county</th>\n      <th>fips</th>\n      <th>cand</th>\n      <th>st</th>\n      <th>pct_report</th>\n      <th>votes</th>\n      <th>total_votes</th>\n      <th>pct</th>\n      <th>lead</th>\n    </tr>\n  </thead>\n  <tbody>\n    <tr>\n      <th>1</th>\n      <td>Indeterminate</td>\n      <td>US</td>\n      <td>Cabello amarillo Trump</td>\n      <td>US</td>\n      <td>0.9951</td>\n      <td>60981118.0</td>\n      <td>127592176.0</td>\n      <td>0.477938</td>\n      <td>Donald Trump</td>\n    </tr>\n    <tr>\n      <th>0</th>\n      <td>Indeterminate</td>\n      <td>US</td>\n      <td>Cabello amarillo Trump</td>\n      <td>US</td>\n      <td>0.9951</td>\n      <td>60350241.0</td>\n      <td>127592176.0</td>\n      <td>0.472993</td>\n      <td>Donald Trump</td>\n    </tr>\n    <tr>\n      <th>32</th>\n      <td>Indeterminate</td>\n      <td>CA</td>\n      <td>Cabello amarillo Trump</td>\n      <td>CA</td>\n      <td>1.0000</td>\n      <td>5931283.0</td>\n      <td>9631972.0</td>\n      <td>0.615791</td>\n      <td>Hillary Clinton</td>\n    </tr>\n    <tr>\n      <th>43</th>\n      <td>Indeterminate</td>\n      <td>TX</td>\n      <td>Cabello amarillo Trump</td>\n      <td>TX</td>\n      <td>0.9996</td>\n      <td>4681590.0</td>\n      <td>8903237.0</td>\n      <td>0.525830</td>\n      <td>Donald Trump</td>\n    </tr>\n    <tr>\n      <th>37</th>\n      <td>Indeterminate</td>\n      <td>FL</td>\n      <td>Cabello amarillo Trump</td>\n      <td>FL</td>\n      <td>1.0000</td>\n      <td>4605515.0</td>\n      <td>9386750.0</td>\n      <td>0.490640</td>\n      <td>Donald Trump</td>\n    </tr>\n  </tbody>\n</table>\n</div>",
      "text/plain": "           county fips                    cand  st  pct_report       votes  \\\n1   Indeterminate   US  Cabello amarillo Trump  US      0.9951  60981118.0   \n0   Indeterminate   US  Cabello amarillo Trump  US      0.9951  60350241.0   \n32  Indeterminate   CA  Cabello amarillo Trump  CA      1.0000   5931283.0   \n43  Indeterminate   TX  Cabello amarillo Trump  TX      0.9996   4681590.0   \n37  Indeterminate   FL  Cabello amarillo Trump  FL      1.0000   4605515.0   \n\n    total_votes       pct             lead  \n1   127592176.0  0.477938     Donald Trump  \n0   127592176.0  0.472993     Donald Trump  \n32    9631972.0  0.615791  Hillary Clinton  \n43    8903237.0  0.525830     Donald Trump  \n37    9386750.0  0.490640     Donald Trump  "
     },
     "execution_count": 99,
     "metadata": {},
     "output_type": "execute_result"
    }
   ],
   "source": [
    "temp[temp.cand == \"Cabello amarillo Trump\"].sort_values(by=\"votes\", ascending=False).head()\n",
    "\n"
   ]
  },
  {
   "cell_type": "code",
   "execution_count": 171,
   "metadata": {},
   "outputs": [
    {
     "data": {
      "text/plain": "['Alyson Kennedy',\n 'Bradford Lyttle',\n 'Chris Keniston',\n 'Dan Vacek',\n 'Darrell Castle',\n 'Donald Trump',\n 'Emidio Soltysik',\n 'Evan McMullin',\n 'Frank Atwood',\n 'Gary Johnson',\n 'Gloria La Riva',\n 'Hillary Clinton',\n 'Jerry White',\n 'Jill Stein',\n 'Jim Hedges',\n 'Joseph Maldonado',\n 'Kyle Kopitke',\n 'Laurence Kotlikoff',\n 'Lynn Kahn',\n 'Michael Maturen',\n 'Mike Smith',\n 'Monica Moorehead',\n 'Peter Skewes',\n 'Princess Jacob',\n 'Richard Duncan',\n 'Rocky De La Fuente',\n 'Rocky Giordani',\n 'Rod Silva',\n 'Ryan Scott',\n 'Scott Copeland',\n 'Tom Hoefling']"
     },
     "execution_count": 171,
     "metadata": {},
     "output_type": "execute_result"
    }
   ],
   "source": [
    "#group by \n",
    "aux = pd.read_csv(\"../sentdex/datasets/pres16results.csv\")\n",
    "\n",
    "#deleting NaN values\n",
    "new_aux = aux[aux[\"total_votes\"].notna()]\n",
    "new_aux = new_aux[new_aux[\"county\"].notna()]\n",
    "#new_aux[\"cand\"].unique()\n",
    "new_aux = new_aux[new_aux.cand != \" None of these candidates\" ]\n",
    "#a = new_aux[\"cand\"].unique()\n",
    "#sorted(a)"
   ]
  },
  {
   "cell_type": "code",
   "execution_count": 193,
   "metadata": {},
   "outputs": [
    {
     "name": "stdout",
     "output_type": "stream",
     "text": "cand                st\nAlyson Kennedy      CO    2564185.0\n                    LA    2027731.0\n                    MN    2916404.0\n                    NJ    3674893.0\n                    TN    2484691.0\n                    UT     852461.0\n                    WA    2765627.0\nBradford Lyttle     CO    2564185.0\nChris Keniston      CO    2564185.0\n                    LA    2027731.0\nDan Vacek           IA    1542880.0\n                    MN    2916404.0\nDarrell Castle      AR    1121684.0\n                    CO    2564185.0\n                    FL    9386750.0\n                    HI     428825.0\n                    IA    1542880.0\n                    ID     688235.0\n                    LA    2027731.0\n                    MI    4789450.0\n                    MN    2916404.0\n                    MO    2775098.0\n                    MS    1162987.0\n                    ND     336968.0\n                    NJ    3674893.0\n                    NM     788841.0\n                    NV    1122990.0\n                    PA    5970107.0\n                    SC    2084444.0\n                    SD     367151.0\n                    UT     852461.0\n                    WA    2765627.0\n                    WI    2944620.0\n                    WV     708226.0\n                    WY     248742.0\nDonald Trump        AL    2078165.0\n                    AR    1121684.0\n                    AZ    2062810.0\n                    CA    9631972.0\n                    CO    2564185.0\n                    CT    1623542.0\n                    DC     280272.0\n                    DE     441535.0\n                    FL    9386750.0\n                    GA    4029564.0\n                    HI     428825.0\n                    IA    1542880.0\n                    ID     688235.0\n                    IL    5374280.0\n                    IN    2722029.0\n                    KS    1147143.0\n                    KY    1923346.0\n                    LA    2027731.0\n                    MA    3231531.0\n                    MD    2474543.0\n                    ME     741550.0\n                    MI    4789450.0\n                    MN    2916404.0\n                    MO    2775098.0\n                    MS    1162987.0\n                    MT     485109.0\n                    NC    4629471.0\n                    ND     336968.0\n                    NE     805638.0\n                    NH     731302.0\n                    NJ    3674893.0\n                    NM     788841.0\n                    NV    1122990.0\n                    NY    7046175.0\n                    OH    5325395.0\n                    OK    1451056.0\n                    OR    1808575.0\n                    PA    5970107.0\n                    RI     450787.0\n                    SC    2084444.0\n                    SD     367151.0\n                    TN    2484691.0\n                    TX    8903237.0\n                    UT     852461.0\n                    VA    3844787.0\n                    VT     291413.0\n                    WA    2765627.0\n                    WI    2944620.0\n                    WV     708226.0\n                    WY     248742.0\nEmidio Soltysik     CO    2564185.0\n                    MI    4789450.0\nEvan McMullin       AR    1121684.0\n                    CO    2564185.0\n                    IA    1542880.0\n                    ID     688235.0\n                    KY    1923346.0\n                    LA    2027731.0\n                    MN    2916404.0\n                    NM     788841.0\n                    SC    2084444.0\n                    UT     852461.0\n                    VA    3844787.0\nFrank Atwood        CO    2564185.0\nGary Johnson        AL    2078165.0\n                    AR    1121684.0\n                    AZ    2062810.0\n                    CA    9631972.0\n                    CO    2564185.0\n                    CT    1623542.0\n                    DC     280272.0\n                    DE     441535.0\n                    FL    9386750.0\n                    GA    4029564.0\n                    HI     428825.0\n                    IA    1542880.0\n                    ID     688235.0\n                    IL    5374280.0\n                    IN    2722029.0\n                    KS    1147143.0\n                    KY    1923346.0\n                    LA    2027731.0\n                    MA    3231531.0\n                    MD    2474543.0\n                    ME     741550.0\n                    MI    4789450.0\n                    MN    2916404.0\n                    MO    2775098.0\n                    MS    1162987.0\n                    MT     485109.0\n                    NC    4629471.0\n                    ND     336968.0\n                    NE     805638.0\n                    NH     731302.0\n                    NJ    3674893.0\n                    NM     788841.0\n                    NV    1122990.0\n                    NY    7046175.0\n                    OH    5325395.0\n                    OK    1451056.0\n                    OR    1808575.0\n                    PA    5970107.0\n                    RI     450787.0\n                    SC    2084444.0\n                    SD     367151.0\n                    TN    2484691.0\n                    TX    8903237.0\n                    UT     852461.0\n                    VA    3844787.0\n                    VT     291413.0\n                    WA    2765627.0\n                    WI    2944620.0\n                    WV     708226.0\n                    WY     248742.0\nGloria La Riva      CA    9631972.0\n                    CO    2564185.0\n                    IA    1542880.0\n                    LA    2027731.0\n                    NJ    3674893.0\n                    NM     788841.0\n                    VT     291413.0\n                    WA    2765627.0\nHillary Clinton     AL    2078165.0\n                    AR    1121684.0\n                    AZ    2062810.0\n                    CA    9631972.0\n                    CO    2564185.0\n                    CT    1623542.0\n                    DC     280272.0\n                    DE     441535.0\n                    FL    9386750.0\n                    GA    4029564.0\n                    HI     428825.0\n                    IA    1542880.0\n                    ID     688235.0\n                    IL    5374280.0\n                    IN    2722029.0\n                    KS    1147143.0\n                    KY    1923346.0\n                    LA    2027731.0\n                    MA    3231531.0\n                    MD    2474543.0\n                    ME     741550.0\n                    MI    4789450.0\n                    MN    2916404.0\n                    MO    2775098.0\n                    MS    1162987.0\n                    MT     485109.0\n                    NC    4629471.0\n                    ND     336968.0\n                    NE     805638.0\n                    NH     731302.0\n                    NJ    3674893.0\n                    NM     788841.0\n                    NV    1122990.0\n                    NY    7046175.0\n                    OH    5325395.0\n                    OK    1451056.0\n                    OR    1808575.0\n                    PA    5970107.0\n                    RI     450787.0\n                    SC    2084444.0\n                    SD     367151.0\n                    TN    2484691.0\n                    TX    8903237.0\n                    UT     852461.0\n                    VA    3844787.0\n                    VT     291413.0\n                    WA    2765627.0\n                    WI    2944620.0\n                    WV     708226.0\n                    WY     248742.0\nJerry White         LA    2027731.0\nJill Stein          AL    2078165.0\n                    AR    1121684.0\n                    AZ    2062810.0\n                    CA    9631972.0\n                    CO    2564185.0\n                    CT    1623542.0\n                    DC     280272.0\n                    DE     441535.0\n                    FL    9386750.0\n                    HI     428825.0\n                    IA    1542880.0\n                    ID     688235.0\n                    IL    5374280.0\n                    KS    1147143.0\n                    KY    1923346.0\n                    LA    2027731.0\n                    MA    3231531.0\n                    MD    2474543.0\n                    ME     741550.0\n                    MI    4789450.0\n                    MN    2916404.0\n                    MO    2775098.0\n                    MS    1162987.0\n                    MT     485109.0\n                    ND     336968.0\n                    NE     805638.0\n                    NH     731302.0\n                    NJ    3674893.0\n                    NM     788841.0\n                    NY    7046175.0\n                    OH    5325395.0\n                    OR    1808575.0\n                    PA    5970107.0\n                    RI     450787.0\n                    SC    2084444.0\n                    TN    2484691.0\n                    TX    8903237.0\n                    UT     852461.0\n                    VA    3844787.0\n                    VT     291413.0\n                    WA    2765627.0\n                    WI    2944620.0\n                    WV     708226.0\n                    WY     248742.0\nJim Hedges          AR    1121684.0\n                    CO    2564185.0\n                    MS    1162987.0\nJoseph Maldonado    CO    2564185.0\nKyle Kopitke        CO    2564185.0\nLaurence Kotlikoff  CO    2564185.0\n                    LA    2027731.0\nLynn Kahn           AR    1121684.0\n                    IA    1542880.0\nMichael Maturen     CO    2564185.0\nMike Smith          CO    2564185.0\n                    TN    2484691.0\nMonica Moorehead    NJ    3674893.0\n                    UT     852461.0\n                    WI    2944620.0\nPeter Skewes        SC    2084444.0\nPrincess Jacob      LA    2027731.0\nRichard Duncan      OH    5325395.0\nRocky De La Fuente  CO    2564185.0\n                    FL    9386750.0\n                    IA    1542880.0\n                    ID     688235.0\n                    KY    1923346.0\n                    MN    2916404.0\n                    MS    1162987.0\n                    MT     485109.0\n                    ND     336968.0\n                    NH     731302.0\n                    NJ    3674893.0\n                    NM     788841.0\n                    NV    1122990.0\n                    RI     450787.0\n                    TN    2484691.0\n                    UT     852461.0\n                    VT     291413.0\n                    WI    2944620.0\n                    WY     248742.0\nRocky Giordani      UT     852461.0\nRod Silva           CO    2564185.0\nRyan Scott          CO    2564185.0\nScott Copeland      ID     688235.0\nTom Hoefling        CO    2564185.0\n                    LA    2027731.0\nName: total_votes, dtype: float64\n"
    }
   ],
   "source": [
    "group_aux = new_aux.groupby([\"cand\", \"st\"])[\"total_votes\"].sum()\n",
    "group_aux\n",
    "\n",
    "#seteando la cantidad de rows a visualizar\n",
    "pd.set_option('display.max_rows', None)\n",
    "print(group_aux)"
   ]
  },
  {
   "cell_type": "code",
   "execution_count": 236,
   "metadata": {},
   "outputs": [
    {
     "data": {
      "text/plain": "cand\nAlyson Kennedy         17285992.0\nBradford Lyttle         2564185.0\nChris Keniston          4591916.0\nDan Vacek               4459284.0\nDarrell Castle         51269299.0\nDonald Trump          127289217.0\nEmidio Soltysik         7353635.0\nEvan McMullin          20354998.0\nFrank Atwood            2564185.0\nGary Johnson          127289217.0\nGloria La Riva         23287542.0\nHillary Clinton       127289217.0\nJerry White             2027731.0\nJill Stein            112966956.0\nJim Hedges              4848856.0\nJoseph Maldonado        2564185.0\nKyle Kopitke            2564185.0\nLaurence Kotlikoff      4591916.0\nLynn Kahn               2664564.0\nMichael Maturen         2564185.0\nMike Smith              5048876.0\nMonica Moorehead        7471974.0\nPeter Skewes            2084444.0\nPrincess Jacob          2027731.0\nRichard Duncan          5325395.0\nRocky De La Fuente     34597604.0\nRocky Giordani           852461.0\nRod Silva               2564185.0\nRyan Scott              2564185.0\nScott Copeland           688235.0\nTom Hoefling            4591916.0\nName: total_votes, dtype: float64"
     },
     "execution_count": 236,
     "metadata": {},
     "output_type": "execute_result"
    }
   ],
   "source": [
    "group_aux = new_aux.groupby([\"cand\"])[\"total_votes\"].sum()\n",
    "group_aux\n"
   ]
  },
  {
   "cell_type": "code",
   "execution_count": null,
   "metadata": {},
   "outputs": [],
   "source": [
    "other_df = new_aux.groupby([\"cand\"]).total_votes.agg([\"\"])"
   ]
  },
  {
   "cell_type": "code",
   "execution_count": null,
   "metadata": {},
   "outputs": [],
   "source": []
  },
  {
   "cell_type": "code",
   "execution_count": null,
   "metadata": {},
   "outputs": [],
   "source": []
  },
  {
   "cell_type": "code",
   "execution_count": null,
   "metadata": {},
   "outputs": [],
   "source": []
  },
  {
   "cell_type": "code",
   "execution_count": null,
   "metadata": {},
   "outputs": [],
   "source": []
  },
  {
   "cell_type": "code",
   "execution_count": null,
   "metadata": {},
   "outputs": [],
   "source": []
  },
  {
   "cell_type": "code",
   "execution_count": null,
   "metadata": {},
   "outputs": [],
   "source": []
  },
  {
   "cell_type": "code",
   "execution_count": null,
   "metadata": {},
   "outputs": [],
   "source": []
  },
  {
   "cell_type": "code",
   "execution_count": null,
   "metadata": {},
   "outputs": [],
   "source": []
  },
  {
   "cell_type": "code",
   "execution_count": null,
   "metadata": {},
   "outputs": [],
   "source": []
  },
  {
   "cell_type": "code",
   "execution_count": null,
   "metadata": {},
   "outputs": [],
   "source": []
  },
  {
   "cell_type": "code",
   "execution_count": null,
   "metadata": {},
   "outputs": [],
   "source": []
  },
  {
   "cell_type": "code",
   "execution_count": null,
   "metadata": {},
   "outputs": [],
   "source": []
  },
  {
   "cell_type": "code",
   "execution_count": null,
   "metadata": {},
   "outputs": [],
   "source": []
  },
  {
   "cell_type": "code",
   "execution_count": null,
   "metadata": {},
   "outputs": [],
   "source": []
  },
  {
   "cell_type": "code",
   "execution_count": null,
   "metadata": {},
   "outputs": [],
   "source": []
  },
  {
   "cell_type": "code",
   "execution_count": null,
   "metadata": {},
   "outputs": [],
   "source": []
  },
  {
   "cell_type": "code",
   "execution_count": null,
   "metadata": {},
   "outputs": [],
   "source": []
  },
  {
   "cell_type": "code",
   "execution_count": null,
   "metadata": {},
   "outputs": [],
   "source": []
  },
  {
   "cell_type": "code",
   "execution_count": null,
   "metadata": {},
   "outputs": [],
   "source": []
  },
  {
   "cell_type": "code",
   "execution_count": null,
   "metadata": {},
   "outputs": [],
   "source": []
  },
  {
   "cell_type": "code",
   "execution_count": null,
   "metadata": {},
   "outputs": [],
   "source": []
  },
  {
   "cell_type": "code",
   "execution_count": null,
   "metadata": {},
   "outputs": [],
   "source": []
  },
  {
   "cell_type": "code",
   "execution_count": null,
   "metadata": {},
   "outputs": [],
   "source": []
  },
  {
   "cell_type": "code",
   "execution_count": null,
   "metadata": {},
   "outputs": [],
   "source": []
  },
  {
   "cell_type": "code",
   "execution_count": null,
   "metadata": {},
   "outputs": [],
   "source": []
  },
  {
   "cell_type": "code",
   "execution_count": null,
   "metadata": {},
   "outputs": [],
   "source": []
  },
  {
   "cell_type": "code",
   "execution_count": null,
   "metadata": {},
   "outputs": [],
   "source": []
  },
  {
   "cell_type": "code",
   "execution_count": null,
   "metadata": {},
   "outputs": [],
   "source": []
  },
  {
   "cell_type": "code",
   "execution_count": null,
   "metadata": {},
   "outputs": [],
   "source": []
  },
  {
   "cell_type": "code",
   "execution_count": null,
   "metadata": {},
   "outputs": [],
   "source": []
  },
  {
   "cell_type": "code",
   "execution_count": null,
   "metadata": {},
   "outputs": [],
   "source": []
  },
  {
   "cell_type": "code",
   "execution_count": null,
   "metadata": {},
   "outputs": [],
   "source": []
  },
  {
   "cell_type": "code",
   "execution_count": null,
   "metadata": {},
   "outputs": [],
   "source": []
  },
  {
   "cell_type": "code",
   "execution_count": null,
   "metadata": {},
   "outputs": [],
   "source": []
  },
  {
   "cell_type": "code",
   "execution_count": null,
   "metadata": {},
   "outputs": [],
   "source": []
  },
  {
   "cell_type": "code",
   "execution_count": null,
   "metadata": {},
   "outputs": [],
   "source": []
  },
  {
   "cell_type": "code",
   "execution_count": null,
   "metadata": {},
   "outputs": [],
   "source": []
  },
  {
   "cell_type": "code",
   "execution_count": null,
   "metadata": {},
   "outputs": [],
   "source": []
  },
  {
   "cell_type": "code",
   "execution_count": null,
   "metadata": {},
   "outputs": [],
   "source": []
  },
  {
   "cell_type": "code",
   "execution_count": null,
   "metadata": {},
   "outputs": [],
   "source": []
  },
  {
   "cell_type": "code",
   "execution_count": null,
   "metadata": {},
   "outputs": [],
   "source": []
  },
  {
   "cell_type": "code",
   "execution_count": null,
   "metadata": {},
   "outputs": [],
   "source": []
  },
  {
   "cell_type": "code",
   "execution_count": null,
   "metadata": {},
   "outputs": [],
   "source": []
  },
  {
   "cell_type": "code",
   "execution_count": null,
   "metadata": {},
   "outputs": [],
   "source": []
  },
  {
   "cell_type": "code",
   "execution_count": null,
   "metadata": {},
   "outputs": [],
   "source": []
  },
  {
   "cell_type": "code",
   "execution_count": null,
   "metadata": {},
   "outputs": [],
   "source": []
  },
  {
   "cell_type": "code",
   "execution_count": null,
   "metadata": {},
   "outputs": [],
   "source": []
  },
  {
   "cell_type": "code",
   "execution_count": null,
   "metadata": {},
   "outputs": [],
   "source": []
  },
  {
   "cell_type": "code",
   "execution_count": null,
   "metadata": {},
   "outputs": [],
   "source": []
  },
  {
   "cell_type": "code",
   "execution_count": null,
   "metadata": {},
   "outputs": [],
   "source": []
  },
  {
   "cell_type": "code",
   "execution_count": null,
   "metadata": {},
   "outputs": [],
   "source": []
  },
  {
   "cell_type": "code",
   "execution_count": null,
   "metadata": {},
   "outputs": [],
   "source": []
  },
  {
   "cell_type": "code",
   "execution_count": null,
   "metadata": {},
   "outputs": [],
   "source": []
  }
 ]
}