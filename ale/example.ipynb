{
 "nbformat": 4,
 "nbformat_minor": 2,
 "metadata": {
  "language_info": {
   "name": "python",
   "codemirror_mode": {
    "name": "ipython",
    "version": 3
   },
   "version": "3.8.1-final"
  },
  "orig_nbformat": 2,
  "file_extension": ".py",
  "mimetype": "text/x-python",
  "name": "python",
  "npconvert_exporter": "python",
  "pygments_lexer": "ipython3",
  "version": 3,
  "kernelspec": {
   "name": "python38164bit8bd48047f4ae4d048e49ec31e2e3ae46",
   "display_name": "Python 3.8.1 64-bit"
  }
 },
 "cells": [
  {
   "cell_type": "code",
   "execution_count": 9,
   "metadata": {},
   "outputs": [
    {
     "data": {
      "text/html": "<div>\n<style scoped>\n    .dataframe tbody tr th:only-of-type {\n        vertical-align: middle;\n    }\n\n    .dataframe tbody tr th {\n        vertical-align: top;\n    }\n\n    .dataframe thead th {\n        text-align: right;\n    }\n</style>\n<table border=\"1\" class=\"dataframe\">\n  <thead>\n    <tr style=\"text-align: right;\">\n      <th></th>\n      <th>open</th>\n      <th>high</th>\n      <th>low</th>\n      <th>close</th>\n      <th>volume</th>\n      <th>average</th>\n      <th>barCount</th>\n      <th>QQQ_open</th>\n      <th>QQQ_high</th>\n      <th>QQQ_low</th>\n      <th>QQQ_close</th>\n      <th>QQQ_volume</th>\n      <th>QQQ_average</th>\n      <th>QQQ_barCount</th>\n    </tr>\n    <tr>\n      <th>date</th>\n      <th></th>\n      <th></th>\n      <th></th>\n      <th></th>\n      <th></th>\n      <th></th>\n      <th></th>\n      <th></th>\n      <th></th>\n      <th></th>\n      <th></th>\n      <th></th>\n      <th></th>\n      <th></th>\n    </tr>\n  </thead>\n  <tbody>\n    <tr>\n      <th>2018-06-04 10:30:00</th>\n      <td>32.39</td>\n      <td>32.48</td>\n      <td>32.06</td>\n      <td>32.06</td>\n      <td>3071</td>\n      <td>32.370</td>\n      <td>334</td>\n      <td>173.16</td>\n      <td>173.48</td>\n      <td>173.07</td>\n      <td>173.46</td>\n      <td>6828</td>\n      <td>173.283</td>\n      <td>2151</td>\n    </tr>\n    <tr>\n      <th>2018-06-04 10:35:00</th>\n      <td>32.06</td>\n      <td>32.14</td>\n      <td>31.88</td>\n      <td>31.99</td>\n      <td>1064</td>\n      <td>32.009</td>\n      <td>360</td>\n      <td>173.46</td>\n      <td>173.64</td>\n      <td>173.44</td>\n      <td>173.56</td>\n      <td>4879</td>\n      <td>173.542</td>\n      <td>1954</td>\n    </tr>\n    <tr>\n      <th>2018-06-04 10:40:00</th>\n      <td>32.00</td>\n      <td>32.20</td>\n      <td>31.96</td>\n      <td>32.19</td>\n      <td>867</td>\n      <td>32.076</td>\n      <td>212</td>\n      <td>173.55</td>\n      <td>173.72</td>\n      <td>173.52</td>\n      <td>173.67</td>\n      <td>3806</td>\n      <td>173.640</td>\n      <td>1503</td>\n    </tr>\n    <tr>\n      <th>2018-06-04 10:45:00</th>\n      <td>32.16</td>\n      <td>32.31</td>\n      <td>32.16</td>\n      <td>32.21</td>\n      <td>138</td>\n      <td>32.242</td>\n      <td>108</td>\n      <td>173.67</td>\n      <td>173.78</td>\n      <td>173.66</td>\n      <td>173.68</td>\n      <td>3077</td>\n      <td>173.716</td>\n      <td>1219</td>\n    </tr>\n    <tr>\n      <th>2018-06-04 10:50:00</th>\n      <td>32.22</td>\n      <td>32.25</td>\n      <td>32.16</td>\n      <td>32.20</td>\n      <td>88</td>\n      <td>32.198</td>\n      <td>64</td>\n      <td>173.68</td>\n      <td>173.76</td>\n      <td>173.57</td>\n      <td>173.58</td>\n      <td>3097</td>\n      <td>173.662</td>\n      <td>1547</td>\n    </tr>\n    <tr>\n      <th>...</th>\n      <td>...</td>\n      <td>...</td>\n      <td>...</td>\n      <td>...</td>\n      <td>...</td>\n      <td>...</td>\n      <td>...</td>\n      <td>...</td>\n      <td>...</td>\n      <td>...</td>\n      <td>...</td>\n      <td>...</td>\n      <td>...</td>\n      <td>...</td>\n    </tr>\n    <tr>\n      <th>2018-06-05 16:35:00</th>\n      <td>30.85</td>\n      <td>30.86</td>\n      <td>30.70</td>\n      <td>30.72</td>\n      <td>1078</td>\n      <td>30.802</td>\n      <td>591</td>\n      <td>174.65</td>\n      <td>174.74</td>\n      <td>174.62</td>\n      <td>174.71</td>\n      <td>3571</td>\n      <td>174.706</td>\n      <td>1198</td>\n    </tr>\n    <tr>\n      <th>2018-06-05 16:40:00</th>\n      <td>30.72</td>\n      <td>30.73</td>\n      <td>30.67</td>\n      <td>30.67</td>\n      <td>1329</td>\n      <td>30.704</td>\n      <td>643</td>\n      <td>174.71</td>\n      <td>174.72</td>\n      <td>174.66</td>\n      <td>174.68</td>\n      <td>3489</td>\n      <td>174.704</td>\n      <td>988</td>\n    </tr>\n    <tr>\n      <th>2018-06-05 16:45:00</th>\n      <td>30.68</td>\n      <td>30.68</td>\n      <td>30.62</td>\n      <td>30.63</td>\n      <td>1821</td>\n      <td>30.650</td>\n      <td>1206</td>\n      <td>174.68</td>\n      <td>174.86</td>\n      <td>174.67</td>\n      <td>174.84</td>\n      <td>4677</td>\n      <td>174.769</td>\n      <td>1946</td>\n    </tr>\n    <tr>\n      <th>2018-06-05 16:50:00</th>\n      <td>30.63</td>\n      <td>30.64</td>\n      <td>30.56</td>\n      <td>30.59</td>\n      <td>2469</td>\n      <td>30.595</td>\n      <td>1407</td>\n      <td>174.85</td>\n      <td>174.86</td>\n      <td>174.73</td>\n      <td>174.82</td>\n      <td>5529</td>\n      <td>174.793</td>\n      <td>2489</td>\n    </tr>\n    <tr>\n      <th>2018-06-05 16:55:00</th>\n      <td>30.59</td>\n      <td>30.59</td>\n      <td>30.43</td>\n      <td>30.44</td>\n      <td>8031</td>\n      <td>30.490</td>\n      <td>3596</td>\n      <td>174.82</td>\n      <td>174.88</td>\n      <td>174.77</td>\n      <td>174.83</td>\n      <td>9581</td>\n      <td>174.833</td>\n      <td>3663</td>\n    </tr>\n  </tbody>\n</table>\n<p>156 rows × 14 columns</p>\n</div>",
      "text/plain": "                      open   high    low  close  volume  average  barCount  \\\ndate                                                                         \n2018-06-04 10:30:00  32.39  32.48  32.06  32.06    3071   32.370       334   \n2018-06-04 10:35:00  32.06  32.14  31.88  31.99    1064   32.009       360   \n2018-06-04 10:40:00  32.00  32.20  31.96  32.19     867   32.076       212   \n2018-06-04 10:45:00  32.16  32.31  32.16  32.21     138   32.242       108   \n2018-06-04 10:50:00  32.22  32.25  32.16  32.20      88   32.198        64   \n...                    ...    ...    ...    ...     ...      ...       ...   \n2018-06-05 16:35:00  30.85  30.86  30.70  30.72    1078   30.802       591   \n2018-06-05 16:40:00  30.72  30.73  30.67  30.67    1329   30.704       643   \n2018-06-05 16:45:00  30.68  30.68  30.62  30.63    1821   30.650      1206   \n2018-06-05 16:50:00  30.63  30.64  30.56  30.59    2469   30.595      1407   \n2018-06-05 16:55:00  30.59  30.59  30.43  30.44    8031   30.490      3596   \n\n                     QQQ_open  QQQ_high  QQQ_low  QQQ_close  QQQ_volume  \\\ndate                                                                      \n2018-06-04 10:30:00    173.16    173.48   173.07     173.46        6828   \n2018-06-04 10:35:00    173.46    173.64   173.44     173.56        4879   \n2018-06-04 10:40:00    173.55    173.72   173.52     173.67        3806   \n2018-06-04 10:45:00    173.67    173.78   173.66     173.68        3077   \n2018-06-04 10:50:00    173.68    173.76   173.57     173.58        3097   \n...                       ...       ...      ...        ...         ...   \n2018-06-05 16:35:00    174.65    174.74   174.62     174.71        3571   \n2018-06-05 16:40:00    174.71    174.72   174.66     174.68        3489   \n2018-06-05 16:45:00    174.68    174.86   174.67     174.84        4677   \n2018-06-05 16:50:00    174.85    174.86   174.73     174.82        5529   \n2018-06-05 16:55:00    174.82    174.88   174.77     174.83        9581   \n\n                     QQQ_average  QQQ_barCount  \ndate                                            \n2018-06-04 10:30:00      173.283          2151  \n2018-06-04 10:35:00      173.542          1954  \n2018-06-04 10:40:00      173.640          1503  \n2018-06-04 10:45:00      173.716          1219  \n2018-06-04 10:50:00      173.662          1547  \n...                          ...           ...  \n2018-06-05 16:35:00      174.706          1198  \n2018-06-05 16:40:00      174.704           988  \n2018-06-05 16:45:00      174.769          1946  \n2018-06-05 16:50:00      174.793          2489  \n2018-06-05 16:55:00      174.833          3663  \n\n[156 rows x 14 columns]"
     },
     "execution_count": 9,
     "metadata": {},
     "output_type": "execute_result"
    }
   ],
   "source": [
    "import pandas as pd\n",
    "\n",
    "df = pd.read_csv(\"datasets/20180605_MLCO.csv\")\n",
    "df = df.set_index(\"date\")\n",
    "df"
   ]
  },
  {
   "cell_type": "code",
   "execution_count": 16,
   "metadata": {},
   "outputs": [
    {
     "data": {
      "text/html": "<div>\n<style scoped>\n    .dataframe tbody tr th:only-of-type {\n        vertical-align: middle;\n    }\n\n    .dataframe tbody tr th {\n        vertical-align: top;\n    }\n\n    .dataframe thead th {\n        text-align: right;\n    }\n</style>\n<table border=\"1\" class=\"dataframe\">\n  <thead>\n    <tr style=\"text-align: right;\">\n      <th></th>\n      <th>open</th>\n      <th>high</th>\n      <th>low</th>\n      <th>close</th>\n      <th>volume</th>\n      <th>average</th>\n      <th>barCount</th>\n      <th>QQQ_open</th>\n      <th>QQQ_high</th>\n      <th>QQQ_low</th>\n      <th>QQQ_close</th>\n      <th>QQQ_volume</th>\n      <th>QQQ_average</th>\n      <th>QQQ_barCount</th>\n    </tr>\n    <tr>\n      <th>date</th>\n      <th></th>\n      <th></th>\n      <th></th>\n      <th></th>\n      <th></th>\n      <th></th>\n      <th></th>\n      <th></th>\n      <th></th>\n      <th></th>\n      <th></th>\n      <th></th>\n      <th></th>\n      <th></th>\n    </tr>\n  </thead>\n  <tbody>\n    <tr>\n      <th>2018-06-05 16:55:00</th>\n      <td>30.59</td>\n      <td>30.59</td>\n      <td>30.43</td>\n      <td>30.44</td>\n      <td>8031</td>\n      <td>30.490</td>\n      <td>3596</td>\n      <td>174.82</td>\n      <td>174.88</td>\n      <td>174.77</td>\n      <td>174.83</td>\n      <td>9581</td>\n      <td>174.833</td>\n      <td>3663</td>\n    </tr>\n    <tr>\n      <th>2018-06-05 16:50:00</th>\n      <td>30.63</td>\n      <td>30.64</td>\n      <td>30.56</td>\n      <td>30.59</td>\n      <td>2469</td>\n      <td>30.595</td>\n      <td>1407</td>\n      <td>174.85</td>\n      <td>174.86</td>\n      <td>174.73</td>\n      <td>174.82</td>\n      <td>5529</td>\n      <td>174.793</td>\n      <td>2489</td>\n    </tr>\n    <tr>\n      <th>2018-06-05 16:45:00</th>\n      <td>30.68</td>\n      <td>30.68</td>\n      <td>30.62</td>\n      <td>30.63</td>\n      <td>1821</td>\n      <td>30.650</td>\n      <td>1206</td>\n      <td>174.68</td>\n      <td>174.86</td>\n      <td>174.67</td>\n      <td>174.84</td>\n      <td>4677</td>\n      <td>174.769</td>\n      <td>1946</td>\n    </tr>\n    <tr>\n      <th>2018-06-05 16:40:00</th>\n      <td>30.72</td>\n      <td>30.73</td>\n      <td>30.67</td>\n      <td>30.67</td>\n      <td>1329</td>\n      <td>30.704</td>\n      <td>643</td>\n      <td>174.71</td>\n      <td>174.72</td>\n      <td>174.66</td>\n      <td>174.68</td>\n      <td>3489</td>\n      <td>174.704</td>\n      <td>988</td>\n    </tr>\n    <tr>\n      <th>2018-06-05 16:35:00</th>\n      <td>30.85</td>\n      <td>30.86</td>\n      <td>30.70</td>\n      <td>30.72</td>\n      <td>1078</td>\n      <td>30.802</td>\n      <td>591</td>\n      <td>174.65</td>\n      <td>174.74</td>\n      <td>174.62</td>\n      <td>174.71</td>\n      <td>3571</td>\n      <td>174.706</td>\n      <td>1198</td>\n    </tr>\n  </tbody>\n</table>\n</div>",
      "text/plain": "                      open   high    low  close  volume  average  barCount  \\\ndate                                                                         \n2018-06-05 16:55:00  30.59  30.59  30.43  30.44    8031   30.490      3596   \n2018-06-05 16:50:00  30.63  30.64  30.56  30.59    2469   30.595      1407   \n2018-06-05 16:45:00  30.68  30.68  30.62  30.63    1821   30.650      1206   \n2018-06-05 16:40:00  30.72  30.73  30.67  30.67    1329   30.704       643   \n2018-06-05 16:35:00  30.85  30.86  30.70  30.72    1078   30.802       591   \n\n                     QQQ_open  QQQ_high  QQQ_low  QQQ_close  QQQ_volume  \\\ndate                                                                      \n2018-06-05 16:55:00    174.82    174.88   174.77     174.83        9581   \n2018-06-05 16:50:00    174.85    174.86   174.73     174.82        5529   \n2018-06-05 16:45:00    174.68    174.86   174.67     174.84        4677   \n2018-06-05 16:40:00    174.71    174.72   174.66     174.68        3489   \n2018-06-05 16:35:00    174.65    174.74   174.62     174.71        3571   \n\n                     QQQ_average  QQQ_barCount  \ndate                                            \n2018-06-05 16:55:00      174.833          3663  \n2018-06-05 16:50:00      174.793          2489  \n2018-06-05 16:45:00      174.769          1946  \n2018-06-05 16:40:00      174.704           988  \n2018-06-05 16:35:00      174.706          1198  "
     },
     "execution_count": 16,
     "metadata": {},
     "output_type": "execute_result"
    }
   ],
   "source": [
    "df.sort_values(by=\"date\", ascending=False).head()"
   ]
  },
  {
   "cell_type": "code",
   "execution_count": 20,
   "metadata": {},
   "outputs": [
    {
     "data": {
      "text/plain": "date\n2018-06-05 16:55:00    30.59\n2018-06-05 16:50:00    30.63\n2018-06-05 16:45:00    30.68\n2018-06-05 16:40:00    30.72\n2018-06-05 16:30:00    30.83\nName: open, dtype: float64"
     },
     "execution_count": 20,
     "metadata": {},
     "output_type": "execute_result"
    }
   ],
   "source": [
    "df[\"open\"].sort_values(ascending=True).head()"
   ]
  },
  {
   "cell_type": "code",
   "execution_count": 21,
   "metadata": {},
   "outputs": [
    {
     "data": {
      "text/plain": "0    2018-06-04 10:30:00\n1    2018-06-04 10:35:00\n2    2018-06-04 10:40:00\n3    2018-06-04 10:45:00\n4    2018-06-04 10:50:00\nName: date, dtype: object"
     },
     "execution_count": 21,
     "metadata": {},
     "output_type": "execute_result"
    }
   ],
   "source": [
    "df = pd.read_csv(\"datasets/20180605_MLCO.csv\")\n",
    "df[\"date\"].sort_values(ascending=True).head()"
   ]
  },
  {
   "cell_type": "code",
   "execution_count": 22,
   "metadata": {},
   "outputs": [
    {
     "data": {
      "text/plain": "date\n2018-06-05 16:55:00    30.59\n2018-06-05 16:50:00    30.63\n2018-06-05 16:45:00    30.68\n2018-06-05 16:40:00    30.72\n2018-06-05 16:30:00    30.83\nName: open, dtype: float64"
     },
     "execution_count": 22,
     "metadata": {},
     "output_type": "execute_result"
    }
   ],
   "source": [
    "df = df.set_index(\"date\")\n",
    "df[\"open\"].sort_values(ascending=True).head()"
   ]
  },
  {
   "cell_type": "code",
   "execution_count": 23,
   "metadata": {},
   "outputs": [
    {
     "data": {
      "text/html": "<div>\n<style scoped>\n    .dataframe tbody tr th:only-of-type {\n        vertical-align: middle;\n    }\n\n    .dataframe tbody tr th {\n        vertical-align: top;\n    }\n\n    .dataframe thead th {\n        text-align: right;\n    }\n</style>\n<table border=\"1\" class=\"dataframe\">\n  <thead>\n    <tr style=\"text-align: right;\">\n      <th></th>\n      <th>open</th>\n      <th>high</th>\n      <th>low</th>\n      <th>close</th>\n      <th>volume</th>\n      <th>average</th>\n      <th>barCount</th>\n      <th>QQQ_open</th>\n      <th>QQQ_high</th>\n      <th>QQQ_low</th>\n      <th>QQQ_close</th>\n      <th>QQQ_volume</th>\n      <th>QQQ_average</th>\n      <th>QQQ_barCount</th>\n    </tr>\n    <tr>\n      <th>date</th>\n      <th></th>\n      <th></th>\n      <th></th>\n      <th></th>\n      <th></th>\n      <th></th>\n      <th></th>\n      <th></th>\n      <th></th>\n      <th></th>\n      <th></th>\n      <th></th>\n      <th></th>\n      <th></th>\n    </tr>\n  </thead>\n  <tbody>\n    <tr>\n      <th>2018-06-04 10:30:00</th>\n      <td>32.39</td>\n      <td>32.48</td>\n      <td>32.06</td>\n      <td>32.06</td>\n      <td>3071</td>\n      <td>32.370</td>\n      <td>334</td>\n      <td>173.16</td>\n      <td>173.48</td>\n      <td>173.07</td>\n      <td>173.46</td>\n      <td>6828</td>\n      <td>173.283</td>\n      <td>2151</td>\n    </tr>\n    <tr>\n      <th>2018-06-04 10:35:00</th>\n      <td>32.06</td>\n      <td>32.14</td>\n      <td>31.88</td>\n      <td>31.99</td>\n      <td>1064</td>\n      <td>32.009</td>\n      <td>360</td>\n      <td>173.46</td>\n      <td>173.64</td>\n      <td>173.44</td>\n      <td>173.56</td>\n      <td>4879</td>\n      <td>173.542</td>\n      <td>1954</td>\n    </tr>\n    <tr>\n      <th>2018-06-04 10:40:00</th>\n      <td>32.00</td>\n      <td>32.20</td>\n      <td>31.96</td>\n      <td>32.19</td>\n      <td>867</td>\n      <td>32.076</td>\n      <td>212</td>\n      <td>173.55</td>\n      <td>173.72</td>\n      <td>173.52</td>\n      <td>173.67</td>\n      <td>3806</td>\n      <td>173.640</td>\n      <td>1503</td>\n    </tr>\n    <tr>\n      <th>2018-06-04 10:45:00</th>\n      <td>32.16</td>\n      <td>32.31</td>\n      <td>32.16</td>\n      <td>32.21</td>\n      <td>138</td>\n      <td>32.242</td>\n      <td>108</td>\n      <td>173.67</td>\n      <td>173.78</td>\n      <td>173.66</td>\n      <td>173.68</td>\n      <td>3077</td>\n      <td>173.716</td>\n      <td>1219</td>\n    </tr>\n    <tr>\n      <th>2018-06-04 10:50:00</th>\n      <td>32.22</td>\n      <td>32.25</td>\n      <td>32.16</td>\n      <td>32.20</td>\n      <td>88</td>\n      <td>32.198</td>\n      <td>64</td>\n      <td>173.68</td>\n      <td>173.76</td>\n      <td>173.57</td>\n      <td>173.58</td>\n      <td>3097</td>\n      <td>173.662</td>\n      <td>1547</td>\n    </tr>\n  </tbody>\n</table>\n</div>",
      "text/plain": "                      open   high    low  close  volume  average  barCount  \\\ndate                                                                         \n2018-06-04 10:30:00  32.39  32.48  32.06  32.06    3071   32.370       334   \n2018-06-04 10:35:00  32.06  32.14  31.88  31.99    1064   32.009       360   \n2018-06-04 10:40:00  32.00  32.20  31.96  32.19     867   32.076       212   \n2018-06-04 10:45:00  32.16  32.31  32.16  32.21     138   32.242       108   \n2018-06-04 10:50:00  32.22  32.25  32.16  32.20      88   32.198        64   \n\n                     QQQ_open  QQQ_high  QQQ_low  QQQ_close  QQQ_volume  \\\ndate                                                                      \n2018-06-04 10:30:00    173.16    173.48   173.07     173.46        6828   \n2018-06-04 10:35:00    173.46    173.64   173.44     173.56        4879   \n2018-06-04 10:40:00    173.55    173.72   173.52     173.67        3806   \n2018-06-04 10:45:00    173.67    173.78   173.66     173.68        3077   \n2018-06-04 10:50:00    173.68    173.76   173.57     173.58        3097   \n\n                     QQQ_average  QQQ_barCount  \ndate                                            \n2018-06-04 10:30:00      173.283          2151  \n2018-06-04 10:35:00      173.542          1954  \n2018-06-04 10:40:00      173.640          1503  \n2018-06-04 10:45:00      173.716          1219  \n2018-06-04 10:50:00      173.662          1547  "
     },
     "execution_count": 23,
     "metadata": {},
     "output_type": "execute_result"
    }
   ],
   "source": [
    "df.head()"
   ]
  },
  {
   "cell_type": "code",
   "execution_count": 24,
   "metadata": {},
   "outputs": [
    {
     "data": {
      "text/html": "<div>\n<style scoped>\n    .dataframe tbody tr th:only-of-type {\n        vertical-align: middle;\n    }\n\n    .dataframe tbody tr th {\n        vertical-align: top;\n    }\n\n    .dataframe thead th {\n        text-align: right;\n    }\n</style>\n<table border=\"1\" class=\"dataframe\">\n  <thead>\n    <tr style=\"text-align: right;\">\n      <th></th>\n      <th>open</th>\n      <th>high</th>\n      <th>low</th>\n      <th>close</th>\n      <th>volume</th>\n      <th>average</th>\n      <th>barCount</th>\n      <th>QQQ_open</th>\n      <th>QQQ_high</th>\n      <th>QQQ_low</th>\n      <th>QQQ_close</th>\n      <th>QQQ_volume</th>\n      <th>QQQ_average</th>\n      <th>QQQ_barCount</th>\n    </tr>\n    <tr>\n      <th>date</th>\n      <th></th>\n      <th></th>\n      <th></th>\n      <th></th>\n      <th></th>\n      <th></th>\n      <th></th>\n      <th></th>\n      <th></th>\n      <th></th>\n      <th></th>\n      <th></th>\n      <th></th>\n      <th></th>\n    </tr>\n  </thead>\n  <tbody>\n    <tr>\n      <th>2018-06-04 10:30:00</th>\n      <td>32.39</td>\n      <td>32.48</td>\n      <td>32.06</td>\n      <td>32.06</td>\n      <td>3071</td>\n      <td>32.370</td>\n      <td>334</td>\n      <td>173.16</td>\n      <td>173.48</td>\n      <td>173.07</td>\n      <td>173.46</td>\n      <td>6828</td>\n      <td>173.283</td>\n      <td>2151</td>\n    </tr>\n    <tr>\n      <th>2018-06-04 10:45:00</th>\n      <td>32.16</td>\n      <td>32.31</td>\n      <td>32.16</td>\n      <td>32.21</td>\n      <td>138</td>\n      <td>32.242</td>\n      <td>108</td>\n      <td>173.67</td>\n      <td>173.78</td>\n      <td>173.66</td>\n      <td>173.68</td>\n      <td>3077</td>\n      <td>173.716</td>\n      <td>1219</td>\n    </tr>\n    <tr>\n      <th>2018-06-04 10:50:00</th>\n      <td>32.22</td>\n      <td>32.25</td>\n      <td>32.16</td>\n      <td>32.20</td>\n      <td>88</td>\n      <td>32.198</td>\n      <td>64</td>\n      <td>173.68</td>\n      <td>173.76</td>\n      <td>173.57</td>\n      <td>173.58</td>\n      <td>3097</td>\n      <td>173.662</td>\n      <td>1547</td>\n    </tr>\n    <tr>\n      <th>2018-06-04 10:55:00</th>\n      <td>32.22</td>\n      <td>32.38</td>\n      <td>32.19</td>\n      <td>32.34</td>\n      <td>227</td>\n      <td>32.271</td>\n      <td>74</td>\n      <td>173.58</td>\n      <td>173.66</td>\n      <td>173.51</td>\n      <td>173.64</td>\n      <td>1923</td>\n      <td>173.584</td>\n      <td>1015</td>\n    </tr>\n    <tr>\n      <th>2018-06-04 11:00:00</th>\n      <td>32.34</td>\n      <td>32.37</td>\n      <td>32.23</td>\n      <td>32.26</td>\n      <td>841</td>\n      <td>32.253</td>\n      <td>269</td>\n      <td>173.65</td>\n      <td>173.75</td>\n      <td>173.40</td>\n      <td>173.45</td>\n      <td>1982</td>\n      <td>173.551</td>\n      <td>1004</td>\n    </tr>\n  </tbody>\n</table>\n</div>",
      "text/plain": "                      open   high    low  close  volume  average  barCount  \\\ndate                                                                         \n2018-06-04 10:30:00  32.39  32.48  32.06  32.06    3071   32.370       334   \n2018-06-04 10:45:00  32.16  32.31  32.16  32.21     138   32.242       108   \n2018-06-04 10:50:00  32.22  32.25  32.16  32.20      88   32.198        64   \n2018-06-04 10:55:00  32.22  32.38  32.19  32.34     227   32.271        74   \n2018-06-04 11:00:00  32.34  32.37  32.23  32.26     841   32.253       269   \n\n                     QQQ_open  QQQ_high  QQQ_low  QQQ_close  QQQ_volume  \\\ndate                                                                      \n2018-06-04 10:30:00    173.16    173.48   173.07     173.46        6828   \n2018-06-04 10:45:00    173.67    173.78   173.66     173.68        3077   \n2018-06-04 10:50:00    173.68    173.76   173.57     173.58        3097   \n2018-06-04 10:55:00    173.58    173.66   173.51     173.64        1923   \n2018-06-04 11:00:00    173.65    173.75   173.40     173.45        1982   \n\n                     QQQ_average  QQQ_barCount  \ndate                                            \n2018-06-04 10:30:00      173.283          2151  \n2018-06-04 10:45:00      173.716          1219  \n2018-06-04 10:50:00      173.662          1547  \n2018-06-04 10:55:00      173.584          1015  \n2018-06-04 11:00:00      173.551          1004  "
     },
     "execution_count": 24,
     "metadata": {},
     "output_type": "execute_result"
    }
   ],
   "source": [
    "df[df.open > 32.06].head()"
   ]
  },
  {
   "cell_type": "code",
   "execution_count": 30,
   "metadata": {},
   "outputs": [
    {
     "data": {
      "text/html": "<div>\n<style scoped>\n    .dataframe tbody tr th:only-of-type {\n        vertical-align: middle;\n    }\n\n    .dataframe tbody tr th {\n        vertical-align: top;\n    }\n\n    .dataframe thead th {\n        text-align: right;\n    }\n</style>\n<table border=\"1\" class=\"dataframe\">\n  <thead>\n    <tr style=\"text-align: right;\">\n      <th></th>\n      <th>open</th>\n      <th>high</th>\n      <th>low</th>\n      <th>close</th>\n      <th>volume</th>\n      <th>average</th>\n      <th>barCount</th>\n      <th>QQQ_open</th>\n      <th>QQQ_high</th>\n      <th>QQQ_low</th>\n      <th>QQQ_close</th>\n      <th>QQQ_volume</th>\n      <th>QQQ_average</th>\n      <th>QQQ_barCount</th>\n    </tr>\n    <tr>\n      <th>date</th>\n      <th></th>\n      <th></th>\n      <th></th>\n      <th></th>\n      <th></th>\n      <th></th>\n      <th></th>\n      <th></th>\n      <th></th>\n      <th></th>\n      <th></th>\n      <th></th>\n      <th></th>\n      <th></th>\n    </tr>\n  </thead>\n  <tbody>\n    <tr>\n      <th>2018-06-04 10:30:00</th>\n      <td>32.39</td>\n      <td>32.48</td>\n      <td>32.06</td>\n      <td>32.06</td>\n      <td>3071</td>\n      <td>32.370</td>\n      <td>334</td>\n      <td>173.16</td>\n      <td>173.48</td>\n      <td>173.07</td>\n      <td>173.46</td>\n      <td>6828</td>\n      <td>173.283</td>\n      <td>2151</td>\n    </tr>\n    <tr>\n      <th>2018-06-04 10:40:00</th>\n      <td>32.00</td>\n      <td>32.20</td>\n      <td>31.96</td>\n      <td>32.19</td>\n      <td>867</td>\n      <td>32.076</td>\n      <td>212</td>\n      <td>173.55</td>\n      <td>173.72</td>\n      <td>173.52</td>\n      <td>173.67</td>\n      <td>3806</td>\n      <td>173.640</td>\n      <td>1503</td>\n    </tr>\n    <tr>\n      <th>2018-06-04 10:45:00</th>\n      <td>32.16</td>\n      <td>32.31</td>\n      <td>32.16</td>\n      <td>32.21</td>\n      <td>138</td>\n      <td>32.242</td>\n      <td>108</td>\n      <td>173.67</td>\n      <td>173.78</td>\n      <td>173.66</td>\n      <td>173.68</td>\n      <td>3077</td>\n      <td>173.716</td>\n      <td>1219</td>\n    </tr>\n    <tr>\n      <th>2018-06-04 10:50:00</th>\n      <td>32.22</td>\n      <td>32.25</td>\n      <td>32.16</td>\n      <td>32.20</td>\n      <td>88</td>\n      <td>32.198</td>\n      <td>64</td>\n      <td>173.68</td>\n      <td>173.76</td>\n      <td>173.57</td>\n      <td>173.58</td>\n      <td>3097</td>\n      <td>173.662</td>\n      <td>1547</td>\n    </tr>\n    <tr>\n      <th>2018-06-04 10:55:00</th>\n      <td>32.22</td>\n      <td>32.38</td>\n      <td>32.19</td>\n      <td>32.34</td>\n      <td>227</td>\n      <td>32.271</td>\n      <td>74</td>\n      <td>173.58</td>\n      <td>173.66</td>\n      <td>173.51</td>\n      <td>173.64</td>\n      <td>1923</td>\n      <td>173.584</td>\n      <td>1015</td>\n    </tr>\n  </tbody>\n</table>\n</div>",
      "text/plain": "                      open   high    low  close  volume  average  barCount  \\\ndate                                                                         \n2018-06-04 10:30:00  32.39  32.48  32.06  32.06    3071   32.370       334   \n2018-06-04 10:40:00  32.00  32.20  31.96  32.19     867   32.076       212   \n2018-06-04 10:45:00  32.16  32.31  32.16  32.21     138   32.242       108   \n2018-06-04 10:50:00  32.22  32.25  32.16  32.20      88   32.198        64   \n2018-06-04 10:55:00  32.22  32.38  32.19  32.34     227   32.271        74   \n\n                     QQQ_open  QQQ_high  QQQ_low  QQQ_close  QQQ_volume  \\\ndate                                                                      \n2018-06-04 10:30:00    173.16    173.48   173.07     173.46        6828   \n2018-06-04 10:40:00    173.55    173.72   173.52     173.67        3806   \n2018-06-04 10:45:00    173.67    173.78   173.66     173.68        3077   \n2018-06-04 10:50:00    173.68    173.76   173.57     173.58        3097   \n2018-06-04 10:55:00    173.58    173.66   173.51     173.64        1923   \n\n                     QQQ_average  QQQ_barCount  \ndate                                            \n2018-06-04 10:30:00      173.283          2151  \n2018-06-04 10:40:00      173.640          1503  \n2018-06-04 10:45:00      173.716          1219  \n2018-06-04 10:50:00      173.662          1547  \n2018-06-04 10:55:00      173.584          1015  "
     },
     "execution_count": 30,
     "metadata": {},
     "output_type": "execute_result"
    }
   ],
   "source": [
    "df2 = df[(df.open > 30) & (df.close > 32)]\n",
    "df2.head()"
   ]
  },
  {
   "cell_type": "code",
   "execution_count": 38,
   "metadata": {},
   "outputs": [
    {
     "data": {
      "text/html": "<div>\n<style scoped>\n    .dataframe tbody tr th:only-of-type {\n        vertical-align: middle;\n    }\n\n    .dataframe tbody tr th {\n        vertical-align: top;\n    }\n\n    .dataframe thead th {\n        text-align: right;\n    }\n</style>\n<table border=\"1\" class=\"dataframe\">\n  <thead>\n    <tr style=\"text-align: right;\">\n      <th></th>\n      <th>open</th>\n      <th>high</th>\n      <th>low</th>\n      <th>close</th>\n    </tr>\n    <tr>\n      <th>date</th>\n      <th></th>\n      <th></th>\n      <th></th>\n      <th></th>\n    </tr>\n  </thead>\n  <tbody>\n    <tr>\n      <th>2018-06-04 10:30:00</th>\n      <td>32.39</td>\n      <td>32.48</td>\n      <td>32.06</td>\n      <td>32.06</td>\n    </tr>\n    <tr>\n      <th>2018-06-04 10:40:00</th>\n      <td>32.00</td>\n      <td>32.20</td>\n      <td>31.96</td>\n      <td>32.19</td>\n    </tr>\n    <tr>\n      <th>2018-06-04 10:45:00</th>\n      <td>32.16</td>\n      <td>32.31</td>\n      <td>32.16</td>\n      <td>32.21</td>\n    </tr>\n    <tr>\n      <th>2018-06-04 10:50:00</th>\n      <td>32.22</td>\n      <td>32.25</td>\n      <td>32.16</td>\n      <td>32.20</td>\n    </tr>\n    <tr>\n      <th>2018-06-04 10:55:00</th>\n      <td>32.22</td>\n      <td>32.38</td>\n      <td>32.19</td>\n      <td>32.34</td>\n    </tr>\n  </tbody>\n</table>\n</div>",
      "text/plain": "                      open   high    low  close\ndate                                           \n2018-06-04 10:30:00  32.39  32.48  32.06  32.06\n2018-06-04 10:40:00  32.00  32.20  31.96  32.19\n2018-06-04 10:45:00  32.16  32.31  32.16  32.21\n2018-06-04 10:50:00  32.22  32.25  32.16  32.20\n2018-06-04 10:55:00  32.22  32.38  32.19  32.34"
     },
     "execution_count": 38,
     "metadata": {},
     "output_type": "execute_result"
    }
   ],
   "source": [
    "cols = [\"open\", \"high\", \"low\", \"close\"]\n",
    "df[(df.open > 30) & (df.close > 32)][cols].head()"
   ]
  },
  {
   "cell_type": "code",
   "execution_count": 39,
   "metadata": {},
   "outputs": [
    {
     "data": {
      "text/plain": "open              31.602564\nhigh              31.636474\nlow               31.560577\nclose             31.592756\nvolume           456.608974\naverage           31.597077\nbarCount         228.455128\nQQQ_open         174.273462\nQQQ_high         174.343269\nQQQ_low          174.202115\nQQQ_close        174.279872\nQQQ_volume      2112.141026\nQQQ_average      174.274385\nQQQ_barCount     893.378205\ndtype: float64"
     },
     "execution_count": 39,
     "metadata": {},
     "output_type": "execute_result"
    }
   ],
   "source": [
    "df.mean()"
   ]
  },
  {
   "cell_type": "code",
   "execution_count": 43,
   "metadata": {},
   "outputs": [
    {
     "data": {
      "text/html": "<div>\n<style scoped>\n    .dataframe tbody tr th:only-of-type {\n        vertical-align: middle;\n    }\n\n    .dataframe tbody tr th {\n        vertical-align: top;\n    }\n\n    .dataframe thead th {\n        text-align: right;\n    }\n</style>\n<table border=\"1\" class=\"dataframe\">\n  <thead>\n    <tr style=\"text-align: right;\">\n      <th></th>\n      <th>county</th>\n      <th>fips</th>\n      <th>cand</th>\n      <th>st</th>\n      <th>pct_report</th>\n      <th>votes</th>\n      <th>total_votes</th>\n      <th>pct</th>\n      <th>lead</th>\n    </tr>\n  </thead>\n  <tbody>\n    <tr>\n      <th>0</th>\n      <td>NaN</td>\n      <td>US</td>\n      <td>Donald Trump</td>\n      <td>US</td>\n      <td>0.9951</td>\n      <td>60350241.0</td>\n      <td>127592176.0</td>\n      <td>0.472993</td>\n      <td>Donald Trump</td>\n    </tr>\n    <tr>\n      <th>1</th>\n      <td>NaN</td>\n      <td>US</td>\n      <td>Hillary Clinton</td>\n      <td>US</td>\n      <td>0.9951</td>\n      <td>60981118.0</td>\n      <td>127592176.0</td>\n      <td>0.477938</td>\n      <td>Donald Trump</td>\n    </tr>\n    <tr>\n      <th>2</th>\n      <td>NaN</td>\n      <td>US</td>\n      <td>Gary Johnson</td>\n      <td>US</td>\n      <td>0.9951</td>\n      <td>4164589.0</td>\n      <td>127592176.0</td>\n      <td>0.032640</td>\n      <td>Donald Trump</td>\n    </tr>\n    <tr>\n      <th>3</th>\n      <td>NaN</td>\n      <td>US</td>\n      <td>Jill Stein</td>\n      <td>US</td>\n      <td>0.9951</td>\n      <td>1255968.0</td>\n      <td>127592176.0</td>\n      <td>0.009844</td>\n      <td>Donald Trump</td>\n    </tr>\n    <tr>\n      <th>4</th>\n      <td>NaN</td>\n      <td>US</td>\n      <td>Evan McMullin</td>\n      <td>US</td>\n      <td>0.9951</td>\n      <td>451636.0</td>\n      <td>127592176.0</td>\n      <td>0.003540</td>\n      <td>Donald Trump</td>\n    </tr>\n  </tbody>\n</table>\n</div>",
      "text/plain": "  county fips             cand  st  pct_report       votes  total_votes  \\\n0    NaN   US     Donald Trump  US      0.9951  60350241.0  127592176.0   \n1    NaN   US  Hillary Clinton  US      0.9951  60981118.0  127592176.0   \n2    NaN   US     Gary Johnson  US      0.9951   4164589.0  127592176.0   \n3    NaN   US       Jill Stein  US      0.9951   1255968.0  127592176.0   \n4    NaN   US    Evan McMullin  US      0.9951    451636.0  127592176.0   \n\n        pct          lead  \n0  0.472993  Donald Trump  \n1  0.477938  Donald Trump  \n2  0.032640  Donald Trump  \n3  0.009844  Donald Trump  \n4  0.003540  Donald Trump  "
     },
     "execution_count": 43,
     "metadata": {},
     "output_type": "execute_result"
    }
   ],
   "source": [
    "#string manipulation\n",
    "temp = pd.read_csv(\"../sentdex/datasets/pres16results.csv\")\n",
    "temp.head()"
   ]
  },
  {
   "cell_type": "code",
   "execution_count": 45,
   "metadata": {},
   "outputs": [
    {
     "data": {
      "text/plain": "0       DONALD TRUMP\n1    HILLARY CLINTON\n2       GARY JOHNSON\n3         JILL STEIN\n4      EVAN MCMULLIN\nName: cand, dtype: object"
     },
     "execution_count": 45,
     "metadata": {},
     "output_type": "execute_result"
    }
   ],
   "source": [
    "temp.cand.str.upper().head()"
   ]
  },
  {
   "cell_type": "code",
   "execution_count": 47,
   "metadata": {},
   "outputs": [
    {
     "data": {
      "text/plain": "0       donald trump\n1    hillary clinton\n2       gary johnson\n3         jill stein\n4      evan mcmullin\nName: cand, dtype: object"
     },
     "execution_count": 47,
     "metadata": {},
     "output_type": "execute_result"
    }
   ],
   "source": [
    "temp.cand.str.lower().head()"
   ]
  },
  {
   "cell_type": "code",
   "execution_count": 48,
   "metadata": {},
   "outputs": [
    {
     "data": {
      "text/html": "<div>\n<style scoped>\n    .dataframe tbody tr th:only-of-type {\n        vertical-align: middle;\n    }\n\n    .dataframe tbody tr th {\n        vertical-align: top;\n    }\n\n    .dataframe thead th {\n        text-align: right;\n    }\n</style>\n<table border=\"1\" class=\"dataframe\">\n  <thead>\n    <tr style=\"text-align: right;\">\n      <th></th>\n      <th>county</th>\n      <th>fips</th>\n      <th>cand</th>\n      <th>st</th>\n      <th>pct_report</th>\n      <th>votes</th>\n      <th>total_votes</th>\n      <th>pct</th>\n      <th>lead</th>\n    </tr>\n  </thead>\n  <tbody>\n    <tr>\n      <th>0</th>\n      <td>NaN</td>\n      <td>US</td>\n      <td>Donald Trump</td>\n      <td>US</td>\n      <td>0.9951</td>\n      <td>60350241.0</td>\n      <td>127592176.0</td>\n      <td>0.472993</td>\n      <td>Donald Trump</td>\n    </tr>\n    <tr>\n      <th>1</th>\n      <td>NaN</td>\n      <td>US</td>\n      <td>Hillary Clinton</td>\n      <td>US</td>\n      <td>0.9951</td>\n      <td>60981118.0</td>\n      <td>127592176.0</td>\n      <td>0.477938</td>\n      <td>Donald Trump</td>\n    </tr>\n    <tr>\n      <th>2</th>\n      <td>NaN</td>\n      <td>US</td>\n      <td>Gary Johnson</td>\n      <td>US</td>\n      <td>0.9951</td>\n      <td>4164589.0</td>\n      <td>127592176.0</td>\n      <td>0.032640</td>\n      <td>Donald Trump</td>\n    </tr>\n    <tr>\n      <th>3</th>\n      <td>NaN</td>\n      <td>US</td>\n      <td>Jill Stein</td>\n      <td>US</td>\n      <td>0.9951</td>\n      <td>1255968.0</td>\n      <td>127592176.0</td>\n      <td>0.009844</td>\n      <td>Donald Trump</td>\n    </tr>\n    <tr>\n      <th>4</th>\n      <td>NaN</td>\n      <td>US</td>\n      <td>Evan McMullin</td>\n      <td>US</td>\n      <td>0.9951</td>\n      <td>451636.0</td>\n      <td>127592176.0</td>\n      <td>0.003540</td>\n      <td>Donald Trump</td>\n    </tr>\n  </tbody>\n</table>\n</div>",
      "text/plain": "  county fips             cand  st  pct_report       votes  total_votes  \\\n0    NaN   US     Donald Trump  US      0.9951  60350241.0  127592176.0   \n1    NaN   US  Hillary Clinton  US      0.9951  60981118.0  127592176.0   \n2    NaN   US     Gary Johnson  US      0.9951   4164589.0  127592176.0   \n3    NaN   US       Jill Stein  US      0.9951   1255968.0  127592176.0   \n4    NaN   US    Evan McMullin  US      0.9951    451636.0  127592176.0   \n\n        pct          lead  \n0  0.472993  Donald Trump  \n1  0.477938  Donald Trump  \n2  0.032640  Donald Trump  \n3  0.009844  Donald Trump  \n4  0.003540  Donald Trump  "
     },
     "execution_count": 48,
     "metadata": {},
     "output_type": "execute_result"
    }
   ],
   "source": [
    "temp.head()"
   ]
  },
  {
   "cell_type": "code",
   "execution_count": 49,
   "metadata": {},
   "outputs": [
    {
     "data": {
      "text/html": "<div>\n<style scoped>\n    .dataframe tbody tr th:only-of-type {\n        vertical-align: middle;\n    }\n\n    .dataframe tbody tr th {\n        vertical-align: top;\n    }\n\n    .dataframe thead th {\n        text-align: right;\n    }\n</style>\n<table border=\"1\" class=\"dataframe\">\n  <thead>\n    <tr style=\"text-align: right;\">\n      <th></th>\n      <th>county</th>\n      <th>fips</th>\n      <th>cand</th>\n      <th>st</th>\n      <th>pct_report</th>\n      <th>votes</th>\n      <th>total_votes</th>\n      <th>pct</th>\n      <th>lead</th>\n    </tr>\n  </thead>\n  <tbody>\n    <tr>\n      <th>0</th>\n      <td>NaN</td>\n      <td>US</td>\n      <td>Donald Trump</td>\n      <td>US</td>\n      <td>0.9951</td>\n      <td>60350241.0</td>\n      <td>127592176.0</td>\n      <td>0.472993</td>\n      <td>Donald Trump</td>\n    </tr>\n    <tr>\n      <th>1</th>\n      <td>NaN</td>\n      <td>US</td>\n      <td>Hillary Clinton</td>\n      <td>US</td>\n      <td>0.9951</td>\n      <td>60981118.0</td>\n      <td>127592176.0</td>\n      <td>0.477938</td>\n      <td>Donald Trump</td>\n    </tr>\n    <tr>\n      <th>2</th>\n      <td>NaN</td>\n      <td>US</td>\n      <td>Gary Johnson</td>\n      <td>US</td>\n      <td>0.9951</td>\n      <td>4164589.0</td>\n      <td>127592176.0</td>\n      <td>0.032640</td>\n      <td>Donald Trump</td>\n    </tr>\n    <tr>\n      <th>3</th>\n      <td>NaN</td>\n      <td>US</td>\n      <td>Jill Stein</td>\n      <td>US</td>\n      <td>0.9951</td>\n      <td>1255968.0</td>\n      <td>127592176.0</td>\n      <td>0.009844</td>\n      <td>Donald Trump</td>\n    </tr>\n    <tr>\n      <th>4</th>\n      <td>NaN</td>\n      <td>US</td>\n      <td>Evan McMullin</td>\n      <td>US</td>\n      <td>0.9951</td>\n      <td>451636.0</td>\n      <td>127592176.0</td>\n      <td>0.003540</td>\n      <td>Donald Trump</td>\n    </tr>\n    <tr>\n      <th>...</th>\n      <td>...</td>\n      <td>...</td>\n      <td>...</td>\n      <td>...</td>\n      <td>...</td>\n      <td>...</td>\n      <td>...</td>\n      <td>...</td>\n      <td>...</td>\n    </tr>\n    <tr>\n      <th>18470</th>\n      <td>Yauco Municipio</td>\n      <td>72153</td>\n      <td>NaN</td>\n      <td>NaN</td>\n      <td>NaN</td>\n      <td>NaN</td>\n      <td>NaN</td>\n      <td>NaN</td>\n      <td>NaN</td>\n    </tr>\n    <tr>\n      <th>18471</th>\n      <td>Midway Islands</td>\n      <td>74300</td>\n      <td>NaN</td>\n      <td>NaN</td>\n      <td>NaN</td>\n      <td>NaN</td>\n      <td>NaN</td>\n      <td>NaN</td>\n      <td>NaN</td>\n    </tr>\n    <tr>\n      <th>18472</th>\n      <td>St. Croix Island</td>\n      <td>78010</td>\n      <td>NaN</td>\n      <td>NaN</td>\n      <td>NaN</td>\n      <td>NaN</td>\n      <td>NaN</td>\n      <td>NaN</td>\n      <td>NaN</td>\n    </tr>\n    <tr>\n      <th>18473</th>\n      <td>St. John Island</td>\n      <td>78020</td>\n      <td>NaN</td>\n      <td>NaN</td>\n      <td>NaN</td>\n      <td>NaN</td>\n      <td>NaN</td>\n      <td>NaN</td>\n      <td>NaN</td>\n    </tr>\n    <tr>\n      <th>18474</th>\n      <td>St. Thomas Island</td>\n      <td>78030</td>\n      <td>NaN</td>\n      <td>NaN</td>\n      <td>NaN</td>\n      <td>NaN</td>\n      <td>NaN</td>\n      <td>NaN</td>\n      <td>NaN</td>\n    </tr>\n  </tbody>\n</table>\n<p>18475 rows × 9 columns</p>\n</div>",
      "text/plain": "                  county   fips             cand   st  pct_report       votes  \\\n0                    NaN     US     Donald Trump   US      0.9951  60350241.0   \n1                    NaN     US  Hillary Clinton   US      0.9951  60981118.0   \n2                    NaN     US     Gary Johnson   US      0.9951   4164589.0   \n3                    NaN     US       Jill Stein   US      0.9951   1255968.0   \n4                    NaN     US    Evan McMullin   US      0.9951    451636.0   \n...                  ...    ...              ...  ...         ...         ...   \n18470    Yauco Municipio  72153              NaN  NaN         NaN         NaN   \n18471     Midway Islands  74300              NaN  NaN         NaN         NaN   \n18472   St. Croix Island  78010              NaN  NaN         NaN         NaN   \n18473    St. John Island  78020              NaN  NaN         NaN         NaN   \n18474  St. Thomas Island  78030              NaN  NaN         NaN         NaN   \n\n       total_votes       pct          lead  \n0      127592176.0  0.472993  Donald Trump  \n1      127592176.0  0.477938  Donald Trump  \n2      127592176.0  0.032640  Donald Trump  \n3      127592176.0  0.009844  Donald Trump  \n4      127592176.0  0.003540  Donald Trump  \n...            ...       ...           ...  \n18470          NaN       NaN           NaN  \n18471          NaN       NaN           NaN  \n18472          NaN       NaN           NaN  \n18473          NaN       NaN           NaN  \n18474          NaN       NaN           NaN  \n\n[18475 rows x 9 columns]"
     },
     "execution_count": 49,
     "metadata": {},
     "output_type": "execute_result"
    }
   ],
   "source": [
    "temp"
   ]
  },
  {
   "cell_type": "code",
   "execution_count": 65,
   "metadata": {},
   "outputs": [
    {
     "data": {
      "text/html": "<div>\n<style scoped>\n    .dataframe tbody tr th:only-of-type {\n        vertical-align: middle;\n    }\n\n    .dataframe tbody tr th {\n        vertical-align: top;\n    }\n\n    .dataframe thead th {\n        text-align: right;\n    }\n</style>\n<table border=\"1\" class=\"dataframe\">\n  <thead>\n    <tr style=\"text-align: right;\">\n      <th></th>\n      <th>county</th>\n      <th>fips</th>\n      <th>cand</th>\n      <th>st</th>\n      <th>pct_report</th>\n      <th>votes</th>\n      <th>total_votes</th>\n      <th>pct</th>\n      <th>lead</th>\n    </tr>\n  </thead>\n  <tbody>\n    <tr>\n      <th>0</th>\n      <td>Indeterminate</td>\n      <td>US</td>\n      <td>Donald Trump</td>\n      <td>US</td>\n      <td>0.9951</td>\n      <td>60350241.0</td>\n      <td>127592176.0</td>\n      <td>0.472993</td>\n      <td>Donald Trump</td>\n    </tr>\n    <tr>\n      <th>1</th>\n      <td>Indeterminate</td>\n      <td>US</td>\n      <td>Hillary Clinton</td>\n      <td>US</td>\n      <td>0.9951</td>\n      <td>60981118.0</td>\n      <td>127592176.0</td>\n      <td>0.477938</td>\n      <td>Donald Trump</td>\n    </tr>\n    <tr>\n      <th>2</th>\n      <td>Indeterminate</td>\n      <td>US</td>\n      <td>Gary Johnson</td>\n      <td>US</td>\n      <td>0.9951</td>\n      <td>4164589.0</td>\n      <td>127592176.0</td>\n      <td>0.032640</td>\n      <td>Donald Trump</td>\n    </tr>\n    <tr>\n      <th>3</th>\n      <td>Indeterminate</td>\n      <td>US</td>\n      <td>Jill Stein</td>\n      <td>US</td>\n      <td>0.9951</td>\n      <td>1255968.0</td>\n      <td>127592176.0</td>\n      <td>0.009844</td>\n      <td>Donald Trump</td>\n    </tr>\n    <tr>\n      <th>4</th>\n      <td>Indeterminate</td>\n      <td>US</td>\n      <td>Evan McMullin</td>\n      <td>US</td>\n      <td>0.9951</td>\n      <td>451636.0</td>\n      <td>127592176.0</td>\n      <td>0.003540</td>\n      <td>Donald Trump</td>\n    </tr>\n    <tr>\n      <th>...</th>\n      <td>...</td>\n      <td>...</td>\n      <td>...</td>\n      <td>...</td>\n      <td>...</td>\n      <td>...</td>\n      <td>...</td>\n      <td>...</td>\n      <td>...</td>\n    </tr>\n    <tr>\n      <th>18470</th>\n      <td>Yauco Municipio</td>\n      <td>72153</td>\n      <td>NaN</td>\n      <td>NaN</td>\n      <td>NaN</td>\n      <td>NaN</td>\n      <td>NaN</td>\n      <td>NaN</td>\n      <td>NaN</td>\n    </tr>\n    <tr>\n      <th>18471</th>\n      <td>Midway Islands</td>\n      <td>74300</td>\n      <td>NaN</td>\n      <td>NaN</td>\n      <td>NaN</td>\n      <td>NaN</td>\n      <td>NaN</td>\n      <td>NaN</td>\n      <td>NaN</td>\n    </tr>\n    <tr>\n      <th>18472</th>\n      <td>St. Croix Island</td>\n      <td>78010</td>\n      <td>NaN</td>\n      <td>NaN</td>\n      <td>NaN</td>\n      <td>NaN</td>\n      <td>NaN</td>\n      <td>NaN</td>\n      <td>NaN</td>\n    </tr>\n    <tr>\n      <th>18473</th>\n      <td>St. John Island</td>\n      <td>78020</td>\n      <td>NaN</td>\n      <td>NaN</td>\n      <td>NaN</td>\n      <td>NaN</td>\n      <td>NaN</td>\n      <td>NaN</td>\n      <td>NaN</td>\n    </tr>\n    <tr>\n      <th>18474</th>\n      <td>St. Thomas Island</td>\n      <td>78030</td>\n      <td>NaN</td>\n      <td>NaN</td>\n      <td>NaN</td>\n      <td>NaN</td>\n      <td>NaN</td>\n      <td>NaN</td>\n      <td>NaN</td>\n    </tr>\n  </tbody>\n</table>\n<p>18475 rows × 9 columns</p>\n</div>",
      "text/plain": "                  county   fips             cand   st  pct_report       votes  \\\n0          Indeterminate     US     Donald Trump   US      0.9951  60350241.0   \n1          Indeterminate     US  Hillary Clinton   US      0.9951  60981118.0   \n2          Indeterminate     US     Gary Johnson   US      0.9951   4164589.0   \n3          Indeterminate     US       Jill Stein   US      0.9951   1255968.0   \n4          Indeterminate     US    Evan McMullin   US      0.9951    451636.0   \n...                  ...    ...              ...  ...         ...         ...   \n18470    Yauco Municipio  72153              NaN  NaN         NaN         NaN   \n18471     Midway Islands  74300              NaN  NaN         NaN         NaN   \n18472   St. Croix Island  78010              NaN  NaN         NaN         NaN   \n18473    St. John Island  78020              NaN  NaN         NaN         NaN   \n18474  St. Thomas Island  78030              NaN  NaN         NaN         NaN   \n\n       total_votes       pct          lead  \n0      127592176.0  0.472993  Donald Trump  \n1      127592176.0  0.477938  Donald Trump  \n2      127592176.0  0.032640  Donald Trump  \n3      127592176.0  0.009844  Donald Trump  \n4      127592176.0  0.003540  Donald Trump  \n...            ...       ...           ...  \n18470          NaN       NaN           NaN  \n18471          NaN       NaN           NaN  \n18472          NaN       NaN           NaN  \n18473          NaN       NaN           NaN  \n18474          NaN       NaN           NaN  \n\n[18475 rows x 9 columns]"
     },
     "execution_count": 65,
     "metadata": {},
     "output_type": "execute_result"
    }
   ],
   "source": [
    "#replace NaN value in column \"county\"\n",
    "temp[\"county\"].fillna(\"XXX\", inplace=True)\n",
    "\n",
    "#replace \"XXX\" in column \"county\"\n",
    "temp[\"county\"] = temp[\"county\"].replace(\"XXX\", \"Indeterminate\")\n",
    "temp"
   ]
  },
  {
   "cell_type": "code",
   "execution_count": 66,
   "metadata": {},
   "outputs": [
    {
     "data": {
      "text/html": "<div>\n<style scoped>\n    .dataframe tbody tr th:only-of-type {\n        vertical-align: middle;\n    }\n\n    .dataframe tbody tr th {\n        vertical-align: top;\n    }\n\n    .dataframe thead th {\n        text-align: right;\n    }\n</style>\n<table border=\"1\" class=\"dataframe\">\n  <thead>\n    <tr style=\"text-align: right;\">\n      <th></th>\n      <th>county</th>\n      <th>fips</th>\n      <th>cand</th>\n      <th>st</th>\n      <th>pct_report</th>\n      <th>votes</th>\n      <th>total_votes</th>\n      <th>pct</th>\n      <th>lead</th>\n    </tr>\n  </thead>\n  <tbody>\n    <tr>\n      <th>2824</th>\n      <td>Rock Island County</td>\n      <td>17161</td>\n      <td>Hillary Clinton</td>\n      <td>IL</td>\n      <td>1.0000</td>\n      <td>32258.0</td>\n      <td>62971.0</td>\n      <td>0.512268</td>\n      <td>Hillary Clinton</td>\n    </tr>\n    <tr>\n      <th>2825</th>\n      <td>Rock Island County</td>\n      <td>17161</td>\n      <td>Donald Trump</td>\n      <td>IL</td>\n      <td>1.0000</td>\n      <td>26969.0</td>\n      <td>62971.0</td>\n      <td>0.428277</td>\n      <td>Hillary Clinton</td>\n    </tr>\n    <tr>\n      <th>2826</th>\n      <td>Rock Island County</td>\n      <td>17161</td>\n      <td>Gary Johnson</td>\n      <td>IL</td>\n      <td>1.0000</td>\n      <td>3012.0</td>\n      <td>62971.0</td>\n      <td>0.047832</td>\n      <td>Hillary Clinton</td>\n    </tr>\n    <tr>\n      <th>2827</th>\n      <td>Rock Island County</td>\n      <td>17161</td>\n      <td>Jill Stein</td>\n      <td>IL</td>\n      <td>1.0000</td>\n      <td>732.0</td>\n      <td>62971.0</td>\n      <td>0.011624</td>\n      <td>Hillary Clinton</td>\n    </tr>\n    <tr>\n      <th>3804</th>\n      <td>Island County</td>\n      <td>53029</td>\n      <td>Hillary Clinton</td>\n      <td>WA</td>\n      <td>0.9167</td>\n      <td>20173.0</td>\n      <td>41010.0</td>\n      <td>0.491904</td>\n      <td>Hillary Clinton</td>\n    </tr>\n    <tr>\n      <th>3805</th>\n      <td>Island County</td>\n      <td>53029</td>\n      <td>Donald Trump</td>\n      <td>WA</td>\n      <td>0.9167</td>\n      <td>17634.0</td>\n      <td>41010.0</td>\n      <td>0.429993</td>\n      <td>Hillary Clinton</td>\n    </tr>\n    <tr>\n      <th>3806</th>\n      <td>Island County</td>\n      <td>53029</td>\n      <td>Gary Johnson</td>\n      <td>WA</td>\n      <td>0.9167</td>\n      <td>2147.0</td>\n      <td>41010.0</td>\n      <td>0.052353</td>\n      <td>Hillary Clinton</td>\n    </tr>\n    <tr>\n      <th>3807</th>\n      <td>Island County</td>\n      <td>53029</td>\n      <td>Jill Stein</td>\n      <td>WA</td>\n      <td>0.9167</td>\n      <td>748.0</td>\n      <td>41010.0</td>\n      <td>0.018239</td>\n      <td>Hillary Clinton</td>\n    </tr>\n    <tr>\n      <th>3808</th>\n      <td>Island County</td>\n      <td>53029</td>\n      <td>Darrell Castle</td>\n      <td>WA</td>\n      <td>0.9167</td>\n      <td>227.0</td>\n      <td>41010.0</td>\n      <td>0.005535</td>\n      <td>Hillary Clinton</td>\n    </tr>\n    <tr>\n      <th>3809</th>\n      <td>Island County</td>\n      <td>53029</td>\n      <td>Alyson Kennedy</td>\n      <td>WA</td>\n      <td>0.9167</td>\n      <td>43.0</td>\n      <td>41010.0</td>\n      <td>0.001049</td>\n      <td>Hillary Clinton</td>\n    </tr>\n    <tr>\n      <th>3810</th>\n      <td>Island County</td>\n      <td>53029</td>\n      <td>Gloria La Riva</td>\n      <td>WA</td>\n      <td>0.9167</td>\n      <td>38.0</td>\n      <td>41010.0</td>\n      <td>0.000927</td>\n      <td>Hillary Clinton</td>\n    </tr>\n    <tr>\n      <th>18364</th>\n      <td>Kodiak Island Borough</td>\n      <td>2150</td>\n      <td>NaN</td>\n      <td>NaN</td>\n      <td>NaN</td>\n      <td>NaN</td>\n      <td>NaN</td>\n      <td>NaN</td>\n      <td>NaN</td>\n    </tr>\n    <tr>\n      <th>18385</th>\n      <td>Rose Island</td>\n      <td>60030</td>\n      <td>NaN</td>\n      <td>NaN</td>\n      <td>NaN</td>\n      <td>NaN</td>\n      <td>NaN</td>\n      <td>NaN</td>\n      <td>NaN</td>\n    </tr>\n    <tr>\n      <th>18386</th>\n      <td>Swains Island</td>\n      <td>60040</td>\n      <td>NaN</td>\n      <td>NaN</td>\n      <td>NaN</td>\n      <td>NaN</td>\n      <td>NaN</td>\n      <td>NaN</td>\n      <td>NaN</td>\n    </tr>\n    <tr>\n      <th>18389</th>\n      <td>Northern Islands Municipality</td>\n      <td>69085</td>\n      <td>NaN</td>\n      <td>NaN</td>\n      <td>NaN</td>\n      <td>NaN</td>\n      <td>NaN</td>\n      <td>NaN</td>\n      <td>NaN</td>\n    </tr>\n    <tr>\n      <th>18471</th>\n      <td>Midway Islands</td>\n      <td>74300</td>\n      <td>NaN</td>\n      <td>NaN</td>\n      <td>NaN</td>\n      <td>NaN</td>\n      <td>NaN</td>\n      <td>NaN</td>\n      <td>NaN</td>\n    </tr>\n    <tr>\n      <th>18472</th>\n      <td>St. Croix Island</td>\n      <td>78010</td>\n      <td>NaN</td>\n      <td>NaN</td>\n      <td>NaN</td>\n      <td>NaN</td>\n      <td>NaN</td>\n      <td>NaN</td>\n      <td>NaN</td>\n    </tr>\n    <tr>\n      <th>18473</th>\n      <td>St. John Island</td>\n      <td>78020</td>\n      <td>NaN</td>\n      <td>NaN</td>\n      <td>NaN</td>\n      <td>NaN</td>\n      <td>NaN</td>\n      <td>NaN</td>\n      <td>NaN</td>\n    </tr>\n    <tr>\n      <th>18474</th>\n      <td>St. Thomas Island</td>\n      <td>78030</td>\n      <td>NaN</td>\n      <td>NaN</td>\n      <td>NaN</td>\n      <td>NaN</td>\n      <td>NaN</td>\n      <td>NaN</td>\n      <td>NaN</td>\n    </tr>\n  </tbody>\n</table>\n</div>",
      "text/plain": "                              county   fips             cand   st  pct_report  \\\n2824              Rock Island County  17161  Hillary Clinton   IL      1.0000   \n2825              Rock Island County  17161     Donald Trump   IL      1.0000   \n2826              Rock Island County  17161     Gary Johnson   IL      1.0000   \n2827              Rock Island County  17161       Jill Stein   IL      1.0000   \n3804                   Island County  53029  Hillary Clinton   WA      0.9167   \n3805                   Island County  53029     Donald Trump   WA      0.9167   \n3806                   Island County  53029     Gary Johnson   WA      0.9167   \n3807                   Island County  53029       Jill Stein   WA      0.9167   \n3808                   Island County  53029   Darrell Castle   WA      0.9167   \n3809                   Island County  53029   Alyson Kennedy   WA      0.9167   \n3810                   Island County  53029   Gloria La Riva   WA      0.9167   \n18364          Kodiak Island Borough   2150              NaN  NaN         NaN   \n18385                    Rose Island  60030              NaN  NaN         NaN   \n18386                  Swains Island  60040              NaN  NaN         NaN   \n18389  Northern Islands Municipality  69085              NaN  NaN         NaN   \n18471                 Midway Islands  74300              NaN  NaN         NaN   \n18472               St. Croix Island  78010              NaN  NaN         NaN   \n18473                St. John Island  78020              NaN  NaN         NaN   \n18474              St. Thomas Island  78030              NaN  NaN         NaN   \n\n         votes  total_votes       pct             lead  \n2824   32258.0      62971.0  0.512268  Hillary Clinton  \n2825   26969.0      62971.0  0.428277  Hillary Clinton  \n2826    3012.0      62971.0  0.047832  Hillary Clinton  \n2827     732.0      62971.0  0.011624  Hillary Clinton  \n3804   20173.0      41010.0  0.491904  Hillary Clinton  \n3805   17634.0      41010.0  0.429993  Hillary Clinton  \n3806    2147.0      41010.0  0.052353  Hillary Clinton  \n3807     748.0      41010.0  0.018239  Hillary Clinton  \n3808     227.0      41010.0  0.005535  Hillary Clinton  \n3809      43.0      41010.0  0.001049  Hillary Clinton  \n3810      38.0      41010.0  0.000927  Hillary Clinton  \n18364      NaN          NaN       NaN              NaN  \n18385      NaN          NaN       NaN              NaN  \n18386      NaN          NaN       NaN              NaN  \n18389      NaN          NaN       NaN              NaN  \n18471      NaN          NaN       NaN              NaN  \n18472      NaN          NaN       NaN              NaN  \n18473      NaN          NaN       NaN              NaN  \n18474      NaN          NaN       NaN              NaN  "
     },
     "execution_count": 66,
     "metadata": {},
     "output_type": "execute_result"
    }
   ],
   "source": [
    "#filtering by specific value\n",
    "temp[temp.county.str.contains(\"Island\")]"
   ]
  },
  {
   "cell_type": "code",
   "execution_count": null,
   "metadata": {},
   "outputs": [],
   "source": []
  },
  {
   "cell_type": "code",
   "execution_count": null,
   "metadata": {},
   "outputs": [],
   "source": []
  },
  {
   "cell_type": "code",
   "execution_count": null,
   "metadata": {},
   "outputs": [],
   "source": []
  },
  {
   "cell_type": "code",
   "execution_count": null,
   "metadata": {},
   "outputs": [],
   "source": []
  },
  {
   "cell_type": "code",
   "execution_count": null,
   "metadata": {},
   "outputs": [],
   "source": []
  },
  {
   "cell_type": "code",
   "execution_count": null,
   "metadata": {},
   "outputs": [],
   "source": []
  },
  {
   "cell_type": "code",
   "execution_count": null,
   "metadata": {},
   "outputs": [],
   "source": []
  },
  {
   "cell_type": "code",
   "execution_count": null,
   "metadata": {},
   "outputs": [],
   "source": []
  },
  {
   "cell_type": "code",
   "execution_count": null,
   "metadata": {},
   "outputs": [],
   "source": []
  },
  {
   "cell_type": "code",
   "execution_count": null,
   "metadata": {},
   "outputs": [],
   "source": []
  },
  {
   "cell_type": "code",
   "execution_count": null,
   "metadata": {},
   "outputs": [],
   "source": []
  },
  {
   "cell_type": "code",
   "execution_count": null,
   "metadata": {},
   "outputs": [],
   "source": []
  },
  {
   "cell_type": "code",
   "execution_count": null,
   "metadata": {},
   "outputs": [],
   "source": []
  },
  {
   "cell_type": "code",
   "execution_count": null,
   "metadata": {},
   "outputs": [],
   "source": []
  },
  {
   "cell_type": "code",
   "execution_count": null,
   "metadata": {},
   "outputs": [],
   "source": []
  },
  {
   "cell_type": "code",
   "execution_count": null,
   "metadata": {},
   "outputs": [],
   "source": []
  },
  {
   "cell_type": "code",
   "execution_count": null,
   "metadata": {},
   "outputs": [],
   "source": []
  },
  {
   "cell_type": "code",
   "execution_count": null,
   "metadata": {},
   "outputs": [],
   "source": []
  },
  {
   "cell_type": "code",
   "execution_count": null,
   "metadata": {},
   "outputs": [],
   "source": []
  },
  {
   "cell_type": "code",
   "execution_count": null,
   "metadata": {},
   "outputs": [],
   "source": []
  },
  {
   "cell_type": "code",
   "execution_count": null,
   "metadata": {},
   "outputs": [],
   "source": []
  },
  {
   "cell_type": "code",
   "execution_count": null,
   "metadata": {},
   "outputs": [],
   "source": []
  },
  {
   "cell_type": "code",
   "execution_count": null,
   "metadata": {},
   "outputs": [],
   "source": []
  },
  {
   "cell_type": "code",
   "execution_count": null,
   "metadata": {},
   "outputs": [],
   "source": []
  },
  {
   "cell_type": "code",
   "execution_count": null,
   "metadata": {},
   "outputs": [],
   "source": []
  },
  {
   "cell_type": "code",
   "execution_count": null,
   "metadata": {},
   "outputs": [],
   "source": []
  },
  {
   "cell_type": "code",
   "execution_count": null,
   "metadata": {},
   "outputs": [],
   "source": []
  },
  {
   "cell_type": "code",
   "execution_count": null,
   "metadata": {},
   "outputs": [],
   "source": []
  },
  {
   "cell_type": "code",
   "execution_count": null,
   "metadata": {},
   "outputs": [],
   "source": []
  },
  {
   "cell_type": "code",
   "execution_count": null,
   "metadata": {},
   "outputs": [],
   "source": []
  },
  {
   "cell_type": "code",
   "execution_count": null,
   "metadata": {},
   "outputs": [],
   "source": []
  },
  {
   "cell_type": "code",
   "execution_count": null,
   "metadata": {},
   "outputs": [],
   "source": []
  },
  {
   "cell_type": "code",
   "execution_count": null,
   "metadata": {},
   "outputs": [],
   "source": []
  },
  {
   "cell_type": "code",
   "execution_count": null,
   "metadata": {},
   "outputs": [],
   "source": []
  },
  {
   "cell_type": "code",
   "execution_count": null,
   "metadata": {},
   "outputs": [],
   "source": []
  },
  {
   "cell_type": "code",
   "execution_count": null,
   "metadata": {},
   "outputs": [],
   "source": []
  },
  {
   "cell_type": "code",
   "execution_count": null,
   "metadata": {},
   "outputs": [],
   "source": []
  }
 ]
}