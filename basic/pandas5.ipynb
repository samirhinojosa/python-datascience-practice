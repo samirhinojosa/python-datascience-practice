{
 "nbformat": 4,
 "nbformat_minor": 2,
 "metadata": {
  "language_info": {
   "name": "python",
   "codemirror_mode": {
    "name": "ipython",
    "version": 3
   },
   "version": "3.8.1-final"
  },
  "orig_nbformat": 2,
  "file_extension": ".py",
  "mimetype": "text/x-python",
  "name": "python",
  "npconvert_exporter": "python",
  "pygments_lexer": "ipython3",
  "version": 3,
  "kernelspec": {
   "name": "python38164bit41816c7021a34a598a87cc1489ac11b8",
   "display_name": "Python 3.8.1 64-bit"
  }
 },
 "cells": [
  {
   "cell_type": "code",
   "execution_count": 3,
   "metadata": {},
   "outputs": [
    {
     "data": {
      "text/html": "<div>\n<style scoped>\n    .dataframe tbody tr th:only-of-type {\n        vertical-align: middle;\n    }\n\n    .dataframe tbody tr th {\n        vertical-align: top;\n    }\n\n    .dataframe thead th {\n        text-align: right;\n    }\n</style>\n<table border=\"1\" class=\"dataframe\">\n  <thead>\n    <tr style=\"text-align: right;\">\n      <th></th>\n      <th>Year</th>\n      <th>Month</th>\n      <th>State</th>\n      <th>County</th>\n      <th>Rate</th>\n    </tr>\n  </thead>\n  <tbody>\n    <tr>\n      <th>0</th>\n      <td>2015</td>\n      <td>February</td>\n      <td>Mississippi</td>\n      <td>Newton County</td>\n      <td>6.1</td>\n    </tr>\n    <tr>\n      <th>1</th>\n      <td>2015</td>\n      <td>February</td>\n      <td>Mississippi</td>\n      <td>Panola County</td>\n      <td>9.4</td>\n    </tr>\n    <tr>\n      <th>2</th>\n      <td>2015</td>\n      <td>February</td>\n      <td>Mississippi</td>\n      <td>Monroe County</td>\n      <td>7.9</td>\n    </tr>\n    <tr>\n      <th>3</th>\n      <td>2015</td>\n      <td>February</td>\n      <td>Mississippi</td>\n      <td>Hinds County</td>\n      <td>6.1</td>\n    </tr>\n    <tr>\n      <th>4</th>\n      <td>2015</td>\n      <td>February</td>\n      <td>Mississippi</td>\n      <td>Kemper County</td>\n      <td>10.6</td>\n    </tr>\n  </tbody>\n</table>\n</div>",
      "text/plain": "   Year     Month        State         County  Rate\n0  2015  February  Mississippi  Newton County   6.1\n1  2015  February  Mississippi  Panola County   9.4\n2  2015  February  Mississippi  Monroe County   7.9\n3  2015  February  Mississippi   Hinds County   6.1\n4  2015  February  Mississippi  Kemper County  10.6"
     },
     "execution_count": 3,
     "metadata": {},
     "output_type": "execute_result"
    }
   ],
   "source": [
    "import pandas as pd \n",
    "import numpy as np \n",
    "\n",
    "unemp_county = pd.read_csv(\"../datasets/unemployment-by-county-us/output.csv\")\n",
    "\n",
    "unemp_county.head()"
   ]
  },
  {
   "cell_type": "code",
   "execution_count": 4,
   "metadata": {},
   "outputs": [
    {
     "data": {
      "text/html": "<div>\n<style scoped>\n    .dataframe tbody tr th:only-of-type {\n        vertical-align: middle;\n    }\n\n    .dataframe tbody tr th {\n        vertical-align: top;\n    }\n\n    .dataframe thead th {\n        text-align: right;\n    }\n</style>\n<table border=\"1\" class=\"dataframe\">\n  <thead>\n    <tr style=\"text-align: right;\">\n      <th></th>\n      <th>Alabama</th>\n      <th>Alaska</th>\n      <th>Arizona</th>\n      <th>Arkansas</th>\n      <th>California</th>\n      <th>Colorado</th>\n      <th>Connecticut</th>\n      <th>Delaware</th>\n      <th>District of Columbia</th>\n      <th>Federal (FLSA)</th>\n      <th>...</th>\n      <th>Tennessee</th>\n      <th>Texas</th>\n      <th>U.S. Virgin Islands</th>\n      <th>Utah</th>\n      <th>Vermont</th>\n      <th>Virginia</th>\n      <th>Washington</th>\n      <th>West Virginia</th>\n      <th>Wisconsin</th>\n      <th>Wyoming</th>\n    </tr>\n    <tr>\n      <th>Year</th>\n      <th></th>\n      <th></th>\n      <th></th>\n      <th></th>\n      <th></th>\n      <th></th>\n      <th></th>\n      <th></th>\n      <th></th>\n      <th></th>\n      <th></th>\n      <th></th>\n      <th></th>\n      <th></th>\n      <th></th>\n      <th></th>\n      <th></th>\n      <th></th>\n      <th></th>\n      <th></th>\n      <th></th>\n    </tr>\n  </thead>\n  <tbody>\n    <tr>\n      <th>1968</th>\n      <td>0.0</td>\n      <td>15.12</td>\n      <td>3.37</td>\n      <td>1.12</td>\n      <td>11.88</td>\n      <td>7.20</td>\n      <td>10.08</td>\n      <td>9.00</td>\n      <td>9.00</td>\n      <td>8.28</td>\n      <td>...</td>\n      <td>0.0</td>\n      <td>0.00</td>\n      <td>NaN</td>\n      <td>7.20</td>\n      <td>10.08</td>\n      <td>0.0</td>\n      <td>11.52</td>\n      <td>7.20</td>\n      <td>9.00</td>\n      <td>8.64</td>\n    </tr>\n    <tr>\n      <th>1969</th>\n      <td>0.0</td>\n      <td>14.33</td>\n      <td>3.19</td>\n      <td>1.07</td>\n      <td>11.26</td>\n      <td>6.83</td>\n      <td>9.56</td>\n      <td>8.53</td>\n      <td>8.53</td>\n      <td>7.85</td>\n      <td>...</td>\n      <td>0.0</td>\n      <td>0.00</td>\n      <td>NaN</td>\n      <td>6.83</td>\n      <td>9.56</td>\n      <td>0.0</td>\n      <td>10.92</td>\n      <td>6.83</td>\n      <td>8.53</td>\n      <td>8.19</td>\n    </tr>\n    <tr>\n      <th>1970</th>\n      <td>0.0</td>\n      <td>13.54</td>\n      <td>3.02</td>\n      <td>7.09</td>\n      <td>10.64</td>\n      <td>6.45</td>\n      <td>10.32</td>\n      <td>8.06</td>\n      <td>10.32</td>\n      <td>8.38</td>\n      <td>...</td>\n      <td>0.0</td>\n      <td>0.00</td>\n      <td>NaN</td>\n      <td>6.45</td>\n      <td>10.32</td>\n      <td>0.0</td>\n      <td>10.32</td>\n      <td>6.45</td>\n      <td>8.38</td>\n      <td>8.38</td>\n    </tr>\n    <tr>\n      <th>1971</th>\n      <td>0.0</td>\n      <td>12.99</td>\n      <td>2.89</td>\n      <td>6.80</td>\n      <td>10.20</td>\n      <td>6.18</td>\n      <td>9.89</td>\n      <td>7.73</td>\n      <td>9.89</td>\n      <td>8.04</td>\n      <td>...</td>\n      <td>0.0</td>\n      <td>0.00</td>\n      <td>NaN</td>\n      <td>6.18</td>\n      <td>9.89</td>\n      <td>0.0</td>\n      <td>9.89</td>\n      <td>6.18</td>\n      <td>8.04</td>\n      <td>8.04</td>\n    </tr>\n    <tr>\n      <th>1972</th>\n      <td>0.0</td>\n      <td>12.57</td>\n      <td>2.80</td>\n      <td>7.19</td>\n      <td>9.88</td>\n      <td>5.99</td>\n      <td>11.08</td>\n      <td>9.58</td>\n      <td>9.58</td>\n      <td>9.58</td>\n      <td>...</td>\n      <td>0.0</td>\n      <td>8.38</td>\n      <td>NaN</td>\n      <td>7.19</td>\n      <td>9.58</td>\n      <td>0.0</td>\n      <td>9.58</td>\n      <td>7.19</td>\n      <td>8.68</td>\n      <td>8.98</td>\n    </tr>\n  </tbody>\n</table>\n<p>5 rows × 55 columns</p>\n</div>",
      "text/plain": "      Alabama  Alaska  Arizona  Arkansas  California  Colorado  Connecticut  \\\nYear                                                                          \n1968      0.0   15.12     3.37      1.12       11.88      7.20        10.08   \n1969      0.0   14.33     3.19      1.07       11.26      6.83         9.56   \n1970      0.0   13.54     3.02      7.09       10.64      6.45        10.32   \n1971      0.0   12.99     2.89      6.80       10.20      6.18         9.89   \n1972      0.0   12.57     2.80      7.19        9.88      5.99        11.08   \n\n      Delaware  District of Columbia  Federal (FLSA)  ...  Tennessee  Texas  \\\nYear                                                  ...                     \n1968      9.00                  9.00            8.28  ...        0.0   0.00   \n1969      8.53                  8.53            7.85  ...        0.0   0.00   \n1970      8.06                 10.32            8.38  ...        0.0   0.00   \n1971      7.73                  9.89            8.04  ...        0.0   0.00   \n1972      9.58                  9.58            9.58  ...        0.0   8.38   \n\n      U.S. Virgin Islands  Utah  Vermont  Virginia  Washington  West Virginia  \\\nYear                                                                            \n1968                  NaN  7.20    10.08       0.0       11.52           7.20   \n1969                  NaN  6.83     9.56       0.0       10.92           6.83   \n1970                  NaN  6.45    10.32       0.0       10.32           6.45   \n1971                  NaN  6.18     9.89       0.0        9.89           6.18   \n1972                  NaN  7.19     9.58       0.0        9.58           7.19   \n\n      Wisconsin  Wyoming  \nYear                      \n1968       9.00     8.64  \n1969       8.53     8.19  \n1970       8.38     8.38  \n1971       8.04     8.04  \n1972       8.68     8.98  \n\n[5 rows x 55 columns]"
     },
     "execution_count": 4,
     "metadata": {},
     "output_type": "execute_result"
    }
   ],
   "source": [
    "df = pd.read_csv(\"../datasets/minwage.csv\")\n",
    "\n",
    "act_min_wage = pd.DataFrame()\n",
    "\n",
    "for name, group in df.groupby(\"State\"):\n",
    "    if act_min_wage.empty:\n",
    "        act_min_wage = group.set_index(\"Year\")[[\"Low.2018\"]].rename(columns={\"Low.2018\":name})\n",
    "\n",
    "    else:\n",
    "        act_min_wage = act_min_wage.join(group.set_index(\"Year\")[[\"Low.2018\"]].rename(columns={\"Low.2018\":name}))\n",
    "\n",
    "act_min_wage.head()"
   ]
  },
  {
   "cell_type": "code",
   "execution_count": 5,
   "metadata": {},
   "outputs": [
    {
     "data": {
      "text/html": "<div>\n<style scoped>\n    .dataframe tbody tr th:only-of-type {\n        vertical-align: middle;\n    }\n\n    .dataframe tbody tr th {\n        vertical-align: top;\n    }\n\n    .dataframe thead th {\n        text-align: right;\n    }\n</style>\n<table border=\"1\" class=\"dataframe\">\n  <thead>\n    <tr style=\"text-align: right;\">\n      <th></th>\n      <th>Alaska</th>\n      <th>Arkansas</th>\n      <th>California</th>\n      <th>Colorado</th>\n      <th>Connecticut</th>\n      <th>Delaware</th>\n      <th>District of Columbia</th>\n      <th>Federal (FLSA)</th>\n      <th>Guam</th>\n      <th>Hawaii</th>\n      <th>...</th>\n      <th>Pennsylvania</th>\n      <th>Puerto Rico</th>\n      <th>Rhode Island</th>\n      <th>South Dakota</th>\n      <th>Utah</th>\n      <th>Vermont</th>\n      <th>Washington</th>\n      <th>West Virginia</th>\n      <th>Wisconsin</th>\n      <th>Wyoming</th>\n    </tr>\n    <tr>\n      <th>Year</th>\n      <th></th>\n      <th></th>\n      <th></th>\n      <th></th>\n      <th></th>\n      <th></th>\n      <th></th>\n      <th></th>\n      <th></th>\n      <th></th>\n      <th></th>\n      <th></th>\n      <th></th>\n      <th></th>\n      <th></th>\n      <th></th>\n      <th></th>\n      <th></th>\n      <th></th>\n      <th></th>\n      <th></th>\n    </tr>\n  </thead>\n  <tbody>\n    <tr>\n      <th>1968</th>\n      <td>15.12</td>\n      <td>1.12</td>\n      <td>11.88</td>\n      <td>7.20</td>\n      <td>10.08</td>\n      <td>9.00</td>\n      <td>9.00</td>\n      <td>8.28</td>\n      <td>9.00</td>\n      <td>9.00</td>\n      <td>...</td>\n      <td>8.28</td>\n      <td>3.10</td>\n      <td>10.08</td>\n      <td>3.06</td>\n      <td>7.20</td>\n      <td>10.08</td>\n      <td>11.52</td>\n      <td>7.20</td>\n      <td>9.00</td>\n      <td>8.64</td>\n    </tr>\n    <tr>\n      <th>1969</th>\n      <td>14.33</td>\n      <td>1.07</td>\n      <td>11.26</td>\n      <td>6.83</td>\n      <td>9.56</td>\n      <td>8.53</td>\n      <td>8.53</td>\n      <td>7.85</td>\n      <td>8.53</td>\n      <td>8.53</td>\n      <td>...</td>\n      <td>7.85</td>\n      <td>2.94</td>\n      <td>9.56</td>\n      <td>2.90</td>\n      <td>6.83</td>\n      <td>9.56</td>\n      <td>10.92</td>\n      <td>6.83</td>\n      <td>8.53</td>\n      <td>8.19</td>\n    </tr>\n    <tr>\n      <th>1970</th>\n      <td>13.54</td>\n      <td>7.09</td>\n      <td>10.64</td>\n      <td>6.45</td>\n      <td>10.32</td>\n      <td>8.06</td>\n      <td>10.32</td>\n      <td>8.38</td>\n      <td>10.32</td>\n      <td>10.32</td>\n      <td>...</td>\n      <td>8.38</td>\n      <td>2.77</td>\n      <td>10.32</td>\n      <td>6.45</td>\n      <td>6.45</td>\n      <td>10.32</td>\n      <td>10.32</td>\n      <td>6.45</td>\n      <td>8.38</td>\n      <td>8.38</td>\n    </tr>\n    <tr>\n      <th>1971</th>\n      <td>12.99</td>\n      <td>6.80</td>\n      <td>10.20</td>\n      <td>6.18</td>\n      <td>9.89</td>\n      <td>7.73</td>\n      <td>9.89</td>\n      <td>8.04</td>\n      <td>9.89</td>\n      <td>9.89</td>\n      <td>...</td>\n      <td>8.04</td>\n      <td>2.66</td>\n      <td>9.89</td>\n      <td>6.18</td>\n      <td>6.18</td>\n      <td>9.89</td>\n      <td>9.89</td>\n      <td>6.18</td>\n      <td>8.04</td>\n      <td>8.04</td>\n    </tr>\n    <tr>\n      <th>1972</th>\n      <td>12.57</td>\n      <td>7.19</td>\n      <td>9.88</td>\n      <td>5.99</td>\n      <td>11.08</td>\n      <td>9.58</td>\n      <td>9.58</td>\n      <td>9.58</td>\n      <td>11.38</td>\n      <td>9.58</td>\n      <td>...</td>\n      <td>9.58</td>\n      <td>3.89</td>\n      <td>9.58</td>\n      <td>5.99</td>\n      <td>7.19</td>\n      <td>9.58</td>\n      <td>9.58</td>\n      <td>7.19</td>\n      <td>8.68</td>\n      <td>8.98</td>\n    </tr>\n  </tbody>\n</table>\n<p>5 rows × 39 columns</p>\n</div>",
      "text/plain": "      Alaska  Arkansas  California  Colorado  Connecticut  Delaware  \\\nYear                                                                  \n1968   15.12      1.12       11.88      7.20        10.08      9.00   \n1969   14.33      1.07       11.26      6.83         9.56      8.53   \n1970   13.54      7.09       10.64      6.45        10.32      8.06   \n1971   12.99      6.80       10.20      6.18         9.89      7.73   \n1972   12.57      7.19        9.88      5.99        11.08      9.58   \n\n      District of Columbia  Federal (FLSA)   Guam  Hawaii  ...  Pennsylvania  \\\nYear                                                       ...                 \n1968                  9.00            8.28   9.00    9.00  ...          8.28   \n1969                  8.53            7.85   8.53    8.53  ...          7.85   \n1970                 10.32            8.38  10.32   10.32  ...          8.38   \n1971                  9.89            8.04   9.89    9.89  ...          8.04   \n1972                  9.58            9.58  11.38    9.58  ...          9.58   \n\n      Puerto Rico  Rhode Island  South Dakota  Utah  Vermont  Washington  \\\nYear                                                                       \n1968         3.10         10.08          3.06  7.20    10.08       11.52   \n1969         2.94          9.56          2.90  6.83     9.56       10.92   \n1970         2.77         10.32          6.45  6.45    10.32       10.32   \n1971         2.66          9.89          6.18  6.18     9.89        9.89   \n1972         3.89          9.58          5.99  7.19     9.58        9.58   \n\n      West Virginia  Wisconsin  Wyoming  \nYear                                     \n1968           7.20       9.00     8.64  \n1969           6.83       8.53     8.19  \n1970           6.45       8.38     8.38  \n1971           6.18       8.04     8.04  \n1972           7.19       8.68     8.98  \n\n[5 rows x 39 columns]"
     },
     "execution_count": 5,
     "metadata": {},
     "output_type": "execute_result"
    }
   ],
   "source": [
    "act_min_wage = act_min_wage.replace(0, np.NaN).dropna(axis=1)\n",
    "act_min_wage.head()"
   ]
  },
  {
   "cell_type": "code",
   "execution_count": 6,
   "metadata": {},
   "outputs": [
    {
     "data": {
      "text/plain": "8.33"
     },
     "execution_count": 6,
     "metadata": {},
     "output_type": "execute_result"
    }
   ],
   "source": [
    "def get_min_wage(year, state):\n",
    "    try:\n",
    "        return act_min_wage.loc[year][state]\n",
    "    except:\n",
    "        return np.NaN\n",
    "\n",
    "get_min_wage(2012, \"Colorado\")"
   ]
  },
  {
   "cell_type": "code",
   "execution_count": 7,
   "metadata": {},
   "outputs": [
    {
     "name": "stdout",
     "output_type": "stream",
     "text": "CPU times: user 3min 16s, sys: 160 ms, total: 3min 16s\nWall time: 3min 16s\n"
    }
   ],
   "source": [
    "%%time\n",
    "\n",
    "unemp_county[\"min_wage\"] = list(map(get_min_wage, unemp_county[\"Year\"], unemp_county[\"State\"]))"
   ]
  },
  {
   "cell_type": "code",
   "execution_count": 8,
   "metadata": {},
   "outputs": [
    {
     "data": {
      "text/html": "<div>\n<style scoped>\n    .dataframe tbody tr th:only-of-type {\n        vertical-align: middle;\n    }\n\n    .dataframe tbody tr th {\n        vertical-align: top;\n    }\n\n    .dataframe thead th {\n        text-align: right;\n    }\n</style>\n<table border=\"1\" class=\"dataframe\">\n  <thead>\n    <tr style=\"text-align: right;\">\n      <th></th>\n      <th>Year</th>\n      <th>Month</th>\n      <th>State</th>\n      <th>County</th>\n      <th>Rate</th>\n      <th>min_wage</th>\n    </tr>\n  </thead>\n  <tbody>\n    <tr>\n      <th>0</th>\n      <td>2015</td>\n      <td>February</td>\n      <td>Mississippi</td>\n      <td>Newton County</td>\n      <td>6.1</td>\n      <td>NaN</td>\n    </tr>\n    <tr>\n      <th>1</th>\n      <td>2015</td>\n      <td>February</td>\n      <td>Mississippi</td>\n      <td>Panola County</td>\n      <td>9.4</td>\n      <td>NaN</td>\n    </tr>\n    <tr>\n      <th>2</th>\n      <td>2015</td>\n      <td>February</td>\n      <td>Mississippi</td>\n      <td>Monroe County</td>\n      <td>7.9</td>\n      <td>NaN</td>\n    </tr>\n    <tr>\n      <th>3</th>\n      <td>2015</td>\n      <td>February</td>\n      <td>Mississippi</td>\n      <td>Hinds County</td>\n      <td>6.1</td>\n      <td>NaN</td>\n    </tr>\n    <tr>\n      <th>4</th>\n      <td>2015</td>\n      <td>February</td>\n      <td>Mississippi</td>\n      <td>Kemper County</td>\n      <td>10.6</td>\n      <td>NaN</td>\n    </tr>\n  </tbody>\n</table>\n</div>",
      "text/plain": "   Year     Month        State         County  Rate  min_wage\n0  2015  February  Mississippi  Newton County   6.1       NaN\n1  2015  February  Mississippi  Panola County   9.4       NaN\n2  2015  February  Mississippi  Monroe County   7.9       NaN\n3  2015  February  Mississippi   Hinds County   6.1       NaN\n4  2015  February  Mississippi  Kemper County  10.6       NaN"
     },
     "execution_count": 8,
     "metadata": {},
     "output_type": "execute_result"
    }
   ],
   "source": [
    "unemp_county.head()"
   ]
  },
  {
   "cell_type": "code",
   "execution_count": 9,
   "metadata": {},
   "outputs": [
    {
     "data": {
      "text/html": "<div>\n<style scoped>\n    .dataframe tbody tr th:only-of-type {\n        vertical-align: middle;\n    }\n\n    .dataframe tbody tr th {\n        vertical-align: top;\n    }\n\n    .dataframe thead th {\n        text-align: right;\n    }\n</style>\n<table border=\"1\" class=\"dataframe\">\n  <thead>\n    <tr style=\"text-align: right;\">\n      <th></th>\n      <th>Rate</th>\n      <th>min_wage</th>\n    </tr>\n  </thead>\n  <tbody>\n    <tr>\n      <th>Rate</th>\n      <td>1.000000</td>\n      <td>0.153047</td>\n    </tr>\n    <tr>\n      <th>min_wage</th>\n      <td>0.153047</td>\n      <td>1.000000</td>\n    </tr>\n  </tbody>\n</table>\n</div>",
      "text/plain": "              Rate  min_wage\nRate      1.000000  0.153047\nmin_wage  0.153047  1.000000"
     },
     "execution_count": 9,
     "metadata": {},
     "output_type": "execute_result"
    }
   ],
   "source": [
    "unemp_county[[\"Rate\", \"min_wage\"]].corr()"
   ]
  },
  {
   "cell_type": "code",
   "execution_count": 10,
   "metadata": {},
   "outputs": [
    {
     "data": {
      "text/html": "<div>\n<style scoped>\n    .dataframe tbody tr th:only-of-type {\n        vertical-align: middle;\n    }\n\n    .dataframe tbody tr th {\n        vertical-align: top;\n    }\n\n    .dataframe thead th {\n        text-align: right;\n    }\n</style>\n<table border=\"1\" class=\"dataframe\">\n  <thead>\n    <tr style=\"text-align: right;\">\n      <th></th>\n      <th>Rate</th>\n      <th>min_wage</th>\n    </tr>\n  </thead>\n  <tbody>\n    <tr>\n      <th>Rate</th>\n      <td>9.687873</td>\n      <td>0.651586</td>\n    </tr>\n    <tr>\n      <th>min_wage</th>\n      <td>0.651586</td>\n      <td>1.874228</td>\n    </tr>\n  </tbody>\n</table>\n</div>",
      "text/plain": "              Rate  min_wage\nRate      9.687873  0.651586\nmin_wage  0.651586  1.874228"
     },
     "execution_count": 10,
     "metadata": {},
     "output_type": "execute_result"
    }
   ],
   "source": [
    "unemp_county[[\"Rate\", \"min_wage\"]].cov()"
   ]
  },
  {
   "cell_type": "code",
   "execution_count": 11,
   "metadata": {},
   "outputs": [
    {
     "data": {
      "text/html": "<div>\n<style scoped>\n    .dataframe tbody tr th:only-of-type {\n        vertical-align: middle;\n    }\n\n    .dataframe tbody tr th {\n        vertical-align: top;\n    }\n\n    .dataframe thead th {\n        text-align: right;\n    }\n</style>\n<table border=\"1\" class=\"dataframe\">\n  <thead>\n    <tr style=\"text-align: right;\">\n      <th></th>\n      <th>county</th>\n      <th>fips</th>\n      <th>cand</th>\n      <th>st</th>\n      <th>pct_report</th>\n      <th>votes</th>\n      <th>total_votes</th>\n      <th>pct</th>\n      <th>lead</th>\n    </tr>\n  </thead>\n  <tbody>\n    <tr>\n      <th>0</th>\n      <td>NaN</td>\n      <td>US</td>\n      <td>Donald Trump</td>\n      <td>US</td>\n      <td>0.9951</td>\n      <td>60350241.0</td>\n      <td>127592176.0</td>\n      <td>0.472993</td>\n      <td>Donald Trump</td>\n    </tr>\n    <tr>\n      <th>1</th>\n      <td>NaN</td>\n      <td>US</td>\n      <td>Hillary Clinton</td>\n      <td>US</td>\n      <td>0.9951</td>\n      <td>60981118.0</td>\n      <td>127592176.0</td>\n      <td>0.477938</td>\n      <td>Donald Trump</td>\n    </tr>\n    <tr>\n      <th>2</th>\n      <td>NaN</td>\n      <td>US</td>\n      <td>Gary Johnson</td>\n      <td>US</td>\n      <td>0.9951</td>\n      <td>4164589.0</td>\n      <td>127592176.0</td>\n      <td>0.032640</td>\n      <td>Donald Trump</td>\n    </tr>\n    <tr>\n      <th>3</th>\n      <td>NaN</td>\n      <td>US</td>\n      <td>Jill Stein</td>\n      <td>US</td>\n      <td>0.9951</td>\n      <td>1255968.0</td>\n      <td>127592176.0</td>\n      <td>0.009844</td>\n      <td>Donald Trump</td>\n    </tr>\n    <tr>\n      <th>4</th>\n      <td>NaN</td>\n      <td>US</td>\n      <td>Evan McMullin</td>\n      <td>US</td>\n      <td>0.9951</td>\n      <td>451636.0</td>\n      <td>127592176.0</td>\n      <td>0.003540</td>\n      <td>Donald Trump</td>\n    </tr>\n  </tbody>\n</table>\n</div>",
      "text/plain": "  county fips             cand  st  pct_report       votes  total_votes  \\\n0    NaN   US     Donald Trump  US      0.9951  60350241.0  127592176.0   \n1    NaN   US  Hillary Clinton  US      0.9951  60981118.0  127592176.0   \n2    NaN   US     Gary Johnson  US      0.9951   4164589.0  127592176.0   \n3    NaN   US       Jill Stein  US      0.9951   1255968.0  127592176.0   \n4    NaN   US    Evan McMullin  US      0.9951    451636.0  127592176.0   \n\n        pct          lead  \n0  0.472993  Donald Trump  \n1  0.477938  Donald Trump  \n2  0.032640  Donald Trump  \n3  0.009844  Donald Trump  \n4  0.003540  Donald Trump  "
     },
     "execution_count": 11,
     "metadata": {},
     "output_type": "execute_result"
    }
   ],
   "source": [
    "pres16 = pd.read_csv(\"../datasets/pres16results.csv\")\n",
    "pres16.head()"
   ]
  },
  {
   "cell_type": "code",
   "execution_count": 12,
   "metadata": {},
   "outputs": [
    {
     "data": {
      "text/plain": "885548"
     },
     "execution_count": 12,
     "metadata": {},
     "output_type": "execute_result"
    }
   ],
   "source": [
    "len(unemp_county)"
   ]
  },
  {
   "cell_type": "code",
   "execution_count": 13,
   "metadata": {},
   "outputs": [
    {
     "data": {
      "text/html": "<div>\n<style scoped>\n    .dataframe tbody tr th:only-of-type {\n        vertical-align: middle;\n    }\n\n    .dataframe tbody tr th {\n        vertical-align: top;\n    }\n\n    .dataframe thead th {\n        text-align: right;\n    }\n</style>\n<table border=\"1\" class=\"dataframe\">\n  <thead>\n    <tr style=\"text-align: right;\">\n      <th></th>\n      <th>Year</th>\n      <th>Month</th>\n      <th>State</th>\n      <th>County</th>\n      <th>Rate</th>\n      <th>min_wage</th>\n    </tr>\n  </thead>\n  <tbody>\n    <tr>\n      <th>0</th>\n      <td>2015</td>\n      <td>February</td>\n      <td>Mississippi</td>\n      <td>Newton County</td>\n      <td>6.1</td>\n      <td>NaN</td>\n    </tr>\n    <tr>\n      <th>1</th>\n      <td>2015</td>\n      <td>February</td>\n      <td>Mississippi</td>\n      <td>Panola County</td>\n      <td>9.4</td>\n      <td>NaN</td>\n    </tr>\n    <tr>\n      <th>2</th>\n      <td>2015</td>\n      <td>February</td>\n      <td>Mississippi</td>\n      <td>Monroe County</td>\n      <td>7.9</td>\n      <td>NaN</td>\n    </tr>\n    <tr>\n      <th>3</th>\n      <td>2015</td>\n      <td>February</td>\n      <td>Mississippi</td>\n      <td>Hinds County</td>\n      <td>6.1</td>\n      <td>NaN</td>\n    </tr>\n    <tr>\n      <th>4</th>\n      <td>2015</td>\n      <td>February</td>\n      <td>Mississippi</td>\n      <td>Kemper County</td>\n      <td>10.6</td>\n      <td>NaN</td>\n    </tr>\n  </tbody>\n</table>\n</div>",
      "text/plain": "   Year     Month        State         County  Rate  min_wage\n0  2015  February  Mississippi  Newton County   6.1       NaN\n1  2015  February  Mississippi  Panola County   9.4       NaN\n2  2015  February  Mississippi  Monroe County   7.9       NaN\n3  2015  February  Mississippi   Hinds County   6.1       NaN\n4  2015  February  Mississippi  Kemper County  10.6       NaN"
     },
     "execution_count": 13,
     "metadata": {},
     "output_type": "execute_result"
    }
   ],
   "source": [
    "unemp_county.head()"
   ]
  },
  {
   "cell_type": "code",
   "execution_count": 14,
   "metadata": {},
   "outputs": [],
   "source": [
    "county_2015 = unemp_county.copy()[(unemp_county[\"Year\"] == 2015) & (unemp_county[\"Month\"] == \"February\")]"
   ]
  },
  {
   "cell_type": "code",
   "execution_count": 15,
   "metadata": {},
   "outputs": [
    {
     "data": {
      "text/html": "<div>\n<style scoped>\n    .dataframe tbody tr th:only-of-type {\n        vertical-align: middle;\n    }\n\n    .dataframe tbody tr th {\n        vertical-align: top;\n    }\n\n    .dataframe thead th {\n        text-align: right;\n    }\n</style>\n<table border=\"1\" class=\"dataframe\">\n  <thead>\n    <tr style=\"text-align: right;\">\n      <th></th>\n      <th>Year</th>\n      <th>Month</th>\n      <th>State</th>\n      <th>County</th>\n      <th>Rate</th>\n      <th>min_wage</th>\n    </tr>\n  </thead>\n  <tbody>\n    <tr>\n      <th>0</th>\n      <td>2015</td>\n      <td>February</td>\n      <td>Mississippi</td>\n      <td>Newton County</td>\n      <td>6.1</td>\n      <td>NaN</td>\n    </tr>\n    <tr>\n      <th>1</th>\n      <td>2015</td>\n      <td>February</td>\n      <td>Mississippi</td>\n      <td>Panola County</td>\n      <td>9.4</td>\n      <td>NaN</td>\n    </tr>\n    <tr>\n      <th>2</th>\n      <td>2015</td>\n      <td>February</td>\n      <td>Mississippi</td>\n      <td>Monroe County</td>\n      <td>7.9</td>\n      <td>NaN</td>\n    </tr>\n    <tr>\n      <th>3</th>\n      <td>2015</td>\n      <td>February</td>\n      <td>Mississippi</td>\n      <td>Hinds County</td>\n      <td>6.1</td>\n      <td>NaN</td>\n    </tr>\n    <tr>\n      <th>4</th>\n      <td>2015</td>\n      <td>February</td>\n      <td>Mississippi</td>\n      <td>Kemper County</td>\n      <td>10.6</td>\n      <td>NaN</td>\n    </tr>\n  </tbody>\n</table>\n</div>",
      "text/plain": "   Year     Month        State         County  Rate  min_wage\n0  2015  February  Mississippi  Newton County   6.1       NaN\n1  2015  February  Mississippi  Panola County   9.4       NaN\n2  2015  February  Mississippi  Monroe County   7.9       NaN\n3  2015  February  Mississippi   Hinds County   6.1       NaN\n4  2015  February  Mississippi  Kemper County  10.6       NaN"
     },
     "execution_count": 15,
     "metadata": {},
     "output_type": "execute_result"
    }
   ],
   "source": [
    "county_2015.head()"
   ]
  },
  {
   "cell_type": "code",
   "execution_count": 16,
   "metadata": {},
   "outputs": [
    {
     "data": {
      "text/plain": "2802"
     },
     "execution_count": 16,
     "metadata": {},
     "output_type": "execute_result"
    }
   ],
   "source": [
    "len(county_2015)"
   ]
  },
  {
   "cell_type": "code",
   "execution_count": 17,
   "metadata": {},
   "outputs": [
    {
     "data": {
      "text/plain": "array(['US', 'CA', 'FL', 'TX', 'NY', 'PA', 'IL', 'OH', 'MI', 'NC', 'GA',\n       'VA', 'NJ', 'MA', 'WI', 'MN', 'MO', 'WA', 'IN', 'CO', 'TN', 'MD',\n       'SC', 'AL', 'AZ', 'LA', 'KY', 'OR', 'CT', 'IA', 'OK', 'MS', 'KS',\n       'NV', 'AR', 'UT', 'NE', 'NM', 'ME', 'NH', 'WV', 'ID', 'MT', 'RI',\n       'DE', 'HI', 'SD', 'ND', 'VT', 'DC', 'WY', 'AK', nan], dtype=object)"
     },
     "execution_count": 17,
     "metadata": {},
     "output_type": "execute_result"
    }
   ],
   "source": [
    "pres16[\"st\"].unique()"
   ]
  },
  {
   "cell_type": "code",
   "execution_count": 18,
   "metadata": {},
   "outputs": [
    {
     "data": {
      "text/html": "<div>\n<style scoped>\n    .dataframe tbody tr th:only-of-type {\n        vertical-align: middle;\n    }\n\n    .dataframe tbody tr th {\n        vertical-align: top;\n    }\n\n    .dataframe thead th {\n        text-align: right;\n    }\n</style>\n<table border=\"1\" class=\"dataframe\">\n  <thead>\n    <tr style=\"text-align: right;\">\n      <th></th>\n      <th>Postal Code</th>\n    </tr>\n    <tr>\n      <th>State/District</th>\n      <th></th>\n    </tr>\n  </thead>\n  <tbody>\n    <tr>\n      <th>Alabama</th>\n      <td>AL</td>\n    </tr>\n    <tr>\n      <th>Alaska</th>\n      <td>AK</td>\n    </tr>\n    <tr>\n      <th>Arizona</th>\n      <td>AZ</td>\n    </tr>\n    <tr>\n      <th>Arkansas</th>\n      <td>AR</td>\n    </tr>\n    <tr>\n      <th>California</th>\n      <td>CA</td>\n    </tr>\n  </tbody>\n</table>\n</div>",
      "text/plain": "               Postal Code\nState/District            \nAlabama                 AL\nAlaska                  AK\nArizona                 AZ\nArkansas                AR\nCalifornia              CA"
     },
     "execution_count": 18,
     "metadata": {},
     "output_type": "execute_result"
    }
   ],
   "source": [
    "state_abbv = pd.read_csv(\"../datasets/state_abv.csv\", index_col=0)\n",
    "state_abbv = state_abbv[[\"Postal Code\"]]\n",
    "state_abbv.head()"
   ]
  },
  {
   "cell_type": "code",
   "execution_count": 19,
   "metadata": {},
   "outputs": [
    {
     "data": {
      "text/plain": "{'Alabama': 'AL',\n 'Alaska': 'AK',\n 'Arizona': 'AZ',\n 'Arkansas': 'AR',\n 'California': 'CA',\n 'Colorado': 'CO',\n 'Connecticut': 'CT',\n 'Delaware': 'DE',\n 'District of Columbia': 'DC',\n 'Florida': 'FL',\n 'Georgia': 'GA',\n 'Hawaii': 'HI',\n 'Idaho': 'ID',\n 'Illinois': 'IL',\n 'Indiana': 'IN',\n 'Iowa': 'IA',\n 'Kansas': 'KS',\n 'Kentucky': 'KY',\n 'Louisiana': 'LA',\n 'Maine': 'ME',\n 'Maryland': 'MD',\n 'Massachusetts': 'MA',\n 'Michigan': 'MI',\n 'Minnesota': 'MN',\n 'Mississippi': 'MS',\n 'Missouri': 'MO',\n 'Montana': 'MT',\n 'Nebraska': 'NE',\n 'Nevada': 'NV',\n 'New Hampshire': 'NH',\n 'New Jersey': 'NJ',\n 'New Mexico': 'NM',\n 'New York': 'NY',\n 'North Carolina': 'NC',\n 'North Dakota': 'ND',\n 'Ohio': 'OH',\n 'Oklahoma': 'OK',\n 'Oregon': 'OR',\n 'Pennsylvania': 'PA',\n 'Rhode Island': 'RI',\n 'South Carolina': 'SC',\n 'South Dakota': 'SD',\n 'Tennessee': 'TN',\n 'Texas': 'TX',\n 'Utah': 'UT',\n 'Vermont': 'VT',\n 'Virginia': 'VA',\n 'Washington': 'WA',\n 'West Virginia': 'WV',\n 'Wisconsin': 'WI',\n 'Wyoming': 'WY'}"
     },
     "execution_count": 19,
     "metadata": {},
     "output_type": "execute_result"
    }
   ],
   "source": [
    "state_abbv_dict = state_abbv.to_dict()[\"Postal Code\"]\n",
    "state_abbv_dict "
   ]
  },
  {
   "cell_type": "code",
   "execution_count": 21,
   "metadata": {},
   "outputs": [],
   "source": [
    "county_2015[\"State\"] = county_2015[\"State\"].map(state_abbv_dict)"
   ]
  },
  {
   "cell_type": "code",
   "execution_count": 23,
   "metadata": {},
   "outputs": [
    {
     "data": {
      "text/html": "<div>\n<style scoped>\n    .dataframe tbody tr th:only-of-type {\n        vertical-align: middle;\n    }\n\n    .dataframe tbody tr th {\n        vertical-align: top;\n    }\n\n    .dataframe thead th {\n        text-align: right;\n    }\n</style>\n<table border=\"1\" class=\"dataframe\">\n  <thead>\n    <tr style=\"text-align: right;\">\n      <th></th>\n      <th>Year</th>\n      <th>Month</th>\n      <th>State</th>\n      <th>County</th>\n      <th>Rate</th>\n      <th>min_wage</th>\n    </tr>\n  </thead>\n  <tbody>\n    <tr>\n      <th>0</th>\n      <td>2015</td>\n      <td>February</td>\n      <td>NaN</td>\n      <td>Newton County</td>\n      <td>6.1</td>\n      <td>NaN</td>\n    </tr>\n    <tr>\n      <th>1</th>\n      <td>2015</td>\n      <td>February</td>\n      <td>NaN</td>\n      <td>Panola County</td>\n      <td>9.4</td>\n      <td>NaN</td>\n    </tr>\n    <tr>\n      <th>2</th>\n      <td>2015</td>\n      <td>February</td>\n      <td>NaN</td>\n      <td>Monroe County</td>\n      <td>7.9</td>\n      <td>NaN</td>\n    </tr>\n    <tr>\n      <th>3</th>\n      <td>2015</td>\n      <td>February</td>\n      <td>NaN</td>\n      <td>Hinds County</td>\n      <td>6.1</td>\n      <td>NaN</td>\n    </tr>\n    <tr>\n      <th>4</th>\n      <td>2015</td>\n      <td>February</td>\n      <td>NaN</td>\n      <td>Kemper County</td>\n      <td>10.6</td>\n      <td>NaN</td>\n    </tr>\n  </tbody>\n</table>\n</div>",
      "text/plain": "   Year     Month State         County  Rate  min_wage\n0  2015  February   NaN  Newton County   6.1       NaN\n1  2015  February   NaN  Panola County   9.4       NaN\n2  2015  February   NaN  Monroe County   7.9       NaN\n3  2015  February   NaN   Hinds County   6.1       NaN\n4  2015  February   NaN  Kemper County  10.6       NaN"
     },
     "execution_count": 23,
     "metadata": {},
     "output_type": "execute_result"
    }
   ],
   "source": [
    " county_2015.head()"
   ]
  },
  {
   "cell_type": "code",
   "execution_count": 24,
   "metadata": {},
   "outputs": [
    {
     "data": {
      "text/plain": "array(['US', 'CA', 'FL', 'TX', 'NY', 'PA', 'IL', 'OH', 'MI', 'NC', 'GA',\n       'VA', 'NJ', 'MA', 'WI', 'MN', 'MO', 'WA', 'IN', 'CO', 'TN', 'MD',\n       'SC', 'AL', 'AZ', 'LA', 'KY', 'OR', 'CT', 'IA', 'OK', 'MS', 'KS',\n       'NV', 'AR', 'UT', 'NE', 'NM', 'ME', 'NH', 'WV', 'ID', 'MT', 'RI',\n       'DE', 'HI', 'SD', 'ND', 'VT', 'DC', 'WY', 'AK', nan], dtype=object)"
     },
     "execution_count": 24,
     "metadata": {},
     "output_type": "execute_result"
    }
   ],
   "source": [
    "pres16[\"st\"].unique()"
   ]
  },
  {
   "cell_type": "code",
   "execution_count": 32,
   "metadata": {},
   "outputs": [
    {
     "data": {
      "text/html": "<div>\n<style scoped>\n    .dataframe tbody tr th:only-of-type {\n        vertical-align: middle;\n    }\n\n    .dataframe tbody tr th {\n        vertical-align: top;\n    }\n\n    .dataframe thead th {\n        text-align: right;\n    }\n</style>\n<table border=\"1\" class=\"dataframe\">\n  <thead>\n    <tr style=\"text-align: right;\">\n      <th></th>\n      <th>Postal Code</th>\n    </tr>\n    <tr>\n      <th>State/District</th>\n      <th></th>\n    </tr>\n  </thead>\n  <tbody>\n    <tr>\n      <th>Alabama</th>\n      <td>AL</td>\n    </tr>\n    <tr>\n      <th>Alaska</th>\n      <td>AK</td>\n    </tr>\n    <tr>\n      <th>Arizona</th>\n      <td>AZ</td>\n    </tr>\n    <tr>\n      <th>Arkansas</th>\n      <td>AR</td>\n    </tr>\n    <tr>\n      <th>California</th>\n      <td>CA</td>\n    </tr>\n  </tbody>\n</table>\n</div>",
      "text/plain": "               Postal Code\nState/District            \nAlabama                 AL\nAlaska                  AK\nArizona                 AZ\nArkansas                AR\nCalifornia              CA"
     },
     "execution_count": 32,
     "metadata": {},
     "output_type": "execute_result"
    }
   ],
   "source": [
    "state_abbv = pd.read_csv(\"../datasets/state_abv.csv\", index_col=0)\n",
    "state_abbv = state_abbv[[\"Postal Code\"]]\n",
    "state_abbv.head()"
   ]
  },
  {
   "cell_type": "code",
   "execution_count": 35,
   "metadata": {},
   "outputs": [
    {
     "data": {
      "text/plain": "{'Alabama': 'AL',\n 'Alaska': 'AK',\n 'Arizona': 'AZ',\n 'Arkansas': 'AR',\n 'California': 'CA',\n 'Colorado': 'CO',\n 'Connecticut': 'CT',\n 'Delaware': 'DE',\n 'District of Columbia': 'DC',\n 'Florida': 'FL',\n 'Georgia': 'GA',\n 'Hawaii': 'HI',\n 'Idaho': 'ID',\n 'Illinois': 'IL',\n 'Indiana': 'IN',\n 'Iowa': 'IA',\n 'Kansas': 'KS',\n 'Kentucky': 'KY',\n 'Louisiana': 'LA',\n 'Maine': 'ME',\n 'Maryland': 'MD',\n 'Massachusetts': 'MA',\n 'Michigan': 'MI',\n 'Minnesota': 'MN',\n 'Mississippi': 'MS',\n 'Missouri': 'MO',\n 'Montana': 'MT',\n 'Nebraska': 'NE',\n 'Nevada': 'NV',\n 'New Hampshire': 'NH',\n 'New Jersey': 'NJ',\n 'New Mexico': 'NM',\n 'New York': 'NY',\n 'North Carolina': 'NC',\n 'North Dakota': 'ND',\n 'Ohio': 'OH',\n 'Oklahoma': 'OK',\n 'Oregon': 'OR',\n 'Pennsylvania': 'PA',\n 'Rhode Island': 'RI',\n 'South Carolina': 'SC',\n 'South Dakota': 'SD',\n 'Tennessee': 'TN',\n 'Texas': 'TX',\n 'Utah': 'UT',\n 'Vermont': 'VT',\n 'Virginia': 'VA',\n 'Washington': 'WA',\n 'West Virginia': 'WV',\n 'Wisconsin': 'WI',\n 'Wyoming': 'WY'}"
     },
     "execution_count": 35,
     "metadata": {},
     "output_type": "execute_result"
    }
   ],
   "source": [
    "state_abbv_dict = state_abbv.to_dict()[\"Postal Code\"]\n",
    "state_abbv_dict"
   ]
  },
  {
   "cell_type": "code",
   "execution_count": 36,
   "metadata": {},
   "outputs": [
    {
     "data": {
      "text/html": "<div>\n<style scoped>\n    .dataframe tbody tr th:only-of-type {\n        vertical-align: middle;\n    }\n\n    .dataframe tbody tr th {\n        vertical-align: top;\n    }\n\n    .dataframe thead th {\n        text-align: right;\n    }\n</style>\n<table border=\"1\" class=\"dataframe\">\n  <thead>\n    <tr style=\"text-align: right;\">\n      <th></th>\n      <th>Year</th>\n      <th>Month</th>\n      <th>State</th>\n      <th>County</th>\n      <th>Rate</th>\n      <th>min_wage</th>\n    </tr>\n  </thead>\n  <tbody>\n    <tr>\n      <th>2797</th>\n      <td>2015</td>\n      <td>February</td>\n      <td>NaN</td>\n      <td>Somerset County</td>\n      <td>8.4</td>\n      <td>7.92</td>\n    </tr>\n    <tr>\n      <th>2798</th>\n      <td>2015</td>\n      <td>February</td>\n      <td>NaN</td>\n      <td>Oxford County</td>\n      <td>6.8</td>\n      <td>7.92</td>\n    </tr>\n    <tr>\n      <th>2799</th>\n      <td>2015</td>\n      <td>February</td>\n      <td>NaN</td>\n      <td>Knox County</td>\n      <td>6.1</td>\n      <td>7.92</td>\n    </tr>\n    <tr>\n      <th>2800</th>\n      <td>2015</td>\n      <td>February</td>\n      <td>NaN</td>\n      <td>Piscataquis County</td>\n      <td>7.0</td>\n      <td>7.92</td>\n    </tr>\n    <tr>\n      <th>2801</th>\n      <td>2015</td>\n      <td>February</td>\n      <td>NaN</td>\n      <td>Aroostook County</td>\n      <td>7.2</td>\n      <td>7.92</td>\n    </tr>\n  </tbody>\n</table>\n</div>",
      "text/plain": "      Year     Month State              County  Rate  min_wage\n2797  2015  February   NaN     Somerset County   8.4      7.92\n2798  2015  February   NaN       Oxford County   6.8      7.92\n2799  2015  February   NaN         Knox County   6.1      7.92\n2800  2015  February   NaN  Piscataquis County   7.0      7.92\n2801  2015  February   NaN    Aroostook County   7.2      7.92"
     },
     "execution_count": 36,
     "metadata": {},
     "output_type": "execute_result"
    }
   ],
   "source": [
    "county_2015[\"State\"] = county_2015[\"State\"].map(state_abbv_dict)\n",
    "county_2015.tail()"
   ]
  },
  {
   "cell_type": "code",
   "execution_count": 37,
   "metadata": {},
   "outputs": [
    {
     "name": "stdout",
     "output_type": "stream",
     "text": "2802\n18475\n"
    }
   ],
   "source": [
    "print(len(county_2015))\n",
    "print(len(pres16))"
   ]
  },
  {
   "cell_type": "code",
   "execution_count": 38,
   "metadata": {},
   "outputs": [
    {
     "data": {
      "text/plain": "Index(['county', 'fips', 'cand', 'st', 'pct_report', 'votes', 'total_votes',\n       'pct', 'lead'],\n      dtype='object')"
     },
     "execution_count": 38,
     "metadata": {},
     "output_type": "execute_result"
    }
   ],
   "source": [
    "pres16.columns"
   ]
  },
  {
   "cell_type": "code",
   "execution_count": 39,
   "metadata": {},
   "outputs": [
    {
     "data": {
      "text/html": "<div>\n<style scoped>\n    .dataframe tbody tr th:only-of-type {\n        vertical-align: middle;\n    }\n\n    .dataframe tbody tr th {\n        vertical-align: top;\n    }\n\n    .dataframe thead th {\n        text-align: right;\n    }\n</style>\n<table border=\"1\" class=\"dataframe\">\n  <thead>\n    <tr style=\"text-align: right;\">\n      <th></th>\n      <th>County</th>\n      <th>fips</th>\n      <th>cand</th>\n      <th>State</th>\n      <th>pct_report</th>\n      <th>votes</th>\n      <th>total_votes</th>\n      <th>pct</th>\n      <th>lead</th>\n    </tr>\n  </thead>\n  <tbody>\n    <tr>\n      <th>0</th>\n      <td>NaN</td>\n      <td>US</td>\n      <td>Donald Trump</td>\n      <td>US</td>\n      <td>0.9951</td>\n      <td>60350241.0</td>\n      <td>127592176.0</td>\n      <td>0.472993</td>\n      <td>Donald Trump</td>\n    </tr>\n    <tr>\n      <th>1</th>\n      <td>NaN</td>\n      <td>US</td>\n      <td>Hillary Clinton</td>\n      <td>US</td>\n      <td>0.9951</td>\n      <td>60981118.0</td>\n      <td>127592176.0</td>\n      <td>0.477938</td>\n      <td>Donald Trump</td>\n    </tr>\n    <tr>\n      <th>2</th>\n      <td>NaN</td>\n      <td>US</td>\n      <td>Gary Johnson</td>\n      <td>US</td>\n      <td>0.9951</td>\n      <td>4164589.0</td>\n      <td>127592176.0</td>\n      <td>0.032640</td>\n      <td>Donald Trump</td>\n    </tr>\n    <tr>\n      <th>3</th>\n      <td>NaN</td>\n      <td>US</td>\n      <td>Jill Stein</td>\n      <td>US</td>\n      <td>0.9951</td>\n      <td>1255968.0</td>\n      <td>127592176.0</td>\n      <td>0.009844</td>\n      <td>Donald Trump</td>\n    </tr>\n    <tr>\n      <th>4</th>\n      <td>NaN</td>\n      <td>US</td>\n      <td>Evan McMullin</td>\n      <td>US</td>\n      <td>0.9951</td>\n      <td>451636.0</td>\n      <td>127592176.0</td>\n      <td>0.003540</td>\n      <td>Donald Trump</td>\n    </tr>\n  </tbody>\n</table>\n</div>",
      "text/plain": "  County fips             cand State  pct_report       votes  total_votes  \\\n0    NaN   US     Donald Trump    US      0.9951  60350241.0  127592176.0   \n1    NaN   US  Hillary Clinton    US      0.9951  60981118.0  127592176.0   \n2    NaN   US     Gary Johnson    US      0.9951   4164589.0  127592176.0   \n3    NaN   US       Jill Stein    US      0.9951   1255968.0  127592176.0   \n4    NaN   US    Evan McMullin    US      0.9951    451636.0  127592176.0   \n\n        pct          lead  \n0  0.472993  Donald Trump  \n1  0.477938  Donald Trump  \n2  0.032640  Donald Trump  \n3  0.009844  Donald Trump  \n4  0.003540  Donald Trump  "
     },
     "execution_count": 39,
     "metadata": {},
     "output_type": "execute_result"
    }
   ],
   "source": [
    "pres16.rename(columns={\"county\":\"County\", \"st\":\"State\"}, inplace=True)\n",
    "pres16.head()"
   ]
  },
  {
   "cell_type": "code",
   "execution_count": 40,
   "metadata": {},
   "outputs": [],
   "source": [
    "for df in [county_2015, pres16]:\n",
    "    df.set_index([\"County\", \"State\"], inplace=True)"
   ]
  },
  {
   "cell_type": "code",
   "execution_count": 45,
   "metadata": {},
   "outputs": [
    {
     "data": {
      "text/html": "<div>\n<style scoped>\n    .dataframe tbody tr th:only-of-type {\n        vertical-align: middle;\n    }\n\n    .dataframe tbody tr th {\n        vertical-align: top;\n    }\n\n    .dataframe thead th {\n        text-align: right;\n    }\n</style>\n<table border=\"1\" class=\"dataframe\">\n  <thead>\n    <tr style=\"text-align: right;\">\n      <th></th>\n      <th></th>\n      <th>fips</th>\n      <th>cand</th>\n      <th>pct_report</th>\n      <th>votes</th>\n      <th>total_votes</th>\n      <th>pct</th>\n      <th>lead</th>\n    </tr>\n    <tr>\n      <th>County</th>\n      <th>State</th>\n      <th></th>\n      <th></th>\n      <th></th>\n      <th></th>\n      <th></th>\n      <th></th>\n      <th></th>\n    </tr>\n  </thead>\n  <tbody>\n    <tr>\n      <th rowspan=\"5\" valign=\"top\">NaN</th>\n      <th>US</th>\n      <td>US</td>\n      <td>Donald Trump</td>\n      <td>0.9951</td>\n      <td>60350241.0</td>\n      <td>127592176.0</td>\n      <td>0.472993</td>\n      <td>Donald Trump</td>\n    </tr>\n    <tr>\n      <th>CA</th>\n      <td>CA</td>\n      <td>Donald Trump</td>\n      <td>1.0000</td>\n      <td>3184721.0</td>\n      <td>9631972.0</td>\n      <td>0.330641</td>\n      <td>Hillary Clinton</td>\n    </tr>\n    <tr>\n      <th>FL</th>\n      <td>FL</td>\n      <td>Donald Trump</td>\n      <td>1.0000</td>\n      <td>4605515.0</td>\n      <td>9386750.0</td>\n      <td>0.490640</td>\n      <td>Donald Trump</td>\n    </tr>\n    <tr>\n      <th>TX</th>\n      <td>TX</td>\n      <td>Donald Trump</td>\n      <td>0.9996</td>\n      <td>4681590.0</td>\n      <td>8903237.0</td>\n      <td>0.525830</td>\n      <td>Donald Trump</td>\n    </tr>\n    <tr>\n      <th>NY</th>\n      <td>NY</td>\n      <td>Donald Trump</td>\n      <td>0.9966</td>\n      <td>2640570.0</td>\n      <td>7046175.0</td>\n      <td>0.374752</td>\n      <td>Hillary Clinton</td>\n    </tr>\n  </tbody>\n</table>\n</div>",
      "text/plain": "             fips          cand  pct_report       votes  total_votes  \\\nCounty State                                                           \nNaN    US      US  Donald Trump      0.9951  60350241.0  127592176.0   \n       CA      CA  Donald Trump      1.0000   3184721.0    9631972.0   \n       FL      FL  Donald Trump      1.0000   4605515.0    9386750.0   \n       TX      TX  Donald Trump      0.9996   4681590.0    8903237.0   \n       NY      NY  Donald Trump      0.9966   2640570.0    7046175.0   \n\n                   pct             lead  \nCounty State                             \nNaN    US     0.472993     Donald Trump  \n       CA     0.330641  Hillary Clinton  \n       FL     0.490640     Donald Trump  \n       TX     0.525830     Donald Trump  \n       NY     0.374752  Hillary Clinton  "
     },
     "execution_count": 45,
     "metadata": {},
     "output_type": "execute_result"
    }
   ],
   "source": [
    "pres16.head()"
   ]
  },
  {
   "cell_type": "code",
   "execution_count": 51,
   "metadata": {},
   "outputs": [
    {
     "ename": "KeyError",
     "evalue": "'cand'",
     "output_type": "error",
     "traceback": [
      "\u001b[0;31m---------------------------------------------------------------------------\u001b[0m",
      "\u001b[0;31mKeyError\u001b[0m                                  Traceback (most recent call last)",
      "\u001b[0;32m/usr/local/lib/python3.8/site-packages/pandas/core/indexes/base.py\u001b[0m in \u001b[0;36mget_loc\u001b[0;34m(self, key, method, tolerance)\u001b[0m\n\u001b[1;32m   2645\u001b[0m             \u001b[0;32mtry\u001b[0m\u001b[0;34m:\u001b[0m\u001b[0;34m\u001b[0m\u001b[0;34m\u001b[0m\u001b[0m\n\u001b[0;32m-> 2646\u001b[0;31m                 \u001b[0;32mreturn\u001b[0m \u001b[0mself\u001b[0m\u001b[0;34m.\u001b[0m\u001b[0m_engine\u001b[0m\u001b[0;34m.\u001b[0m\u001b[0mget_loc\u001b[0m\u001b[0;34m(\u001b[0m\u001b[0mkey\u001b[0m\u001b[0;34m)\u001b[0m\u001b[0;34m\u001b[0m\u001b[0;34m\u001b[0m\u001b[0m\n\u001b[0m\u001b[1;32m   2647\u001b[0m             \u001b[0;32mexcept\u001b[0m \u001b[0mKeyError\u001b[0m\u001b[0;34m:\u001b[0m\u001b[0;34m\u001b[0m\u001b[0;34m\u001b[0m\u001b[0m\n",
      "\u001b[0;32mpandas/_libs/index.pyx\u001b[0m in \u001b[0;36mpandas._libs.index.IndexEngine.get_loc\u001b[0;34m()\u001b[0m\n",
      "\u001b[0;32mpandas/_libs/index.pyx\u001b[0m in \u001b[0;36mpandas._libs.index.IndexEngine.get_loc\u001b[0;34m()\u001b[0m\n",
      "\u001b[0;32mpandas/_libs/hashtable_class_helper.pxi\u001b[0m in \u001b[0;36mpandas._libs.hashtable.PyObjectHashTable.get_item\u001b[0;34m()\u001b[0m\n",
      "\u001b[0;32mpandas/_libs/hashtable_class_helper.pxi\u001b[0m in \u001b[0;36mpandas._libs.hashtable.PyObjectHashTable.get_item\u001b[0;34m()\u001b[0m\n",
      "\u001b[0;31mKeyError\u001b[0m: 'cand'",
      "\nDuring handling of the above exception, another exception occurred:\n",
      "\u001b[0;31mKeyError\u001b[0m                                  Traceback (most recent call last)",
      "\u001b[0;32m<ipython-input-51-b82c198db540>\u001b[0m in \u001b[0;36m<module>\u001b[0;34m\u001b[0m\n\u001b[0;32m----> 1\u001b[0;31m \u001b[0mpres16\u001b[0m \u001b[0;34m=\u001b[0m \u001b[0mpres16\u001b[0m\u001b[0;34m[\u001b[0m\u001b[0mpres16\u001b[0m\u001b[0;34m[\u001b[0m\u001b[0;34m\"cand\"\u001b[0m\u001b[0;34m]\u001b[0m \u001b[0;34m==\u001b[0m \u001b[0;34m\"Donald Trump\"\u001b[0m\u001b[0;34m]\u001b[0m\u001b[0;34m\u001b[0m\u001b[0;34m\u001b[0m\u001b[0m\n\u001b[0m\u001b[1;32m      2\u001b[0m \u001b[0mpres16\u001b[0m \u001b[0;34m=\u001b[0m \u001b[0mpres16\u001b[0m\u001b[0;34m[\u001b[0m\u001b[0;34m[\u001b[0m\u001b[0;34m\"pct\"\u001b[0m\u001b[0;34m]\u001b[0m\u001b[0;34m]\u001b[0m\u001b[0;34m\u001b[0m\u001b[0;34m\u001b[0m\u001b[0m\n\u001b[1;32m      3\u001b[0m \u001b[0;34m\u001b[0m\u001b[0m\n\u001b[1;32m      4\u001b[0m \u001b[0mpres16\u001b[0m \u001b[0;34m=\u001b[0m \u001b[0mpres16\u001b[0m\u001b[0;34m[\u001b[0m\u001b[0;34m[\u001b[0m\u001b[0;34m\"pct_report\"\u001b[0m\u001b[0;34m]\u001b[0m\u001b[0;34m]\u001b[0m\u001b[0;34m\u001b[0m\u001b[0;34m\u001b[0m\u001b[0m\n\u001b[1;32m      5\u001b[0m \u001b[0mpres16\u001b[0m\u001b[0;34m.\u001b[0m\u001b[0mdropna\u001b[0m\u001b[0;34m(\u001b[0m\u001b[0minplace\u001b[0m\u001b[0;34m=\u001b[0m\u001b[0;32mTrue\u001b[0m\u001b[0;34m)\u001b[0m\u001b[0;34m\u001b[0m\u001b[0;34m\u001b[0m\u001b[0m\n",
      "\u001b[0;32m/usr/local/lib/python3.8/site-packages/pandas/core/frame.py\u001b[0m in \u001b[0;36m__getitem__\u001b[0;34m(self, key)\u001b[0m\n\u001b[1;32m   2798\u001b[0m             \u001b[0;32mif\u001b[0m \u001b[0mself\u001b[0m\u001b[0;34m.\u001b[0m\u001b[0mcolumns\u001b[0m\u001b[0;34m.\u001b[0m\u001b[0mnlevels\u001b[0m \u001b[0;34m>\u001b[0m \u001b[0;36m1\u001b[0m\u001b[0;34m:\u001b[0m\u001b[0;34m\u001b[0m\u001b[0;34m\u001b[0m\u001b[0m\n\u001b[1;32m   2799\u001b[0m                 \u001b[0;32mreturn\u001b[0m \u001b[0mself\u001b[0m\u001b[0;34m.\u001b[0m\u001b[0m_getitem_multilevel\u001b[0m\u001b[0;34m(\u001b[0m\u001b[0mkey\u001b[0m\u001b[0;34m)\u001b[0m\u001b[0;34m\u001b[0m\u001b[0;34m\u001b[0m\u001b[0m\n\u001b[0;32m-> 2800\u001b[0;31m             \u001b[0mindexer\u001b[0m \u001b[0;34m=\u001b[0m \u001b[0mself\u001b[0m\u001b[0;34m.\u001b[0m\u001b[0mcolumns\u001b[0m\u001b[0;34m.\u001b[0m\u001b[0mget_loc\u001b[0m\u001b[0;34m(\u001b[0m\u001b[0mkey\u001b[0m\u001b[0;34m)\u001b[0m\u001b[0;34m\u001b[0m\u001b[0;34m\u001b[0m\u001b[0m\n\u001b[0m\u001b[1;32m   2801\u001b[0m             \u001b[0;32mif\u001b[0m \u001b[0mis_integer\u001b[0m\u001b[0;34m(\u001b[0m\u001b[0mindexer\u001b[0m\u001b[0;34m)\u001b[0m\u001b[0;34m:\u001b[0m\u001b[0;34m\u001b[0m\u001b[0;34m\u001b[0m\u001b[0m\n\u001b[1;32m   2802\u001b[0m                 \u001b[0mindexer\u001b[0m \u001b[0;34m=\u001b[0m \u001b[0;34m[\u001b[0m\u001b[0mindexer\u001b[0m\u001b[0;34m]\u001b[0m\u001b[0;34m\u001b[0m\u001b[0;34m\u001b[0m\u001b[0m\n",
      "\u001b[0;32m/usr/local/lib/python3.8/site-packages/pandas/core/indexes/base.py\u001b[0m in \u001b[0;36mget_loc\u001b[0;34m(self, key, method, tolerance)\u001b[0m\n\u001b[1;32m   2646\u001b[0m                 \u001b[0;32mreturn\u001b[0m \u001b[0mself\u001b[0m\u001b[0;34m.\u001b[0m\u001b[0m_engine\u001b[0m\u001b[0;34m.\u001b[0m\u001b[0mget_loc\u001b[0m\u001b[0;34m(\u001b[0m\u001b[0mkey\u001b[0m\u001b[0;34m)\u001b[0m\u001b[0;34m\u001b[0m\u001b[0;34m\u001b[0m\u001b[0m\n\u001b[1;32m   2647\u001b[0m             \u001b[0;32mexcept\u001b[0m \u001b[0mKeyError\u001b[0m\u001b[0;34m:\u001b[0m\u001b[0;34m\u001b[0m\u001b[0;34m\u001b[0m\u001b[0m\n\u001b[0;32m-> 2648\u001b[0;31m                 \u001b[0;32mreturn\u001b[0m \u001b[0mself\u001b[0m\u001b[0;34m.\u001b[0m\u001b[0m_engine\u001b[0m\u001b[0;34m.\u001b[0m\u001b[0mget_loc\u001b[0m\u001b[0;34m(\u001b[0m\u001b[0mself\u001b[0m\u001b[0;34m.\u001b[0m\u001b[0m_maybe_cast_indexer\u001b[0m\u001b[0;34m(\u001b[0m\u001b[0mkey\u001b[0m\u001b[0;34m)\u001b[0m\u001b[0;34m)\u001b[0m\u001b[0;34m\u001b[0m\u001b[0;34m\u001b[0m\u001b[0m\n\u001b[0m\u001b[1;32m   2649\u001b[0m         \u001b[0mindexer\u001b[0m \u001b[0;34m=\u001b[0m \u001b[0mself\u001b[0m\u001b[0;34m.\u001b[0m\u001b[0mget_indexer\u001b[0m\u001b[0;34m(\u001b[0m\u001b[0;34m[\u001b[0m\u001b[0mkey\u001b[0m\u001b[0;34m]\u001b[0m\u001b[0;34m,\u001b[0m \u001b[0mmethod\u001b[0m\u001b[0;34m=\u001b[0m\u001b[0mmethod\u001b[0m\u001b[0;34m,\u001b[0m \u001b[0mtolerance\u001b[0m\u001b[0;34m=\u001b[0m\u001b[0mtolerance\u001b[0m\u001b[0;34m)\u001b[0m\u001b[0;34m\u001b[0m\u001b[0;34m\u001b[0m\u001b[0m\n\u001b[1;32m   2650\u001b[0m         \u001b[0;32mif\u001b[0m \u001b[0mindexer\u001b[0m\u001b[0;34m.\u001b[0m\u001b[0mndim\u001b[0m \u001b[0;34m>\u001b[0m \u001b[0;36m1\u001b[0m \u001b[0;32mor\u001b[0m \u001b[0mindexer\u001b[0m\u001b[0;34m.\u001b[0m\u001b[0msize\u001b[0m \u001b[0;34m>\u001b[0m \u001b[0;36m1\u001b[0m\u001b[0;34m:\u001b[0m\u001b[0;34m\u001b[0m\u001b[0;34m\u001b[0m\u001b[0m\n",
      "\u001b[0;32mpandas/_libs/index.pyx\u001b[0m in \u001b[0;36mpandas._libs.index.IndexEngine.get_loc\u001b[0;34m()\u001b[0m\n",
      "\u001b[0;32mpandas/_libs/index.pyx\u001b[0m in \u001b[0;36mpandas._libs.index.IndexEngine.get_loc\u001b[0;34m()\u001b[0m\n",
      "\u001b[0;32mpandas/_libs/hashtable_class_helper.pxi\u001b[0m in \u001b[0;36mpandas._libs.hashtable.PyObjectHashTable.get_item\u001b[0;34m()\u001b[0m\n",
      "\u001b[0;32mpandas/_libs/hashtable_class_helper.pxi\u001b[0m in \u001b[0;36mpandas._libs.hashtable.PyObjectHashTable.get_item\u001b[0;34m()\u001b[0m\n",
      "\u001b[0;31mKeyError\u001b[0m: 'cand'"
     ]
    }
   ],
   "source": [
    "pres16 = pres16[pres16[\"cand\"] == \"Donald Trump\"]\n",
    "pres16 = pres16[[\"pct\"]]\n",
    "\n",
    "pres16 = pres16[[\"pct_report\"]]\n",
    "pres16.dropna(inplace=True)\n",
    "pres16.head()"
   ]
  },
  {
   "cell_type": "code",
   "execution_count": null,
   "metadata": {},
   "outputs": [],
   "source": []
  },
  {
   "cell_type": "code",
   "execution_count": null,
   "metadata": {},
   "outputs": [],
   "source": []
  },
  {
   "cell_type": "code",
   "execution_count": null,
   "metadata": {},
   "outputs": [],
   "source": []
  },
  {
   "cell_type": "code",
   "execution_count": null,
   "metadata": {},
   "outputs": [],
   "source": []
  },
  {
   "cell_type": "code",
   "execution_count": null,
   "metadata": {},
   "outputs": [],
   "source": []
  },
  {
   "cell_type": "code",
   "execution_count": null,
   "metadata": {},
   "outputs": [],
   "source": []
  },
  {
   "cell_type": "code",
   "execution_count": null,
   "metadata": {},
   "outputs": [],
   "source": []
  }
 ]
}